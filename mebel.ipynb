{
 "cells": [
  {
   "cell_type": "code",
   "execution_count": 1,
   "metadata": {},
   "outputs": [],
   "source": [
    "import numpy as np # linear algebra\n",
    "import pandas as pd\n",
    "\n",
    "from termcolor import colored\n",
    "\n",
    "# Libraries for displying the data. \n",
    "from IPython.core.display import HTML \n",
    "from ipywidgets import interact\n",
    "from IPython.display import display\n",
    "\n",
    "%matplotlib inline"
   ]
  },
  {
   "cell_type": "code",
   "execution_count": 27,
   "metadata": {},
   "outputs": [],
   "source": [
    "trainingDF = pd.read_json(\"./train_df.json\", orient='index').T\n",
    "testDF = pd.read_json(\"./test_df.json\", orient='index').T\n",
    "validationDF = pd.read_json(\"./test_df.json\", orient='index').T"
   ]
  },
  {
   "cell_type": "code",
   "execution_count": 43,
   "metadata": {},
   "outputs": [],
   "source": [
    "trainingDF = trainingDF.drop('image_id', axis=1)\n",
    "testDF = testDF.drop('image_id', axis=1)\n",
    "validationDF = validationDF.drop('image_id', axis=1)"
   ]
  },
  {
   "cell_type": "code",
   "execution_count": 45,
   "metadata": {},
   "outputs": [
    {
     "data": {
      "text/plain": [
       "128"
      ]
     },
     "execution_count": 45,
     "metadata": {},
     "output_type": "execute_result"
    }
   ],
   "source": [
    "trainingDF['label_id'].max()"
   ]
  },
  {
   "cell_type": "code",
   "execution_count": 58,
   "metadata": {},
   "outputs": [
    {
     "data": {
      "text/html": [
       "<div><div style='position:relative;display:inline-block'><img style='width: 180px;height:180px; margin: 0px; float: left; border: 1px solid black;' src='http://img003.hc360.cn/y4/M05/27/87/wKhQiFWBZHOEENqeAAAAANtUX48924.jpg'/><div style='position:absolute;right:30px;color:red;font-size:30px;background-color:grey;padding:5px;opacity:0.5'>1</div></div><div style='position:relative;display:inline-block'><img style='width: 180px;height:180px; margin: 0px; float: left; border: 1px solid black;' src='http://img.gomein.net.cn/image/bbcimg/production_image/nimg/20140313/10/8003169795/106127096_360.jpg'/><div style='position:absolute;right:30px;color:red;font-size:30px;background-color:grey;padding:5px;opacity:0.5'>2</div></div><div style='position:relative;display:inline-block'><img style='width: 180px;height:180px; margin: 0px; float: left; border: 1px solid black;' src='https://img13.360buyimg.com/imgzone/jfs/t3265/36/7502036844/134444/cebb7a11/58b7bec1Nb4baf9af.jpg'/><div style='position:absolute;right:30px;color:red;font-size:30px;background-color:grey;padding:5px;opacity:0.5'>3</div></div><div style='position:relative;display:inline-block'><img style='width: 180px;height:180px; margin: 0px; float: left; border: 1px solid black;' src='http://imgsrc.baidu.com/imgad/pic/item/a686c9177f3e6709a7b9356131c79f3df9dc55f6.jpg'/><div style='position:absolute;right:30px;color:red;font-size:30px;background-color:grey;padding:5px;opacity:0.5'>4</div></div><div style='position:relative;display:inline-block'><img style='width: 180px;height:180px; margin: 0px; float: left; border: 1px solid black;' src='https://img12.360buyimg.com/imgzone/jfs/t4084/94/221123081/201918/6578c8b/58429ddeN528837b7.jpg'/><div style='position:absolute;right:30px;color:red;font-size:30px;background-color:grey;padding:5px;opacity:0.5'>5</div></div><div style='position:relative;display:inline-block'><img style='width: 180px;height:180px; margin: 0px; float: left; border: 1px solid black;' src='http://image2.suning.cn/b2c/catentries/000000000134875413_5_400x400.jpg'/><div style='position:absolute;right:30px;color:red;font-size:30px;background-color:grey;padding:5px;opacity:0.5'>6</div></div><div style='position:relative;display:inline-block'><img style='width: 180px;height:180px; margin: 0px; float: left; border: 1px solid black;' src='http://s14.sinaimg.cn/mw690/0019aX35zy76vyzSJVHad&690'/><div style='position:absolute;right:30px;color:red;font-size:30px;background-color:grey;padding:5px;opacity:0.5'>7</div></div><div style='position:relative;display:inline-block'><img style='width: 180px;height:180px; margin: 0px; float: left; border: 1px solid black;' src='https://img.alicdn.com/imgextra/TB2k.XbjFXXXXXRXXXXXXXXXXXX_!!1769874793.jpg'/><div style='position:absolute;right:30px;color:red;font-size:30px;background-color:grey;padding:5px;opacity:0.5'>8</div></div><div style='position:relative;display:inline-block'><img style='width: 180px;height:180px; margin: 0px; float: left; border: 1px solid black;' src='https://img12.360buyimg.com/imgzone/jfs/t3319/80/137236726/380049/7725ddf6/58004fa6N6ee3ba6b.jpg'/><div style='position:absolute;right:30px;color:red;font-size:30px;background-color:grey;padding:5px;opacity:0.5'>9</div></div><div style='position:relative;display:inline-block'><img style='width: 180px;height:180px; margin: 0px; float: left; border: 1px solid black;' src='http://gfs17.gomein.net.cn/T1M3dTBjVT1RCvBVdK_800.jpg'/><div style='position:absolute;right:30px;color:red;font-size:30px;background-color:grey;padding:5px;opacity:0.5'>10</div></div><div style='position:relative;display:inline-block'><img style='width: 180px;height:180px; margin: 0px; float: left; border: 1px solid black;' src='https://img13.360buyimg.com/imgzone/jfs/t7963/222/438777142/99221/ff7f1062/5992c99fN5a01f2cd.jpg'/><div style='position:absolute;right:30px;color:red;font-size:30px;background-color:grey;padding:5px;opacity:0.5'>11</div></div><div style='position:relative;display:inline-block'><img style='width: 180px;height:180px; margin: 0px; float: left; border: 1px solid black;' src='https://img10.360buyimg.com/imgzone/jfs/t2314/25/2865390747/210222/8c3d75d4/56f2659fN7a26f345.jpg'/><div style='position:absolute;right:30px;color:red;font-size:30px;background-color:grey;padding:5px;opacity:0.5'>12</div></div><div style='position:relative;display:inline-block'><img style='width: 180px;height:180px; margin: 0px; float: left; border: 1px solid black;' src='https://img.alicdn.com/imgextra/TB2sFzIbun85uJjSZFvXXXIgXXa_!!731824866.jpg'/><div style='position:absolute;right:30px;color:red;font-size:30px;background-color:grey;padding:5px;opacity:0.5'>13</div></div><div style='position:relative;display:inline-block'><img style='width: 180px;height:180px; margin: 0px; float: left; border: 1px solid black;' src='https://img13.360buyimg.com/imgzone/jfs/t367/305/483276694/94148/d9bdd3f0/541f91b8N0954f76d.jpg'/><div style='position:absolute;right:30px;color:red;font-size:30px;background-color:grey;padding:5px;opacity:0.5'>14</div></div><div style='position:relative;display:inline-block'><img style='width: 180px;height:180px; margin: 0px; float: left; border: 1px solid black;' src='http://cdn.shopify.com/s/files/1/0744/0467/products/muuto-nerd-chair_15_7ad3330b-7020-458b-9812-982989ff60d2.png?v=1483527487'/><div style='position:absolute;right:30px;color:red;font-size:30px;background-color:grey;padding:5px;opacity:0.5'>15</div></div><div style='position:relative;display:inline-block'><img style='width: 180px;height:180px; margin: 0px; float: left; border: 1px solid black;' src='https://img14.360buyimg.com/imgzone/jfs/t1531/203/743661167/45620/de523b01/55a71fb0Ndc27fdbb.jpg'/><div style='position:absolute;right:30px;color:red;font-size:30px;background-color:grey;padding:5px;opacity:0.5'>16</div></div><div style='position:relative;display:inline-block'><img style='width: 180px;height:180px; margin: 0px; float: left; border: 1px solid black;' src='http://s1.jiguo.com/baf39e3e-cfab-41cb-a2d7-fd6b71f62655/logo'/><div style='position:absolute;right:30px;color:red;font-size:30px;background-color:grey;padding:5px;opacity:0.5'>17</div></div><div style='position:relative;display:inline-block'><img style='width: 180px;height:180px; margin: 0px; float: left; border: 1px solid black;' src='https://img.alicdn.com/imgextra/TB2cLF6nv2H8KJjy0FcXXaDlFXa_!!3066203063.jpg'/><div style='position:absolute;right:30px;color:red;font-size:30px;background-color:grey;padding:5px;opacity:0.5'>18</div></div><div style='position:relative;display:inline-block'><img style='width: 180px;height:180px; margin: 0px; float: left; border: 1px solid black;' src='https://img.alicdn.com/imgextra/TB2MsFkqxXlpuFjSsphXXbJOXXa_!!116593751.jpg'/><div style='position:absolute;right:30px;color:red;font-size:30px;background-color:grey;padding:5px;opacity:0.5'>19</div></div><div style='position:relative;display:inline-block'><img style='width: 180px;height:180px; margin: 0px; float: left; border: 1px solid black;' src='http://img14.360buyimg.com/n12/jfs/t289/313/90487888/198264/d3559e17/54017a3bNe7c97fe9.jpg%21q70.jpg'/><div style='position:absolute;right:30px;color:red;font-size:30px;background-color:grey;padding:5px;opacity:0.5'>20</div></div><div style='position:relative;display:inline-block'><img style='width: 180px;height:180px; margin: 0px; float: left; border: 1px solid black;' src='http://www.bligh-water.com/userfiles/image/20160915/151051076afe9239ff1138.jpg'/><div style='position:absolute;right:30px;color:red;font-size:30px;background-color:grey;padding:5px;opacity:0.5'>21</div></div><div style='position:relative;display:inline-block'><img style='width: 180px;height:180px; margin: 0px; float: left; border: 1px solid black;' src='http://image6.huangye88.com/2013/06/27/fb74cb6d96c0067f.jpg'/><div style='position:absolute;right:30px;color:red;font-size:30px;background-color:grey;padding:5px;opacity:0.5'>22</div></div><div style='position:relative;display:inline-block'><img style='width: 180px;height:180px; margin: 0px; float: left; border: 1px solid black;' src='https://img10.360buyimg.com/imgzone/jfs/t14038/308/1252326731/86466/8079e103/5a1d39c7Nde000b55.jpg'/><div style='position:absolute;right:30px;color:red;font-size:30px;background-color:grey;padding:5px;opacity:0.5'>23</div></div><div style='position:relative;display:inline-block'><img style='width: 180px;height:180px; margin: 0px; float: left; border: 1px solid black;' src='https://img12.360buyimg.com/imgzone/jfs/t10159/14/473504139/213740/bf5b4720/59d02e85N2d612b63.jpg'/><div style='position:absolute;right:30px;color:red;font-size:30px;background-color:grey;padding:5px;opacity:0.5'>24</div></div><div style='position:relative;display:inline-block'><img style='width: 180px;height:180px; margin: 0px; float: left; border: 1px solid black;' src='https://img14.360buyimg.com/imgzone/jfs/t3829/18/3488498625/85532/9b583d7e/589acebdN344a2205.jpg'/><div style='position:absolute;right:30px;color:red;font-size:30px;background-color:grey;padding:5px;opacity:0.5'>25</div></div><div style='position:relative;display:inline-block'><img style='width: 180px;height:180px; margin: 0px; float: left; border: 1px solid black;' src='http://image5.huangye88.com/2014/05/19/0661bcd681a6c3f2.jpg'/><div style='position:absolute;right:30px;color:red;font-size:30px;background-color:grey;padding:5px;opacity:0.5'>26</div></div><div style='position:relative;display:inline-block'><img style='width: 180px;height:180px; margin: 0px; float: left; border: 1px solid black;' src='https://gw.alicdn.com/bao/uploaded/i4/TB1IOB.KpXXXXXqXVXXXXXXXXXX_!!0-item_pic.jpg_460x460xz.jpg'/><div style='position:absolute;right:30px;color:red;font-size:30px;background-color:grey;padding:5px;opacity:0.5'>27</div></div><div style='position:relative;display:inline-block'><img style='width: 180px;height:180px; margin: 0px; float: left; border: 1px solid black;' src='https://img11.360buyimg.com/imgzone/jfs/t3565/159/788484696/395914/559bb5e6/58134288Nf85926c6.jpg'/><div style='position:absolute;right:30px;color:red;font-size:30px;background-color:grey;padding:5px;opacity:0.5'>28</div></div><div style='position:relative;display:inline-block'><img style='width: 180px;height:180px; margin: 0px; float: left; border: 1px solid black;' src='http://img010.hc360.cn/m7/M0C/63/F8/wKhQo1V1L7CEWGjqAAAAAHFuMnk447.jpg'/><div style='position:absolute;right:30px;color:red;font-size:30px;background-color:grey;padding:5px;opacity:0.5'>29</div></div><div style='position:relative;display:inline-block'><img style='width: 180px;height:180px; margin: 0px; float: left; border: 1px solid black;' src='https://img.alicdn.com/imgextra/TB2pCg7nBUSMeJjy1zkXXaWmpXa_!!3428819217.jpg'/><div style='position:absolute;right:30px;color:red;font-size:30px;background-color:grey;padding:5px;opacity:0.5'>30</div></div><div style='position:relative;display:inline-block'><img style='width: 180px;height:180px; margin: 0px; float: left; border: 1px solid black;' src='https://img10.360buyimg.com/imgzone/jfs/t12268/44/1760371935/561303/84727d6e/5a28a2ebN45c3497a.jpg'/><div style='position:absolute;right:30px;color:red;font-size:30px;background-color:grey;padding:5px;opacity:0.5'>31</div></div><div style='position:relative;display:inline-block'><img style='width: 180px;height:180px; margin: 0px; float: left; border: 1px solid black;' src='https://img.alicdn.com/imgextra/TB1KZy5LVXXXXaUXVXXfl6i9FXX_044347.jpg'/><div style='position:absolute;right:30px;color:red;font-size:30px;background-color:grey;padding:5px;opacity:0.5'>32</div></div><div style='position:relative;display:inline-block'><img style='width: 180px;height:180px; margin: 0px; float: left; border: 1px solid black;' src='https://img11.360buyimg.com/imgzone/jfs/t3697/74/1027815937/26595/b2902b45/581af062N2d8fb237.jpg'/><div style='position:absolute;right:30px;color:red;font-size:30px;background-color:grey;padding:5px;opacity:0.5'>33</div></div><div style='position:relative;display:inline-block'><img style='width: 180px;height:180px; margin: 0px; float: left; border: 1px solid black;' src='http://static.jiaju.com/malljiaju/xhbox/64/13/4e75afdf3a0a401300a9.jpg'/><div style='position:absolute;right:30px;color:red;font-size:30px;background-color:grey;padding:5px;opacity:0.5'>34</div></div><div style='position:relative;display:inline-block'><img style='width: 180px;height:180px; margin: 0px; float: left; border: 1px solid black;' src='http://src.leju.com/imp/imp/deal/d7/80/a/f09c10c3628859e026322160e9f_p24_mk24_s500X0.jpg'/><div style='position:absolute;right:30px;color:red;font-size:30px;background-color:grey;padding:5px;opacity:0.5'>35</div></div><div style='position:relative;display:inline-block'><img style='width: 180px;height:180px; margin: 0px; float: left; border: 1px solid black;' src='http://img002.hc360.cn/m1/M05/E2/2A/wKhQcFRJPG-EXVgXAAAAAOyNovI654.jpg'/><div style='position:absolute;right:30px;color:red;font-size:30px;background-color:grey;padding:5px;opacity:0.5'>36</div></div><div style='position:relative;display:inline-block'><img style='width: 180px;height:180px; margin: 0px; float: left; border: 1px solid black;' src='https://img12.360buyimg.com/imgzone/g15/M00/05/01/rBEhWVL7X-wIAAAAAANV1BscmnAAAIcQAND-eoAA1Xs842.jpg'/><div style='position:absolute;right:30px;color:red;font-size:30px;background-color:grey;padding:5px;opacity:0.5'>37</div></div><div style='position:relative;display:inline-block'><img style='width: 180px;height:180px; margin: 0px; float: left; border: 1px solid black;' src='http://img.fuwo.com/attachment/1609/10/b32ebf74772b11e6af8900163e00254c.jpg'/><div style='position:absolute;right:30px;color:red;font-size:30px;background-color:grey;padding:5px;opacity:0.5'>38</div></div><div style='position:relative;display:inline-block'><img style='width: 180px;height:180px; margin: 0px; float: left; border: 1px solid black;' src='http://www.szthks.com/localimg/687474703a2f2f6777312e616c6963646e2e636f6d2f62616f2f75706c6f616465642f69342f544232616843626861386c7075466a7930467058586147727058615f212138363835303932352e6a7067.jpg'/><div style='position:absolute;right:30px;color:red;font-size:30px;background-color:grey;padding:5px;opacity:0.5'>39</div></div><div style='position:relative;display:inline-block'><img style='width: 180px;height:180px; margin: 0px; float: left; border: 1px solid black;' src='https://img11.360buyimg.com/imgzone/jfs/t11176/170/610954914/16577/535259a2/59f42e73N7dc304a8.png'/><div style='position:absolute;right:30px;color:red;font-size:30px;background-color:grey;padding:5px;opacity:0.5'>40</div></div><div style='position:relative;display:inline-block'><img style='width: 180px;height:180px; margin: 0px; float: left; border: 1px solid black;' src='https://img.alicdn.com/imgextra/TB2RvGyrBNkpuFjy0FaXXbRCVXa_!!2679139644.jpg'/><div style='position:absolute;right:30px;color:red;font-size:30px;background-color:grey;padding:5px;opacity:0.5'>41</div></div><div style='position:relative;display:inline-block'><img style='width: 180px;height:180px; margin: 0px; float: left; border: 1px solid black;' src='https://img.alicdn.com/imgextra/TB2YOdBlH_I8KJjy1XaXXbsxpXa_!!1096856063.jpg'/><div style='position:absolute;right:30px;color:red;font-size:30px;background-color:grey;padding:5px;opacity:0.5'>42</div></div><div style='position:relative;display:inline-block'><img style='width: 180px;height:180px; margin: 0px; float: left; border: 1px solid black;' src='https://img13.360buyimg.com/imgzone/jfs/t3871/52/588250827/39834/2d246529/5857902eN09c393fa.jpg'/><div style='position:absolute;right:30px;color:red;font-size:30px;background-color:grey;padding:5px;opacity:0.5'>43</div></div><div style='position:relative;display:inline-block'><img style='width: 180px;height:180px; margin: 0px; float: left; border: 1px solid black;' src='https://img11.360buyimg.com/imgzone/jfs/t2875/144/3536347451/106657/ed2e93fb/5791b7faNfad4ef5d.jpg'/><div style='position:absolute;right:30px;color:red;font-size:30px;background-color:grey;padding:5px;opacity:0.5'>44</div></div><div style='position:relative;display:inline-block'><img style='width: 180px;height:180px; margin: 0px; float: left; border: 1px solid black;' src='http://www.yoagoa.com/photos/info/20160621/20160621030024684.jpg'/><div style='position:absolute;right:30px;color:red;font-size:30px;background-color:grey;padding:5px;opacity:0.5'>45</div></div><div style='position:relative;display:inline-block'><img style='width: 180px;height:180px; margin: 0px; float: left; border: 1px solid black;' src='https://img.alicdn.com/imgextra/TB2TwS4XNz_F1JjSZFIXXcxHVXa_!!42319399.jpg'/><div style='position:absolute;right:30px;color:red;font-size:30px;background-color:grey;padding:5px;opacity:0.5'>46</div></div><div style='position:relative;display:inline-block'><img style='width: 180px;height:180px; margin: 0px; float: left; border: 1px solid black;' src='https://img.alicdn.com/imgextra/TB2WvjdjRDH8KJjy1zeXXXjepXa_!!3370585261.jpg'/><div style='position:absolute;right:30px;color:red;font-size:30px;background-color:grey;padding:5px;opacity:0.5'>47</div></div><div style='position:relative;display:inline-block'><img style='width: 180px;height:180px; margin: 0px; float: left; border: 1px solid black;' src='http://92led.net/upLoad/product/month_1204/201204022236153726.jpg'/><div style='position:absolute;right:30px;color:red;font-size:30px;background-color:grey;padding:5px;opacity:0.5'>48</div></div><div style='position:relative;display:inline-block'><img style='width: 180px;height:180px; margin: 0px; float: left; border: 1px solid black;' src='http://image5.huangye88.com/2014/10/23/fcf326c9d57e16fe.jpg'/><div style='position:absolute;right:30px;color:red;font-size:30px;background-color:grey;padding:5px;opacity:0.5'>49</div></div><div style='position:relative;display:inline-block'><img style='width: 180px;height:180px; margin: 0px; float: left; border: 1px solid black;' src='https://img13.360buyimg.com/imgzone/jfs/t6031/155/1040820225/133785/599ea5ff/592fbfd2N6d9e3aa1.jpg'/><div style='position:absolute;right:30px;color:red;font-size:30px;background-color:grey;padding:5px;opacity:0.5'>50</div></div><div style='position:relative;display:inline-block'><img style='width: 180px;height:180px; margin: 0px; float: left; border: 1px solid black;' src='https://img.alicdn.com/imgextra/TB2INDYeSJjpuFjy0FdXXXmoFXa_!!253939899.jpg'/><div style='position:absolute;right:30px;color:red;font-size:30px;background-color:grey;padding:5px;opacity:0.5'>51</div></div><div style='position:relative;display:inline-block'><img style='width: 180px;height:180px; margin: 0px; float: left; border: 1px solid black;' src='https://img14.360buyimg.com/imgzone/jfs/t7381/324/3988134268/323352/6bc34c5a/59fd8f4eN10e02d84.jpg'/><div style='position:absolute;right:30px;color:red;font-size:30px;background-color:grey;padding:5px;opacity:0.5'>52</div></div><div style='position:relative;display:inline-block'><img style='width: 180px;height:180px; margin: 0px; float: left; border: 1px solid black;' src='https://img13.360buyimg.com/imgzone/jfs/t6892/125/1508886791/331635/72e847e9/59828c7aN8fa0f1e4.jpg'/><div style='position:absolute;right:30px;color:red;font-size:30px;background-color:grey;padding:5px;opacity:0.5'>53</div></div><div style='position:relative;display:inline-block'><img style='width: 180px;height:180px; margin: 0px; float: left; border: 1px solid black;' src='http://image6.buy.ccb.com/images/115589739/1416795776668_4.jpg'/><div style='position:absolute;right:30px;color:red;font-size:30px;background-color:grey;padding:5px;opacity:0.5'>54</div></div><div style='position:relative;display:inline-block'><img style='width: 180px;height:180px; margin: 0px; float: left; border: 1px solid black;' src='http://www.babygarden.com.cn/images/TB1OvhEHpXXXXckXpXXXXXXXXXX_%21%210-item_pic.jpg_350x350.jpg'/><div style='position:absolute;right:30px;color:red;font-size:30px;background-color:grey;padding:5px;opacity:0.5'>55</div></div><div style='position:relative;display:inline-block'><img style='width: 180px;height:180px; margin: 0px; float: left; border: 1px solid black;' src='http://www.ys137.com/uploads/allimg/151104/3165-151104214050.jpg'/><div style='position:absolute;right:30px;color:red;font-size:30px;background-color:grey;padding:5px;opacity:0.5'>56</div></div><div style='position:relative;display:inline-block'><img style='width: 180px;height:180px; margin: 0px; float: left; border: 1px solid black;' src='https://cfshopeetw-a.akamaihd.net/file/0845489375fd13e98b0010852979c1df_tn'/><div style='position:absolute;right:30px;color:red;font-size:30px;background-color:grey;padding:5px;opacity:0.5'>57</div></div><div style='position:relative;display:inline-block'><img style='width: 180px;height:180px; margin: 0px; float: left; border: 1px solid black;' src='http://pic1.shejiben.com/mall/2013/09/25/20130925125834-2f451469_290.jpg'/><div style='position:absolute;right:30px;color:red;font-size:30px;background-color:grey;padding:5px;opacity:0.5'>58</div></div><div style='position:relative;display:inline-block'><img style='width: 180px;height:180px; margin: 0px; float: left; border: 1px solid black;' src='http://img000.hc360.cn/hb/MTQ2MDQ5ODYwMjU5MjEzODUzODA0NjI=.jpg'/><div style='position:absolute;right:30px;color:red;font-size:30px;background-color:grey;padding:5px;opacity:0.5'>59</div></div><div style='position:relative;display:inline-block'><img style='width: 180px;height:180px; margin: 0px; float: left; border: 1px solid black;' src='https://img12.360buyimg.com/imgzone/jfs/t8266/310/1990165653/79338/f0a165db/59c26023N00c83a86.jpg'/><div style='position:absolute;right:30px;color:red;font-size:30px;background-color:grey;padding:5px;opacity:0.5'>60</div></div><div style='position:relative;display:inline-block'><img style='width: 180px;height:180px; margin: 0px; float: left; border: 1px solid black;' src='https://img14.360buyimg.com/imgzone/jfs/t3274/236/3653893611/301233/cce42b7a/57f72205N4a47741a.jpg'/><div style='position:absolute;right:30px;color:red;font-size:30px;background-color:grey;padding:5px;opacity:0.5'>61</div></div><div style='position:relative;display:inline-block'><img style='width: 180px;height:180px; margin: 0px; float: left; border: 1px solid black;' src='https://img.alicdn.com/imgextra/TB2oIFHgPnD8KJjSspbXXbbEXXa_!!3485121409.jpg'/><div style='position:absolute;right:30px;color:red;font-size:30px;background-color:grey;padding:5px;opacity:0.5'>62</div></div><div style='position:relative;display:inline-block'><img style='width: 180px;height:180px; margin: 0px; float: left; border: 1px solid black;' src='http://img011.hc360.cn/g6/M04/65/E4/wKhQsVQbQMyEVymvAAAAAEWy7cs733.jpg'/><div style='position:absolute;right:30px;color:red;font-size:30px;background-color:grey;padding:5px;opacity:0.5'>63</div></div><div style='position:relative;display:inline-block'><img style='width: 180px;height:180px; margin: 0px; float: left; border: 1px solid black;' src='https://img11.360buyimg.com/imgzone/jfs/t2326/50/2269796778/166667/1500cac/56ce9833Nf289a9da.jpg'/><div style='position:absolute;right:30px;color:red;font-size:30px;background-color:grey;padding:5px;opacity:0.5'>64</div></div><div style='position:relative;display:inline-block'><img style='width: 180px;height:180px; margin: 0px; float: left; border: 1px solid black;' src='https://img11.360buyimg.com/imgzone/jfs/t7753/224/3186300152/327393/39019afa/59f00211N07b3b2dc.jpg'/><div style='position:absolute;right:30px;color:red;font-size:30px;background-color:grey;padding:5px;opacity:0.5'>65</div></div><div style='position:relative;display:inline-block'><img style='width: 180px;height:180px; margin: 0px; float: left; border: 1px solid black;' src='https://cbu01.alicdn.com/img/ibank/2017/561/490/7492094165_1314316157.310x310.jpg'/><div style='position:absolute;right:30px;color:red;font-size:30px;background-color:grey;padding:5px;opacity:0.5'>66</div></div><div style='position:relative;display:inline-block'><img style='width: 180px;height:180px; margin: 0px; float: left; border: 1px solid black;' src='https://img.alicdn.com/imgextra/TB2rDekhDvI8KJjSspjXXcgjXXa_!!193868872.jpg'/><div style='position:absolute;right:30px;color:red;font-size:30px;background-color:grey;padding:5px;opacity:0.5'>67</div></div><div style='position:relative;display:inline-block'><img style='width: 180px;height:180px; margin: 0px; float: left; border: 1px solid black;' src='http://img05.tooopen.com/images/20160321/tooopen_sy_156700138913.jpg'/><div style='position:absolute;right:30px;color:red;font-size:30px;background-color:grey;padding:5px;opacity:0.5'>68</div></div><div style='position:relative;display:inline-block'><img style='width: 180px;height:180px; margin: 0px; float: left; border: 1px solid black;' src='http://pic.youhaopin.com/taobao/40916932647_d3d6185e2af5b2b9e9fbb15f84361d04.jpg'/><div style='position:absolute;right:30px;color:red;font-size:30px;background-color:grey;padding:5px;opacity:0.5'>69</div></div><div style='position:relative;display:inline-block'><img style='width: 180px;height:180px; margin: 0px; float: left; border: 1px solid black;' src='http://imgsrc.baidu.com/imgad/pic/item/a1ec08fa513d26974a8728795ffbb2fb4316d8b9.jpg'/><div style='position:absolute;right:30px;color:red;font-size:30px;background-color:grey;padding:5px;opacity:0.5'>70</div></div><div style='position:relative;display:inline-block'><img style='width: 180px;height:180px; margin: 0px; float: left; border: 1px solid black;' src='http://img002.hc360.cn/hb/MTQ2MDYwMjAxNzI5NjMwNjUyMDQ3NQ==.jpg'/><div style='position:absolute;right:30px;color:red;font-size:30px;background-color:grey;padding:5px;opacity:0.5'>71</div></div><div style='position:relative;display:inline-block'><img style='width: 180px;height:180px; margin: 0px; float: left; border: 1px solid black;' src='http://img001.hc360.cn/g7/M01/D3/91/wKhQslQOtuGEJ8rVAAAAAMZpodQ897.jpg'/><div style='position:absolute;right:30px;color:red;font-size:30px;background-color:grey;padding:5px;opacity:0.5'>72</div></div><div style='position:relative;display:inline-block'><img style='width: 180px;height:180px; margin: 0px; float: left; border: 1px solid black;' src='http://imgsrc.baidu.com/image/c0%3Dshijue1%2C0%2C0%2C294%2C40/sign=653cd6d25bda81cb5aeb8b8e3a0fba63/38dbb6fd5266d016c176a00e9d2bd40735fa35ac.jpg'/><div style='position:absolute;right:30px;color:red;font-size:30px;background-color:grey;padding:5px;opacity:0.5'>73</div></div><div style='position:relative;display:inline-block'><img style='width: 180px;height:180px; margin: 0px; float: left; border: 1px solid black;' src='http://s18.mogucdn.com/p1/150822/1q2509_iezgcyzvgrrwcyrsgmzdambqmmyde_750x558.jpg_750x999.jpg'/><div style='position:absolute;right:30px;color:red;font-size:30px;background-color:grey;padding:5px;opacity:0.5'>74</div></div><div style='position:relative;display:inline-block'><img style='width: 180px;height:180px; margin: 0px; float: left; border: 1px solid black;' src='http://www.mzw98.com/Uploads/5a503d97ac1da.jpg'/><div style='position:absolute;right:30px;color:red;font-size:30px;background-color:grey;padding:5px;opacity:0.5'>75</div></div><div style='position:relative;display:inline-block'><img style='width: 180px;height:180px; margin: 0px; float: left; border: 1px solid black;' src='https://img12.360buyimg.com/imgzone/jfs/t14581/323/1991249059/288842/812e2c99/5a63987bN4a247a61.jpg'/><div style='position:absolute;right:30px;color:red;font-size:30px;background-color:grey;padding:5px;opacity:0.5'>76</div></div><div style='position:relative;display:inline-block'><img style='width: 180px;height:180px; margin: 0px; float: left; border: 1px solid black;' src='https://img13.360buyimg.com/imgzone/jfs/t6622/362/1904980536/217437/566cb59d/595a1110Nc4bfe2ea.jpg'/><div style='position:absolute;right:30px;color:red;font-size:30px;background-color:grey;padding:5px;opacity:0.5'>77</div></div><div style='position:relative;display:inline-block'><img style='width: 180px;height:180px; margin: 0px; float: left; border: 1px solid black;' src='http://i3.sinaimg.cn/IT/cr/2009/0216/4250792042.jpg'/><div style='position:absolute;right:30px;color:red;font-size:30px;background-color:grey;padding:5px;opacity:0.5'>78</div></div><div style='position:relative;display:inline-block'><img style='width: 180px;height:180px; margin: 0px; float: left; border: 1px solid black;' src='http://img.zcool.cn/community/01018a56b0ad5432f875520fcfef15.jpg@2o.jpg'/><div style='position:absolute;right:30px;color:red;font-size:30px;background-color:grey;padding:5px;opacity:0.5'>79</div></div><div style='position:relative;display:inline-block'><img style='width: 180px;height:180px; margin: 0px; float: left; border: 1px solid black;' src='http://www.liyangtuopan.com/images/T18wTcXoNfXXcelIfa_090352.jpg_400x400.jpg'/><div style='position:absolute;right:30px;color:red;font-size:30px;background-color:grey;padding:5px;opacity:0.5'>80</div></div><div style='position:relative;display:inline-block'><img style='width: 180px;height:180px; margin: 0px; float: left; border: 1px solid black;' src='http://img0.pconline.com.cn/pconline/1507/20/6721257_1_thumb.jpg'/><div style='position:absolute;right:30px;color:red;font-size:30px;background-color:grey;padding:5px;opacity:0.5'>81</div></div><div style='position:relative;display:inline-block'><img style='width: 180px;height:180px; margin: 0px; float: left; border: 1px solid black;' src='https://img11.360buyimg.com/imgzone/jfs/t3664/213/732901447/352975/ef377dcb/5811ad0fNfe760e7d.jpg'/><div style='position:absolute;right:30px;color:red;font-size:30px;background-color:grey;padding:5px;opacity:0.5'>82</div></div><div style='position:relative;display:inline-block'><img style='width: 180px;height:180px; margin: 0px; float: left; border: 1px solid black;' src='http://photo.go007.com/go007/2013/11/08/201311082673288171.jpg'/><div style='position:absolute;right:30px;color:red;font-size:30px;background-color:grey;padding:5px;opacity:0.5'>83</div></div><div style='position:relative;display:inline-block'><img style='width: 180px;height:180px; margin: 0px; float: left; border: 1px solid black;' src='https://img.alicdn.com/imgextra/TB2odMkbOpnpuFjSZFkXXc4ZpXa_!!1701873179.jpg'/><div style='position:absolute;right:30px;color:red;font-size:30px;background-color:grey;padding:5px;opacity:0.5'>84</div></div><div style='position:relative;display:inline-block'><img style='width: 180px;height:180px; margin: 0px; float: left; border: 1px solid black;' src='https://img13.360buyimg.com/imgzone/jfs/t922/323/1205184820/248293/86b00bc0/557fc7e0Nfe8c5982.jpg'/><div style='position:absolute;right:30px;color:red;font-size:30px;background-color:grey;padding:5px;opacity:0.5'>85</div></div><div style='position:relative;display:inline-block'><img style='width: 180px;height:180px; margin: 0px; float: left; border: 1px solid black;' src='https://img10.360buyimg.com/imgzone/jfs/t5344/73/671365306/456783/f0ade3dc/59049287N70c92595.jpg'/><div style='position:absolute;right:30px;color:red;font-size:30px;background-color:grey;padding:5px;opacity:0.5'>86</div></div><div style='position:relative;display:inline-block'><img style='width: 180px;height:180px; margin: 0px; float: left; border: 1px solid black;' src='https://img13.360buyimg.com/imgzone/jfs/t6553/289/443570988/268297/de9aaa30/593f8946N2553062c.jpg'/><div style='position:absolute;right:30px;color:red;font-size:30px;background-color:grey;padding:5px;opacity:0.5'>87</div></div><div style='position:relative;display:inline-block'><img style='width: 180px;height:180px; margin: 0px; float: left; border: 1px solid black;' src='https://img10.360buyimg.com/imgzone/jfs/t679/334/615234039/119414/b80da862/5476b241N33982506.jpg'/><div style='position:absolute;right:30px;color:red;font-size:30px;background-color:grey;padding:5px;opacity:0.5'>88</div></div><div style='position:relative;display:inline-block'><img style='width: 180px;height:180px; margin: 0px; float: left; border: 1px solid black;' src='http://pic.58pic.com/58pic/11/66/18/71758PICZrw.jpg'/><div style='position:absolute;right:30px;color:red;font-size:30px;background-color:grey;padding:5px;opacity:0.5'>89</div></div><div style='position:relative;display:inline-block'><img style='width: 180px;height:180px; margin: 0px; float: left; border: 1px solid black;' src='https://img13.360buyimg.com/imgzone/jfs/t5608/16/84041365/471374/89b4337a/59156a75Ne6d1735f.jpg'/><div style='position:absolute;right:30px;color:red;font-size:30px;background-color:grey;padding:5px;opacity:0.5'>90</div></div><div style='position:relative;display:inline-block'><img style='width: 180px;height:180px; margin: 0px; float: left; border: 1px solid black;' src='https://img.alicdn.com/imgextra/TB1UzZ_MVXXXXXrXXXXYXGcGpXX_M2.SS2'/><div style='position:absolute;right:30px;color:red;font-size:30px;background-color:grey;padding:5px;opacity:0.5'>91</div></div><div style='position:relative;display:inline-block'><img style='width: 180px;height:180px; margin: 0px; float: left; border: 1px solid black;' src='https://img14.360buyimg.com/imgzone/jfs/t2437/146/2590329170/126227/42b925c3/57104ce9Nafad546c.jpg'/><div style='position:absolute;right:30px;color:red;font-size:30px;background-color:grey;padding:5px;opacity:0.5'>92</div></div><div style='position:relative;display:inline-block'><img style='width: 180px;height:180px; margin: 0px; float: left; border: 1px solid black;' src='https://img.alicdn.com/imgextra/TB2kHoAaoo09KJjSZFDXXb9npXa_!!133639145.jpg'/><div style='position:absolute;right:30px;color:red;font-size:30px;background-color:grey;padding:5px;opacity:0.5'>93</div></div><div style='position:relative;display:inline-block'><img style='width: 180px;height:180px; margin: 0px; float: left; border: 1px solid black;' src='https://img.alicdn.com/imgextra/TB2J_rgav2H8KJjy1zkXXXr7pXa_!!2939486902.jpg'/><div style='position:absolute;right:30px;color:red;font-size:30px;background-color:grey;padding:5px;opacity:0.5'>94</div></div><div style='position:relative;display:inline-block'><img style='width: 180px;height:180px; margin: 0px; float: left; border: 1px solid black;' src='https://img11.360buyimg.com/imgzone/jfs/t12919/42/1633952339/463271/e2263a61/5a246042N99bac4be.jpg'/><div style='position:absolute;right:30px;color:red;font-size:30px;background-color:grey;padding:5px;opacity:0.5'>95</div></div><div style='position:relative;display:inline-block'><img style='width: 180px;height:180px; margin: 0px; float: left; border: 1px solid black;' src='https://img12.360buyimg.com/imgzone/jfs/t3181/90/69914934/174796/d5fc07bf/57a3190dN4b8b1676.jpg'/><div style='position:absolute;right:30px;color:red;font-size:30px;background-color:grey;padding:5px;opacity:0.5'>96</div></div><div style='position:relative;display:inline-block'><img style='width: 180px;height:180px; margin: 0px; float: left; border: 1px solid black;' src='https://img.alicdn.com/imgextra/TB2j7zvipXXXXbjXXXXXXXXXXXX_!!645053067.jpg'/><div style='position:absolute;right:30px;color:red;font-size:30px;background-color:grey;padding:5px;opacity:0.5'>97</div></div><div style='position:relative;display:inline-block'><img style='width: 180px;height:180px; margin: 0px; float: left; border: 1px solid black;' src='http://img13.360buyimg.com/popWaterMark/jfs/t172/60/1704452864/89946/4e9d70ee/53b66c0eN151d58c7.jpg'/><div style='position:absolute;right:30px;color:red;font-size:30px;background-color:grey;padding:5px;opacity:0.5'>98</div></div><div style='position:relative;display:inline-block'><img style='width: 180px;height:180px; margin: 0px; float: left; border: 1px solid black;' src='http://image5.huangye88.cn/2013/08/18/9590649f206dd33f.JPG'/><div style='position:absolute;right:30px;color:red;font-size:30px;background-color:grey;padding:5px;opacity:0.5'>99</div></div><div style='position:relative;display:inline-block'><img style='width: 180px;height:180px; margin: 0px; float: left; border: 1px solid black;' src='http://img10.360buyimg.com/imgzone/jfs/t265/18/904649350/148156/52286adb/53f309d2N6bfd8b99.jpg'/><div style='position:absolute;right:30px;color:red;font-size:30px;background-color:grey;padding:5px;opacity:0.5'>100</div></div><div style='position:relative;display:inline-block'><img style='width: 180px;height:180px; margin: 0px; float: left; border: 1px solid black;' src='https://img.alicdn.com/imgextra/TB25g.ueHtlpuFjSspfXXXLUpXa_!!2593135814.jpg'/><div style='position:absolute;right:30px;color:red;font-size:30px;background-color:grey;padding:5px;opacity:0.5'>101</div></div><div style='position:relative;display:inline-block'><img style='width: 180px;height:180px; margin: 0px; float: left; border: 1px solid black;' src='http://www.qhdqzw.com/images/T1zbVEFixhXXXXXXXX_%21%210-item_pic.jpg_400x400.jpg'/><div style='position:absolute;right:30px;color:red;font-size:30px;background-color:grey;padding:5px;opacity:0.5'>102</div></div><div style='position:relative;display:inline-block'><img style='width: 180px;height:180px; margin: 0px; float: left; border: 1px solid black;' src='https://img.alicdn.com/imgextra/TB2Nxb0tVXXXXbiXXXXXXXXXXXX_!!855241388.jpg'/><div style='position:absolute;right:30px;color:red;font-size:30px;background-color:grey;padding:5px;opacity:0.5'>103</div></div><div style='position:relative;display:inline-block'><img style='width: 180px;height:180px; margin: 0px; float: left; border: 1px solid black;' src='http://www.macromaison.com.tw/uploads/3c17b6b99da7f78d480e3a80d5c35aa9.jpg'/><div style='position:absolute;right:30px;color:red;font-size:30px;background-color:grey;padding:5px;opacity:0.5'>104</div></div><div style='position:relative;display:inline-block'><img style='width: 180px;height:180px; margin: 0px; float: left; border: 1px solid black;' src='https://img.alicdn.com/imgextra/TB2joPIl4rI8KJjy0FpXXb5hVXa_!!1676856865.jpg'/><div style='position:absolute;right:30px;color:red;font-size:30px;background-color:grey;padding:5px;opacity:0.5'>105</div></div><div style='position:relative;display:inline-block'><img style='width: 180px;height:180px; margin: 0px; float: left; border: 1px solid black;' src='http://himg.china.cn/0/4_212_22534_800_532.jpg'/><div style='position:absolute;right:30px;color:red;font-size:30px;background-color:grey;padding:5px;opacity:0.5'>106</div></div><div style='position:relative;display:inline-block'><img style='width: 180px;height:180px; margin: 0px; float: left; border: 1px solid black;' src='https://img.imynest.com/uploads/2/B7/2B7649F663.jpeg'/><div style='position:absolute;right:30px;color:red;font-size:30px;background-color:grey;padding:5px;opacity:0.5'>107</div></div><div style='position:relative;display:inline-block'><img style='width: 180px;height:180px; margin: 0px; float: left; border: 1px solid black;' src='https://img12.360buyimg.com/imgzone/jfs/t619/340/810969982/167487/56918483/548bb0bcN2b88fb11.jpg'/><div style='position:absolute;right:30px;color:red;font-size:30px;background-color:grey;padding:5px;opacity:0.5'>108</div></div><div style='position:relative;display:inline-block'><img style='width: 180px;height:180px; margin: 0px; float: left; border: 1px solid black;' src='http://d11.yihaodianimg.com/N08/M03/0A/78/ChEi1lkPJjKALBA1AAHIt59UZAg26100_640x640.jpg'/><div style='position:absolute;right:30px;color:red;font-size:30px;background-color:grey;padding:5px;opacity:0.5'>109</div></div><div style='position:relative;display:inline-block'><img style='width: 180px;height:180px; margin: 0px; float: left; border: 1px solid black;' src='https://img14.360buyimg.com/imgzone/jfs/t8320/176/2516013422/177801/ddba7b0/59d18a6fN1d05b47c.jpg'/><div style='position:absolute;right:30px;color:red;font-size:30px;background-color:grey;padding:5px;opacity:0.5'>110</div></div><div style='position:relative;display:inline-block'><img style='width: 180px;height:180px; margin: 0px; float: left; border: 1px solid black;' src='https://img.alicdn.com/imgextra/TB1xeM1LpXXXXbraXXXXXXXXXXX_!!0-item_pic.jpg'/><div style='position:absolute;right:30px;color:red;font-size:30px;background-color:grey;padding:5px;opacity:0.5'>111</div></div><div style='position:relative;display:inline-block'><img style='width: 180px;height:180px; margin: 0px; float: left; border: 1px solid black;' src='http://www.epinmedia.com/img/i1/T1o7doFIJaXXXXXXXX_%21%210-item_pic.jpg'/><div style='position:absolute;right:30px;color:red;font-size:30px;background-color:grey;padding:5px;opacity:0.5'>112</div></div><div style='position:relative;display:inline-block'><img style='width: 180px;height:180px; margin: 0px; float: left; border: 1px solid black;' src='https://img.alicdn.com/imgextra/TB11gMil7fb_uJjSsrbXXb6bVXa_!!0-item_pic.jpg'/><div style='position:absolute;right:30px;color:red;font-size:30px;background-color:grey;padding:5px;opacity:0.5'>113</div></div><div style='position:relative;display:inline-block'><img style='width: 180px;height:180px; margin: 0px; float: left; border: 1px solid black;' src='https://img.alicdn.com/imgextra/TB2MVGLboOO.eBjSZFLXXcxmXXa_!!2752297404.jpg'/><div style='position:absolute;right:30px;color:red;font-size:30px;background-color:grey;padding:5px;opacity:0.5'>114</div></div><div style='position:relative;display:inline-block'><img style='width: 180px;height:180px; margin: 0px; float: left; border: 1px solid black;' src='https://img13.360buyimg.com/imgzone/jfs/t3151/306/4339605957/200722/2d7ab03b/58411b56N6ec2ab69.jpg'/><div style='position:absolute;right:30px;color:red;font-size:30px;background-color:grey;padding:5px;opacity:0.5'>115</div></div><div style='position:relative;display:inline-block'><img style='width: 180px;height:180px; margin: 0px; float: left; border: 1px solid black;' src='https://img10.360buyimg.com/imgzone/jfs/t3700/177/1101064737/400905/69df6cf0/581c45b9Nea32f21c.jpg'/><div style='position:absolute;right:30px;color:red;font-size:30px;background-color:grey;padding:5px;opacity:0.5'>116</div></div><div style='position:relative;display:inline-block'><img style='width: 180px;height:180px; margin: 0px; float: left; border: 1px solid black;' src='https://img13.360buyimg.com/imgzone/jfs/t12589/150/82172269/646104/40efb200/5a031c6eNc39e3ee0.jpg'/><div style='position:absolute;right:30px;color:red;font-size:30px;background-color:grey;padding:5px;opacity:0.5'>117</div></div><div style='position:relative;display:inline-block'><img style='width: 180px;height:180px; margin: 0px; float: left; border: 1px solid black;' src='https://img11.360buyimg.com/imgzone/jfs/t5839/252/8525074754/53343/2592ba99/597b1e26Ned138b1f.jpg'/><div style='position:absolute;right:30px;color:red;font-size:30px;background-color:grey;padding:5px;opacity:0.5'>118</div></div><div style='position:relative;display:inline-block'><img style='width: 180px;height:180px; margin: 0px; float: left; border: 1px solid black;' src='https://img.alicdn.com/imgextra/TB2_yhYXj3nyKJjSZFHXXaTCpXa_!!2404866781.jpg'/><div style='position:absolute;right:30px;color:red;font-size:30px;background-color:grey;padding:5px;opacity:0.5'>119</div></div><div style='position:relative;display:inline-block'><img style='width: 180px;height:180px; margin: 0px; float: left; border: 1px solid black;' src='http://image5.suning.cn/b2c/catentries/000000000127585690_5_800x800.jpg'/><div style='position:absolute;right:30px;color:red;font-size:30px;background-color:grey;padding:5px;opacity:0.5'>120</div></div><div style='position:relative;display:inline-block'><img style='width: 180px;height:180px; margin: 0px; float: left; border: 1px solid black;' src='https://img14.360buyimg.com/imgzone/jfs/t16342/281/1221400292/62888/3ec2cc41/5a4ee683N88ba23f3.jpg'/><div style='position:absolute;right:30px;color:red;font-size:30px;background-color:grey;padding:5px;opacity:0.5'>121</div></div><div style='position:relative;display:inline-block'><img style='width: 180px;height:180px; margin: 0px; float: left; border: 1px solid black;' src='http://image.suning.cn/content/catentries/00000000010395/000000000103950592/fullimage/000000000103950592_1f.jpg'/><div style='position:absolute;right:30px;color:red;font-size:30px;background-color:grey;padding:5px;opacity:0.5'>122</div></div><div style='position:relative;display:inline-block'><img style='width: 180px;height:180px; margin: 0px; float: left; border: 1px solid black;' src='https://img10.360buyimg.com/imgzone/jfs/t4930/32/585774505/152989/635c996f/58e48cabNf437bc9a.jpg'/><div style='position:absolute;right:30px;color:red;font-size:30px;background-color:grey;padding:5px;opacity:0.5'>123</div></div><div style='position:relative;display:inline-block'><img style='width: 180px;height:180px; margin: 0px; float: left; border: 1px solid black;' src='http://pic.tugou.com/picture/1487845097_1462512.jpeg@815h_1e_1c'/><div style='position:absolute;right:30px;color:red;font-size:30px;background-color:grey;padding:5px;opacity:0.5'>124</div></div><div style='position:relative;display:inline-block'><img style='width: 180px;height:180px; margin: 0px; float: left; border: 1px solid black;' src='https://img13.360buyimg.com/imgzone/jfs/t3211/51/5070741602/280479/64a5e949/58635d5bN65929a85.jpg'/><div style='position:absolute;right:30px;color:red;font-size:30px;background-color:grey;padding:5px;opacity:0.5'>125</div></div><div style='position:relative;display:inline-block'><img style='width: 180px;height:180px; margin: 0px; float: left; border: 1px solid black;' src='http://img.fuwo.com/attachment/1608/13/3b13609460ba11e6834b00163e00254c.jpg'/><div style='position:absolute;right:30px;color:red;font-size:30px;background-color:grey;padding:5px;opacity:0.5'>126</div></div><div style='position:relative;display:inline-block'><img style='width: 180px;height:180px; margin: 0px; float: left; border: 1px solid black;' src='https://img.alicdn.com/imgextra/TB29yyzedqUQKJjSZFIXXcOkFXa_!!2051612614.jpg'/><div style='position:absolute;right:30px;color:red;font-size:30px;background-color:grey;padding:5px;opacity:0.5'>127</div></div><div style='position:relative;display:inline-block'><img style='width: 180px;height:180px; margin: 0px; float: left; border: 1px solid black;' src='http://static.fuwo.com/upload/attachment/1606/21/223b4080376811e682c600163e00254c.jpg'/><div style='position:absolute;right:30px;color:red;font-size:30px;background-color:grey;padding:5px;opacity:0.5'>128</div></div></div>"
      ],
      "text/plain": [
       "<IPython.core.display.HTML object>"
      ]
     },
     "metadata": {},
     "output_type": "display_data"
    }
   ],
   "source": [
    "def displayExamples(exampleIndex=10):\n",
    "    outHTML = \"<div>\"\n",
    "    for label in range(1,129):\n",
    "        img_style = \"width: 180px;height:180px; margin: 0px; float: left; border: 1px solid black;\"\n",
    "        captionDiv = \"<div style='position:absolute;right:30px;color:red;font-size:30px;background-color:grey;padding:5px;opacity:0.5'>\"+str(label)+\"</div>\"\n",
    "        outHTML += \"<div style='position:relative;display:inline-block'><img style='\"+img_style+\"' src='\"+trainingDF[trainingDF['label_id'] == label].iloc[exampleIndex][1]+\"'/>\"+captionDiv+\"</div>\"\n",
    "    outHTML += \"</div>\"\n",
    "    display(HTML(outHTML))\n",
    "\n",
    "displayExamples()"
   ]
  },
  {
   "cell_type": "code",
   "execution_count": null,
   "metadata": {},
   "outputs": [],
   "source": []
  },
  {
   "cell_type": "code",
   "execution_count": 129,
   "metadata": {},
   "outputs": [],
   "source": [
    "chairs = { # стулья\n",
    "            'стул': [15, 23, 26, 29, 63],\n",
    "            'табурет': [104],\n",
    "            'пуф': [120],\n",
    "            'кресло мягкое': [4, 22],\n",
    "            'кресло офисное': [3],\n",
    "            'кресло-мешок': [17],\n",
    "            'неизвестные стулья': [1, 6, 43, 55, 58, 83, 119]\n",
    "}\n",
    "storage = { # хранение\n",
    "            'шкаф': [24, 28], \n",
    "            'тумба под телевизор': [67, 113], \n",
    "            #'буфет': [75], \n",
    "            'этажерка': [25, 34], \n",
    "            'сервант': [61], \n",
    "            'книжный шкаф': [75], \n",
    "            'прикроватная тумба': [31],\n",
    "            'неизвестное хранение': [34, 62, 71, 103]\n",
    "}\n",
    "sofa = { # диван\n",
    "            'двухместный диван': [86],\n",
    "            'трёхместный диван': [21, 45], \n",
    "            #'угловой диван': [], \n",
    "            #'детский диван': [], \n",
    "            'тахта': [18, 94], \n",
    "            #'оттоман': [],\n",
    "            #'неизвестный диван': []\n",
    "}\n",
    "bed = { # кровать\n",
    "            #'одноместная кровать': [], \n",
    "            'двухместная кровать': [35, 38, 70, 101],\n",
    "            #'двухэтажная кровать': [],\n",
    "            'детская кровать': [117],\n",
    "            'неизвестная кровать': [10]\n",
    "}\n",
    "table = { # стол \n",
    "            'обеденный стол': [8, 126],\n",
    "            'офисный стол': [42],\n",
    "            'детский стол': [43],\n",
    "            'кофейный стол': [13],\n",
    "            'журнальный стол': [19, 80, 128],\n",
    "            'неизвестный стол': [59, 103, 91, 96]\n",
    "}"
   ]
  },
  {
   "cell_type": "code",
   "execution_count": 130,
   "metadata": {},
   "outputs": [
    {
     "name": "stdout",
     "output_type": "stream",
     "text": [
      "предполагаемая категория:  \u001b[31mобеденный стол\u001b[0m\n",
      "номер категории:  8\n"
     ]
    },
    {
     "data": {
      "text/html": [
       "<div><div style='position:relative;display:inline-block'><img style='width: 180px;height:180px; margin: 0px; float: left; border: 1px solid black;' src='https://img11.360buyimg.com/imgzone/jfs/t13894/346/426715533/256553/9996f157/5a0ba44cNe78c5c32.jpg'/></div><div style='position:relative;display:inline-block'><img style='width: 180px;height:180px; margin: 0px; float: left; border: 1px solid black;' src='https://cbu01.alicdn.com/img/ibank/2015/981/533/2284335189_1770927800.310x310.jpg'/></div><div style='position:relative;display:inline-block'><img style='width: 180px;height:180px; margin: 0px; float: left; border: 1px solid black;' src='http://img.haoliv.com/uploadfile/2014/1030/20141030051511168.jpg'/></div><div style='position:relative;display:inline-block'><img style='width: 180px;height:180px; margin: 0px; float: left; border: 1px solid black;' src='http://img1n.soufunimg.com/viewimage/zxb/2015_03/05/81/2/pic/004164954600/500x750.jpg'/></div><div style='position:relative;display:inline-block'><img style='width: 180px;height:180px; margin: 0px; float: left; border: 1px solid black;' src='https://img.alicdn.com/imgextra/TB2IhB2XbBmpuFjSZFuXXaG_XXa_!!1686572667.jpg'/></div><div style='position:relative;display:inline-block'><img style='width: 180px;height:180px; margin: 0px; float: left; border: 1px solid black;' src='https://img11.360buyimg.com/imgzone/jfs/t6436/294/1579979758/206405/ffd90bbf/5953c29bN72c2d65c.jpg'/></div><div style='position:relative;display:inline-block'><img style='width: 180px;height:180px; margin: 0px; float: left; border: 1px solid black;' src='https://img.alicdn.com/imgextra/TB2pwRdbaagSKJjy0FaXXb0dpXa_!!2403748047.jpg'/></div><div style='position:relative;display:inline-block'><img style='width: 180px;height:180px; margin: 0px; float: left; border: 1px solid black;' src='http://m.360buyimg.com/n12/jfs/t2020/307/1672589613/185638/126b1ffd/5667ee0cNf934ca2f.jpg%21q70.jpg'/></div><div style='position:relative;display:inline-block'><img style='width: 180px;height:180px; margin: 0px; float: left; border: 1px solid black;' src='https://img12.360buyimg.com/imgzone/jfs/t7534/266/4658181630/112233/8285be51/59daf1fbN1c4c95f7.jpg'/></div><div style='position:relative;display:inline-block'><img style='width: 180px;height:180px; margin: 0px; float: left; border: 1px solid black;' src='http://www.zisanhome.com/upload/Products/bigImg/201501282200101691.jpg'/></div><div style='position:relative;display:inline-block'><img style='width: 180px;height:180px; margin: 0px; float: left; border: 1px solid black;' src='https://img.alicdn.com/imgextra/TB2k.XbjFXXXXXRXXXXXXXXXXXX_!!1769874793.jpg'/></div><div style='position:relative;display:inline-block'><img style='width: 180px;height:180px; margin: 0px; float: left; border: 1px solid black;' src='https://img12.360buyimg.com/imgzone/jfs/t2668/78/3944494791/489259/c54c0be/57a6a1b0Nc61db7dd.jpg'/></div></div>"
      ],
      "text/plain": [
       "<IPython.core.display.HTML object>"
      ]
     },
     "metadata": {},
     "output_type": "display_data"
    },
    {
     "name": "stdout",
     "output_type": "stream",
     "text": [
      "номер категории:  126\n"
     ]
    },
    {
     "data": {
      "text/html": [
       "<div><div style='position:relative;display:inline-block'><img style='width: 180px;height:180px; margin: 0px; float: left; border: 1px solid black;' src='https://img10.360buyimg.com/imgzone/jfs/t5983/172/9618218634/238131/ded0241d/5994f55cNb25b5768.jpg'/></div><div style='position:relative;display:inline-block'><img style='width: 180px;height:180px; margin: 0px; float: left; border: 1px solid black;' src='https://img.alicdn.com/imgextra/TB2Hrfbb138SeJjSZFPXXc_vFXa_!!2025876342.jpg'/></div><div style='position:relative;display:inline-block'><img style='width: 180px;height:180px; margin: 0px; float: left; border: 1px solid black;' src='https://img10.360buyimg.com/imgzone/jfs/t6688/22/1863822465/513252/ac6d56d6/5959fbdcN91a639c4.jpg'/></div><div style='position:relative;display:inline-block'><img style='width: 180px;height:180px; margin: 0px; float: left; border: 1px solid black;' src='http://mmbiz.qpic.cn/mmbiz/ZRiclL9XoXmUDaPQYM3JXERf6lsDjQ9RmSYBb4DAN5nDDxxuBRvmpI1GuLBKN3Z4tI0ClXKia1TdnZxYbHBJus0Q/640?wx_fmt=jpeg&_ot=1513641600090'/></div><div style='position:relative;display:inline-block'><img style='width: 180px;height:180px; margin: 0px; float: left; border: 1px solid black;' src='http://cbu01.alicdn.com/img/ibank/2016/753/264/3405462357_1064488715.jpg'/></div><div style='position:relative;display:inline-block'><img style='width: 180px;height:180px; margin: 0px; float: left; border: 1px solid black;' src='http://img.alicdn.com/imgextra/i3/2076572679/TB2lmJGqVXXXXXcXFXXXXXXXXXX_%21%212076572679.jpg'/></div><div style='position:relative;display:inline-block'><img style='width: 180px;height:180px; margin: 0px; float: left; border: 1px solid black;' src='https://img.alicdn.com/imgextra/TB2AosXXiqfF1Jjy0FcXXcLdFXa_!!2783229232.jpg'/></div><div style='position:relative;display:inline-block'><img style='width: 180px;height:180px; margin: 0px; float: left; border: 1px solid black;' src='http://www.zisanhome.com/upload/Products/bigImg/201011060830325939.jpg'/></div><div style='position:relative;display:inline-block'><img style='width: 180px;height:180px; margin: 0px; float: left; border: 1px solid black;' src='https://img12.360buyimg.com/imgzone/jfs/t14263/4/1578142329/512107/a65616cf/5a519b52N3a025930.jpg'/></div><div style='position:relative;display:inline-block'><img style='width: 180px;height:180px; margin: 0px; float: left; border: 1px solid black;' src='http://img.11665.com/img3_p3/i3/2269717207/TB2sCSnfkWM.eBjSZFhXXbdWpXa_%21%212269717207.jpg'/></div><div style='position:relative;display:inline-block'><img style='width: 180px;height:180px; margin: 0px; float: left; border: 1px solid black;' src='http://img.fuwo.com/attachment/1608/13/3b13609460ba11e6834b00163e00254c.jpg'/></div><div style='position:relative;display:inline-block'><img style='width: 180px;height:180px; margin: 0px; float: left; border: 1px solid black;' src='http://img3.duitang.com/uploads/blog/201410/24/20141024133635_hXmdh.jpeg'/></div></div>"
      ],
      "text/plain": [
       "<IPython.core.display.HTML object>"
      ]
     },
     "metadata": {},
     "output_type": "display_data"
    },
    {
     "name": "stdout",
     "output_type": "stream",
     "text": [
      "предполагаемая категория:  \u001b[31mофисный стол\u001b[0m\n",
      "номер категории:  42\n"
     ]
    },
    {
     "data": {
      "text/html": [
       "<div><div style='position:relative;display:inline-block'><img style='width: 180px;height:180px; margin: 0px; float: left; border: 1px solid black;' src='http://k.zol-img.com.cn/diybbs/6080/a6079920.jpg'/></div><div style='position:relative;display:inline-block'><img style='width: 180px;height:180px; margin: 0px; float: left; border: 1px solid black;' src='https://img.alicdn.com/imgextra/TB2tchGtXXXXXaYXpXXXXXXXXXX_!!1069420075.jpg'/></div><div style='position:relative;display:inline-block'><img style='width: 180px;height:180px; margin: 0px; float: left; border: 1px solid black;' src='https://img.alicdn.com/imgextra/TB2A5F5kJfJ8KJjy0FeXXXKEXXa_!!3170238810.jpg'/></div><div style='position:relative;display:inline-block'><img style='width: 180px;height:180px; margin: 0px; float: left; border: 1px solid black;' src='http://pic.92to.com/365aw/201609/24/561f5dee97af6.jpg'/></div><div style='position:relative;display:inline-block'><img style='width: 180px;height:180px; margin: 0px; float: left; border: 1px solid black;' src='http://imgs.soufun.com/newshezuo/201508/21/204/1f48039f995fa1be96f9b223d4d0e423.jpeg'/></div><div style='position:relative;display:inline-block'><img style='width: 180px;height:180px; margin: 0px; float: left; border: 1px solid black;' src='http://img.wezhan.cn/content/sitefiles/32628/images/9902535_%E8%80%81%E6%9D%BF%E6%80%BB%E8%A3%81%E6%A1%8C%E7%BB%8F%E7%90%86%E4%B8%BB%E7%AE%A1%E6%A1%8C%E5%8A%9E%E5%85%AC%E6%A1%8C-6.jpeg'/></div><div style='position:relative;display:inline-block'><img style='width: 180px;height:180px; margin: 0px; float: left; border: 1px solid black;' src='http://sy.focus.cn/upload/photos/3617/9wPiejSD.jpg'/></div><div style='position:relative;display:inline-block'><img style='width: 180px;height:180px; margin: 0px; float: left; border: 1px solid black;' src='https://img11.360buyimg.com/imgzone/jfs/t3280/359/1799448352/361987/2bea0b15/57d526d2N2ecd2933.jpg'/></div><div style='position:relative;display:inline-block'><img style='width: 180px;height:180px; margin: 0px; float: left; border: 1px solid black;' src='http://img3.99114.com/2014/1/11/24/600_600/42144267.jpg'/></div><div style='position:relative;display:inline-block'><img style='width: 180px;height:180px; margin: 0px; float: left; border: 1px solid black;' src='https://gw.alicdn.com/bao/uploaded/i4/TB1anIjGFXXXXcCXFXXXXXXXXXX_!!0-item_pic.jpg_460x460xz.jpg'/></div><div style='position:relative;display:inline-block'><img style='width: 180px;height:180px; margin: 0px; float: left; border: 1px solid black;' src='https://img.alicdn.com/imgextra/TB2YOdBlH_I8KJjy1XaXXbsxpXa_!!1096856063.jpg'/></div><div style='position:relative;display:inline-block'><img style='width: 180px;height:180px; margin: 0px; float: left; border: 1px solid black;' src='http://imgsrc.baidu.com/imgad/pic/item/37d12f2eb9389b50b9d556758e35e5dde7116eeb.jpg'/></div></div>"
      ],
      "text/plain": [
       "<IPython.core.display.HTML object>"
      ]
     },
     "metadata": {},
     "output_type": "display_data"
    },
    {
     "name": "stdout",
     "output_type": "stream",
     "text": [
      "предполагаемая категория:  \u001b[31mдетский стол\u001b[0m\n",
      "номер категории:  43\n"
     ]
    },
    {
     "data": {
      "text/html": [
       "<div><div style='position:relative;display:inline-block'><img style='width: 180px;height:180px; margin: 0px; float: left; border: 1px solid black;' src='https://img14.360buyimg.com/imgzone/jfs/t3649/22/1202740606/82077/f618cb49/581fe7cdN260568c2.jpg'/></div><div style='position:relative;display:inline-block'><img style='width: 180px;height:180px; margin: 0px; float: left; border: 1px solid black;' src='https://cbu01.alicdn.com/img/ibank/2015/074/225/2541522470_1888819445.310x310.jpg'/></div><div style='position:relative;display:inline-block'><img style='width: 180px;height:180px; margin: 0px; float: left; border: 1px solid black;' src='https://img.alicdn.com/imgextra/TB2AB_JXU6EK1JjSZFDXXcIqFXa_!!2167252705.jpg'/></div><div style='position:relative;display:inline-block'><img style='width: 180px;height:180px; margin: 0px; float: left; border: 1px solid black;' src='https://img10.360buyimg.com/imgzone/jfs/t3241/276/7644106913/90007/babe1824/58b920fcN0c5edac9.jpg'/></div><div style='position:relative;display:inline-block'><img style='width: 180px;height:180px; margin: 0px; float: left; border: 1px solid black;' src='https://img14.360buyimg.com/imgzone/jfs/t1375/59/91058775/240592/92bd2d54/5556aaf7Nba1c4be7.jpg'/></div><div style='position:relative;display:inline-block'><img style='width: 180px;height:180px; margin: 0px; float: left; border: 1px solid black;' src='https://img07.hc360.cn/07/busin/800/356/b/07-80035627.JPG'/></div><div style='position:relative;display:inline-block'><img style='width: 180px;height:180px; margin: 0px; float: left; border: 1px solid black;' src='https://img.alicdn.com/imgextra/TB2tuR5l4HI8KJjy1zbXXaxdpXa_!!104305265.jpg'/></div><div style='position:relative;display:inline-block'><img style='width: 180px;height:180px; margin: 0px; float: left; border: 1px solid black;' src='http://img.shushi100.com/images/31611bd7-cc35-4b04-9bc1-8cc730212a25.jpg'/></div><div style='position:relative;display:inline-block'><img style='width: 180px;height:180px; margin: 0px; float: left; border: 1px solid black;' src='https://img11.360buyimg.com/imgzone/jfs/t9820/111/116978466/77653/8d2d9abc/59c63e93Ndbd6d9ae.jpg'/></div><div style='position:relative;display:inline-block'><img style='width: 180px;height:180px; margin: 0px; float: left; border: 1px solid black;' src='https://img11.360buyimg.com/imgzone/jfs/t12475/179/2072071841/223049/456414d0/5a3220a8Ne95f559c.jpg'/></div><div style='position:relative;display:inline-block'><img style='width: 180px;height:180px; margin: 0px; float: left; border: 1px solid black;' src='https://img13.360buyimg.com/imgzone/jfs/t3871/52/588250827/39834/2d246529/5857902eN09c393fa.jpg'/></div><div style='position:relative;display:inline-block'><img style='width: 180px;height:180px; margin: 0px; float: left; border: 1px solid black;' src='http://m.360buyimg.com/n12/jfs/t1417/113/74475789/175130/3e6403dd/55547979N164ac068.jpg%21q70.jpg'/></div></div>"
      ],
      "text/plain": [
       "<IPython.core.display.HTML object>"
      ]
     },
     "metadata": {},
     "output_type": "display_data"
    },
    {
     "name": "stdout",
     "output_type": "stream",
     "text": [
      "предполагаемая категория:  \u001b[31mкофейный стол\u001b[0m\n",
      "номер категории:  13\n"
     ]
    },
    {
     "data": {
      "text/html": [
       "<div><div style='position:relative;display:inline-block'><img style='width: 180px;height:180px; margin: 0px; float: left; border: 1px solid black;' src='https://img10.360buyimg.com/imgzone/jfs/t3127/169/3857203659/244978/2305cd26/57f9fefaNdf8262c1.jpg'/></div><div style='position:relative;display:inline-block'><img style='width: 180px;height:180px; margin: 0px; float: left; border: 1px solid black;' src='http://tgi12.jia.com/115/411/15411216.jpeg'/></div><div style='position:relative;display:inline-block'><img style='width: 180px;height:180px; margin: 0px; float: left; border: 1px solid black;' src='http://img4.114pifa.com/5170/KRmZMNSxe_1400850704.jpg'/></div><div style='position:relative;display:inline-block'><img style='width: 180px;height:180px; margin: 0px; float: left; border: 1px solid black;' src='http://img.xiugei.com/viewinfo/infoimgsps/chuangweideng/content1415669985615.png'/></div><div style='position:relative;display:inline-block'><img style='width: 180px;height:180px; margin: 0px; float: left; border: 1px solid black;' src='http://img-qncdn2.meilijia.com/photos/9106f88c67ba31a48bc1153b150c7211_s730.jpg'/></div><div style='position:relative;display:inline-block'><img style='width: 180px;height:180px; margin: 0px; float: left; border: 1px solid black;' src='http://image.gojiaju.com/userfile/lyfj/honors/201212221048144818.jpg'/></div><div style='position:relative;display:inline-block'><img style='width: 180px;height:180px; margin: 0px; float: left; border: 1px solid black;' src='https://img10.360buyimg.com/imgzone/jfs/t1909/158/1476613135/148103/234f1353/56b09065Nd62959c6.jpg'/></div><div style='position:relative;display:inline-block'><img style='width: 180px;height:180px; margin: 0px; float: left; border: 1px solid black;' src='http://image.gojiaju.com/userfile/lsbf/images/products/67083_1.jpg'/></div><div style='position:relative;display:inline-block'><img style='width: 180px;height:180px; margin: 0px; float: left; border: 1px solid black;' src='http://image.gojiaju.com/upfile/sihaikafend/images/products/61868_1.jpg'/></div><div style='position:relative;display:inline-block'><img style='width: 180px;height:180px; margin: 0px; float: left; border: 1px solid black;' src='http://www.wfjianmei.com/upload_files/tk11482580.jpg'/></div><div style='position:relative;display:inline-block'><img style='width: 180px;height:180px; margin: 0px; float: left; border: 1px solid black;' src='https://img.alicdn.com/imgextra/TB2sFzIbun85uJjSZFvXXXIgXXa_!!731824866.jpg'/></div><div style='position:relative;display:inline-block'><img style='width: 180px;height:180px; margin: 0px; float: left; border: 1px solid black;' src='http://img0.pchouse.com.cn/pchouse/1607/13/1630672_06.jpg'/></div></div>"
      ],
      "text/plain": [
       "<IPython.core.display.HTML object>"
      ]
     },
     "metadata": {},
     "output_type": "display_data"
    },
    {
     "name": "stdout",
     "output_type": "stream",
     "text": [
      "предполагаемая категория:  \u001b[31mжурнальный стол\u001b[0m\n",
      "номер категории:  19\n"
     ]
    },
    {
     "data": {
      "text/html": [
       "<div><div style='position:relative;display:inline-block'><img style='width: 180px;height:180px; margin: 0px; float: left; border: 1px solid black;' src='https://img11.360buyimg.com/imgzone/jfs/t15478/296/854452216/302901/5dcf3819/5a400ea6N13404c52.jpg'/></div><div style='position:relative;display:inline-block'><img style='width: 180px;height:180px; margin: 0px; float: left; border: 1px solid black;' src='https://img.alicdn.com/imgextra/TB28A7IanIlyKJjSZFMXXXvVXXa_!!476468286.jpg'/></div><div style='position:relative;display:inline-block'><img style='width: 180px;height:180px; margin: 0px; float: left; border: 1px solid black;' src='https://img11.360buyimg.com/imgzone/jfs/t13387/8/1163640068/410650/255d1e4e/5a3c8816Ndf140ae5.jpg'/></div><div style='position:relative;display:inline-block'><img style='width: 180px;height:180px; margin: 0px; float: left; border: 1px solid black;' src='http://img3.redocn.com/tupian/20151120/baiseshafahejinshuchajisucai_5357798.jpg'/></div><div style='position:relative;display:inline-block'><img style='width: 180px;height:180px; margin: 0px; float: left; border: 1px solid black;' src='https://img14.360buyimg.com/imgzone/jfs/t196/18/2381799563/365268/6eb52e83/53cf4a80N10ec4945.jpg'/></div><div style='position:relative;display:inline-block'><img style='width: 180px;height:180px; margin: 0px; float: left; border: 1px solid black;' src='http://l.b2b168.com/2009/09/10/14/20090910145917591937.jpg'/></div><div style='position:relative;display:inline-block'><img style='width: 180px;height:180px; margin: 0px; float: left; border: 1px solid black;' src='https://img14.360buyimg.com/imgzone/jfs/t3616/3/2170229980/597267/b985e344/5844b5dbN1daf127c.jpg'/></div><div style='position:relative;display:inline-block'><img style='width: 180px;height:180px; margin: 0px; float: left; border: 1px solid black;' src='https://img.alicdn.com/imgextra/TB1_DBTghPI8KJjSspfXXcCFXXa_!!0-item_pic.jpg'/></div><div style='position:relative;display:inline-block'><img style='width: 180px;height:180px; margin: 0px; float: left; border: 1px solid black;' src='http://www.biyebi.com/Attachments/baike/201607/57806cfe21090.jpg'/></div><div style='position:relative;display:inline-block'><img style='width: 180px;height:180px; margin: 0px; float: left; border: 1px solid black;' src='https://img.alicdn.com/imgextra/TB2TAlJahf9F1JjSZFNXXbtIVXa_!!263320395.jpg'/></div><div style='position:relative;display:inline-block'><img style='width: 180px;height:180px; margin: 0px; float: left; border: 1px solid black;' src='https://img.alicdn.com/imgextra/TB2MsFkqxXlpuFjSsphXXbJOXXa_!!116593751.jpg'/></div><div style='position:relative;display:inline-block'><img style='width: 180px;height:180px; margin: 0px; float: left; border: 1px solid black;' src='http://img.007swz.com/cpimg/ketingjiaju/ZLj9RgYKt1_1261377805.jpg'/></div></div>"
      ],
      "text/plain": [
       "<IPython.core.display.HTML object>"
      ]
     },
     "metadata": {},
     "output_type": "display_data"
    },
    {
     "name": "stdout",
     "output_type": "stream",
     "text": [
      "номер категории:  80\n"
     ]
    },
    {
     "data": {
      "text/html": [
       "<div><div style='position:relative;display:inline-block'><img style='width: 180px;height:180px; margin: 0px; float: left; border: 1px solid black;' src='http://img0.pchouse.com.cn/pchouse/1608/30/1683391_1.png'/></div><div style='position:relative;display:inline-block'><img style='width: 180px;height:180px; margin: 0px; float: left; border: 1px solid black;' src='http://n.skxox.cn/import.jpg?u=http%3a%2f%2fimg.alicdn.com%2fbao%2fuploaded%2fi1%2f1770409578%2fTB15H9LfgoQMeJjy0FnXXb8gFXa_%21%210-item_pic.jpg_300x300.jpg&k=C25A1104B66687E43ED0A5CDAFF1449A34BF793C'/></div><div style='position:relative;display:inline-block'><img style='width: 180px;height:180px; margin: 0px; float: left; border: 1px solid black;' src='https://img.alicdn.com/imgextra/TB1mGxUPVXXXXX2aXXXYXGcGpXX_M2.SS2'/></div><div style='position:relative;display:inline-block'><img style='width: 180px;height:180px; margin: 0px; float: left; border: 1px solid black;' src='https://img.alicdn.com/imgextra/TB2Te1Ze3oQMeJjy0FnXXb8gFXa_!!475607980.jpg'/></div><div style='position:relative;display:inline-block'><img style='width: 180px;height:180px; margin: 0px; float: left; border: 1px solid black;' src='https://img12.360buyimg.com/imgzone/jfs/t16111/330/800108743/451950/6dff6bf/5a40e507N281a43aa.jpg'/></div><div style='position:relative;display:inline-block'><img style='width: 180px;height:180px; margin: 0px; float: left; border: 1px solid black;' src='http://www.tezyhsd.com/images/201705/goods_img/3_G_1494289736950.jpg'/></div><div style='position:relative;display:inline-block'><img style='width: 180px;height:180px; margin: 0px; float: left; border: 1px solid black;' src='https://img10.360buyimg.com/imgzone/jfs/t12274/320/2667084663/126147/5b6cbd10/5a47553cNcd0cfb6f.jpg'/></div><div style='position:relative;display:inline-block'><img style='width: 180px;height:180px; margin: 0px; float: left; border: 1px solid black;' src='http://pic36.photophoto.cn/20150804/0037037320724322_b.jpg'/></div><div style='position:relative;display:inline-block'><img style='width: 180px;height:180px; margin: 0px; float: left; border: 1px solid black;' src='https://img.alicdn.com/imgextra/TB2sEVqlFXXXXaKXXXXXXXXXXXX_!!1690573420.jpg'/></div><div style='position:relative;display:inline-block'><img style='width: 180px;height:180px; margin: 0px; float: left; border: 1px solid black;' src='https://img.alicdn.com/imgextra/TB1MH4tIXXXXXcBXXXXXXXXXXXX_!!0-item_pic.jpg'/></div><div style='position:relative;display:inline-block'><img style='width: 180px;height:180px; margin: 0px; float: left; border: 1px solid black;' src='http://www.liyangtuopan.com/images/T18wTcXoNfXXcelIfa_090352.jpg_400x400.jpg'/></div><div style='position:relative;display:inline-block'><img style='width: 180px;height:180px; margin: 0px; float: left; border: 1px solid black;' src='https://img14.360buyimg.com/imgzone/jfs/t15505/166/879876638/272686/acafa905/5a41a5a7N5219eb33.jpg'/></div></div>"
      ],
      "text/plain": [
       "<IPython.core.display.HTML object>"
      ]
     },
     "metadata": {},
     "output_type": "display_data"
    },
    {
     "name": "stdout",
     "output_type": "stream",
     "text": [
      "номер категории:  128\n"
     ]
    },
    {
     "data": {
      "text/html": [
       "<div><div style='position:relative;display:inline-block'><img style='width: 180px;height:180px; margin: 0px; float: left; border: 1px solid black;' src='https://img.alicdn.com/imgextra/TB1QV6jIFXXXXb8XVXXXXXXXXXX_!!0-item_pic.jpg'/></div><div style='position:relative;display:inline-block'><img style='width: 180px;height:180px; margin: 0px; float: left; border: 1px solid black;' src='https://img13.360buyimg.com/imgzone/jfs/t13855/148/2277359528/238542/ceda29c3/5a38e141N104a3953.jpg'/></div><div style='position:relative;display:inline-block'><img style='width: 180px;height:180px; margin: 0px; float: left; border: 1px solid black;' src='https://img.alicdn.com/imgextra/TB1ERHaFVXXXXamXXXXXXXXXXXX_!!0-item_pic.jpg'/></div><div style='position:relative;display:inline-block'><img style='width: 180px;height:180px; margin: 0px; float: left; border: 1px solid black;' src='http://pmoe0d350.pic35.websiteonline.cn/upload/RT5062.jpg'/></div><div style='position:relative;display:inline-block'><img style='width: 180px;height:180px; margin: 0px; float: left; border: 1px solid black;' src='http://img04.tooopen.com/images/20131106/sy_45913032617.jpg'/></div><div style='position:relative;display:inline-block'><img style='width: 180px;height:180px; margin: 0px; float: left; border: 1px solid black;' src='http://image.gojiaju.com/upfile/aikejia/images/products/42664_1.jpg'/></div><div style='position:relative;display:inline-block'><img style='width: 180px;height:180px; margin: 0px; float: left; border: 1px solid black;' src='https://img13.360buyimg.com/imgzone/jfs/t16348/100/1362835153/474119/5be8e4a/5a517d3eNb82fe243.jpg'/></div><div style='position:relative;display:inline-block'><img style='width: 180px;height:180px; margin: 0px; float: left; border: 1px solid black;' src='https://img.alicdn.com/imgextra/TB2U3JkhdhvOuFjSZFBXXcZgFXa_!!1934458280.jpg'/></div><div style='position:relative;display:inline-block'><img style='width: 180px;height:180px; margin: 0px; float: left; border: 1px solid black;' src='https://img11.360buyimg.com/imgzone/jfs/t3991/325/254842207/96461/a80ae8ac/58b010ebN3560ff0f.jpg'/></div><div style='position:relative;display:inline-block'><img style='width: 180px;height:180px; margin: 0px; float: left; border: 1px solid black;' src='https://img13.360buyimg.com/imgzone/jfs/t6769/179/2350102071/225858/c8829f88/598bbdabN0e93fc1f.jpg'/></div><div style='position:relative;display:inline-block'><img style='width: 180px;height:180px; margin: 0px; float: left; border: 1px solid black;' src='http://static.fuwo.com/upload/attachment/1606/21/223b4080376811e682c600163e00254c.jpg'/></div><div style='position:relative;display:inline-block'><img style='width: 180px;height:180px; margin: 0px; float: left; border: 1px solid black;' src='https://img.alicdn.com/imgextra/TB29eK7cZeK.eBjSszgXXczFpXa_!!2636781079.jpg'/></div></div>"
      ],
      "text/plain": [
       "<IPython.core.display.HTML object>"
      ]
     },
     "metadata": {},
     "output_type": "display_data"
    },
    {
     "name": "stdout",
     "output_type": "stream",
     "text": [
      "предполагаемая категория:  \u001b[31mнеизвестный стол\u001b[0m\n",
      "номер категории:  59\n"
     ]
    },
    {
     "data": {
      "text/html": [
       "<div><div style='position:relative;display:inline-block'><img style='width: 180px;height:180px; margin: 0px; float: left; border: 1px solid black;' src='http://m.360buyimg.com/n12/g15/M06/00/04/rBEhWlHeElkIAAAAAAJTN7A4UikAAA72gP89gMAAlNP242.jpg%21q70.jpg'/></div><div style='position:relative;display:inline-block'><img style='width: 180px;height:180px; margin: 0px; float: left; border: 1px solid black;' src='http://image5.suning.cn/uimg/b2c/newcatentries/0070064088-000000000142975028_1_800x800.jpg'/></div><div style='position:relative;display:inline-block'><img style='width: 180px;height:180px; margin: 0px; float: left; border: 1px solid black;' src='https://img.alicdn.com/imgextra/TB294Acf4uaVKJjSZFjXXcjmpXa_!!2228294616.jpg'/></div><div style='position:relative;display:inline-block'><img style='width: 180px;height:180px; margin: 0px; float: left; border: 1px solid black;' src='https://img.alicdn.com/imgextra/TB27gezvSBjpuFjSsplXXa5MVXa_!!2862846283.jpg'/></div><div style='position:relative;display:inline-block'><img style='width: 180px;height:180px; margin: 0px; float: left; border: 1px solid black;' src='http://img002.hc360.cn/y3/M05/01/D3/wKhQh1UBRD2EHidRAAAAAJbZ2CM275.jpg'/></div><div style='position:relative;display:inline-block'><img style='width: 180px;height:180px; margin: 0px; float: left; border: 1px solid black;' src='http://m.360buyimg.com/n12/jfs/t1918/230/318922202/118627/ef9d3d1e/55ffb83cNb0601dfe.jpg%21q70.jpg'/></div><div style='position:relative;display:inline-block'><img style='width: 180px;height:180px; margin: 0px; float: left; border: 1px solid black;' src='http://www.dianmeng.com/taobaowanggouwu/tupian/200906/20090610235642207449.jpg'/></div><div style='position:relative;display:inline-block'><img style='width: 180px;height:180px; margin: 0px; float: left; border: 1px solid black;' src='https://img11.360buyimg.com/imgzone/jfs/t7795/23/1324707214/58122/66d7f4d6/599c2178N21822cc5.jpg'/></div><div style='position:relative;display:inline-block'><img style='width: 180px;height:180px; margin: 0px; float: left; border: 1px solid black;' src='http://www.6zcool.com/gimg.php?url=aHR0cDovL2ltZzMudGJjZG4uY24vdGZzY29tL2kyL1RCMVExa3FKWFhYWFhjZ1hWWFhYWFhYWFhYWF8hITAtaXRlbV9waWMuanBn'/></div><div style='position:relative;display:inline-block'><img style='width: 180px;height:180px; margin: 0px; float: left; border: 1px solid black;' src='http://d6.yihaodianimg.com/N06/M09/B6/15/CgQIzVQ00_2ALxjVAAC0moD832k73600.jpg'/></div><div style='position:relative;display:inline-block'><img style='width: 180px;height:180px; margin: 0px; float: left; border: 1px solid black;' src='http://img000.hc360.cn/hb/MTQ2MDQ5ODYwMjU5MjEzODUzODA0NjI=.jpg'/></div><div style='position:relative;display:inline-block'><img style='width: 180px;height:180px; margin: 0px; float: left; border: 1px solid black;' src='https://img.alicdn.com/imgextra/TB2ozCCfHsTMeJjy1zeXXcOCVXa_!!2943531456.jpg'/></div></div>"
      ],
      "text/plain": [
       "<IPython.core.display.HTML object>"
      ]
     },
     "metadata": {},
     "output_type": "display_data"
    },
    {
     "name": "stdout",
     "output_type": "stream",
     "text": [
      "номер категории:  103\n"
     ]
    },
    {
     "data": {
      "text/html": [
       "<div><div style='position:relative;display:inline-block'><img style='width: 180px;height:180px; margin: 0px; float: left; border: 1px solid black;' src='https://img11.360buyimg.com/imgzone/jfs/t13441/274/2333448046/225753/5d3de7b2/5a509485Nc20b677d.jpg'/></div><div style='position:relative;display:inline-block'><img style='width: 180px;height:180px; margin: 0px; float: left; border: 1px solid black;' src='https://img.alicdn.com/imgextra/TB25L24a49fF1Jjy1XcXXc_rVXa_!!3012184801.jpg'/></div><div style='position:relative;display:inline-block'><img style='width: 180px;height:180px; margin: 0px; float: left; border: 1px solid black;' src='http://static.julytime.com/upload/commodity/f2/18/272742834270f218397d0ddb.jpg_278x278.jpg'/></div><div style='position:relative;display:inline-block'><img style='width: 180px;height:180px; margin: 0px; float: left; border: 1px solid black;' src='https://img.alicdn.com/imgextra/TB2MMA7f9YH8KJjSspdXXcRgVXa_!!3034963018.jpg'/></div><div style='position:relative;display:inline-block'><img style='width: 180px;height:180px; margin: 0px; float: left; border: 1px solid black;' src='https://img.alicdn.com/imgextra/TB2ybSgtXXXXXcyXpXXXXXXXXXX_!!2609061851.jpg'/></div><div style='position:relative;display:inline-block'><img style='width: 180px;height:180px; margin: 0px; float: left; border: 1px solid black;' src='http://www.huanai.com/images/201608/goods_img/2760_P_1472086066160.jpg'/></div><div style='position:relative;display:inline-block'><img style='width: 180px;height:180px; margin: 0px; float: left; border: 1px solid black;' src='https://img12.360buyimg.com/imgzone/jfs/t15367/51/1107443143/80751/cd042e0/5a45acafNce17452e.jpg'/></div><div style='position:relative;display:inline-block'><img style='width: 180px;height:180px; margin: 0px; float: left; border: 1px solid black;' src='https://img.alicdn.com/imgextra/TB2_ARfiNTI8KJjSspiXXbM4FXa_!!2196866468.jpg'/></div><div style='position:relative;display:inline-block'><img style='width: 180px;height:180px; margin: 0px; float: left; border: 1px solid black;' src='https://img.alicdn.com/imgextra/TB2_R.eaunAQeBjSZFkXXaC5FXa_!!264103440.jpg'/></div><div style='position:relative;display:inline-block'><img style='width: 180px;height:180px; margin: 0px; float: left; border: 1px solid black;' src='https://img.alicdn.com/imgextra/TB1PcXhagAq0eJjSZFtXXc.qVXa_!!0-item_pic.jpg'/></div><div style='position:relative;display:inline-block'><img style='width: 180px;height:180px; margin: 0px; float: left; border: 1px solid black;' src='https://img.alicdn.com/imgextra/TB2Nxb0tVXXXXbiXXXXXXXXXXXX_!!855241388.jpg'/></div><div style='position:relative;display:inline-block'><img style='width: 180px;height:180px; margin: 0px; float: left; border: 1px solid black;' src='http://img.yidoutang.com/upload/sharing/normal/201704/ee/201704081116e2ee.jpg!500'/></div></div>"
      ],
      "text/plain": [
       "<IPython.core.display.HTML object>"
      ]
     },
     "metadata": {},
     "output_type": "display_data"
    },
    {
     "name": "stdout",
     "output_type": "stream",
     "text": [
      "номер категории:  91\n"
     ]
    },
    {
     "data": {
      "text/html": [
       "<div><div style='position:relative;display:inline-block'><img style='width: 180px;height:180px; margin: 0px; float: left; border: 1px solid black;' src='https://img.alicdn.com/imgextra/TB1pH3vcBDH8KJjSszcXXbDTFXa_!!0-item_pic.jpg'/></div><div style='position:relative;display:inline-block'><img style='width: 180px;height:180px; margin: 0px; float: left; border: 1px solid black;' src='http://img.alicdn.com/bao/uploaded/i3/6000000006103/TB2GbhtllDH8KJjSszcXXbDTFXa_!!0-fleamarket.jpg'/></div><div style='position:relative;display:inline-block'><img style='width: 180px;height:180px; margin: 0px; float: left; border: 1px solid black;' src='https://img14.360buyimg.com/imgzone/jfs/t3169/274/3666432207/249802/e95c885d/57f5f47cN3272ab22.jpg'/></div><div style='position:relative;display:inline-block'><img style='width: 180px;height:180px; margin: 0px; float: left; border: 1px solid black;' src='https://img.alicdn.com/imgextra/TB1J3m1avfM8KJjSZPfYXHklXXa_M2.SS2'/></div><div style='position:relative;display:inline-block'><img style='width: 180px;height:180px; margin: 0px; float: left; border: 1px solid black;' src='http://img1.bmlink.com/big/supply/2014/10/1/10/850651124422742.jpg'/></div><div style='position:relative;display:inline-block'><img style='width: 180px;height:180px; margin: 0px; float: left; border: 1px solid black;' src='https://img14.360buyimg.com/imgzone/jfs/t15796/313/1334913168/553125/32f8ca85/5a4f8d66N0a9fc05b.jpg'/></div><div style='position:relative;display:inline-block'><img style='width: 180px;height:180px; margin: 0px; float: left; border: 1px solid black;' src='https://img.alicdn.com/imgextra/TB2IEXvzHJmpuFjSZFwXXaE4VXa_!!3167779970.jpg'/></div><div style='position:relative;display:inline-block'><img style='width: 180px;height:180px; margin: 0px; float: left; border: 1px solid black;' src='http://s8.sinaimg.cn/middle/613e4181g71ddb71ad927&690'/></div><div style='position:relative;display:inline-block'><img style='width: 180px;height:180px; margin: 0px; float: left; border: 1px solid black;' src='http://hongweijiaji.wotobang.com/uploads/source_img/43449038281.jpg'/></div><div style='position:relative;display:inline-block'><img style='width: 180px;height:180px; margin: 0px; float: left; border: 1px solid black;' src='https://img.alicdn.com/imgextra/TB2y1ZSb2al9eJjSZFzXXaITVXa_!!2240346641.jpg'/></div><div style='position:relative;display:inline-block'><img style='width: 180px;height:180px; margin: 0px; float: left; border: 1px solid black;' src='https://img.alicdn.com/imgextra/TB1UzZ_MVXXXXXrXXXXYXGcGpXX_M2.SS2'/></div><div style='position:relative;display:inline-block'><img style='width: 180px;height:180px; margin: 0px; float: left; border: 1px solid black;' src='http://img011.hc360.cn/g7/M05/6F/BF/wKhQtFQWkK2ETBbnAAAAACtyhRw671.jpg'/></div></div>"
      ],
      "text/plain": [
       "<IPython.core.display.HTML object>"
      ]
     },
     "metadata": {},
     "output_type": "display_data"
    },
    {
     "name": "stdout",
     "output_type": "stream",
     "text": [
      "номер категории:  96\n"
     ]
    },
    {
     "data": {
      "text/html": [
       "<div><div style='position:relative;display:inline-block'><img style='width: 180px;height:180px; margin: 0px; float: left; border: 1px solid black;' src='http://www.kft888.com/UploadFiles/FCK/2014-05-20/6353621613454687501307346.jpg'/></div><div style='position:relative;display:inline-block'><img style='width: 180px;height:180px; margin: 0px; float: left; border: 1px solid black;' src='http://file14.zk71.com/File/CorpEditInsertImages/2016/04/13/0_taoci_5020_20160413160046.jpg'/></div><div style='position:relative;display:inline-block'><img style='width: 180px;height:180px; margin: 0px; float: left; border: 1px solid black;' src='https://img.alicdn.com/imgextra/TB2fjmBby0TMKJjSZFNXXa_1FXa_!!3216771363.jpg'/></div><div style='position:relative;display:inline-block'><img style='width: 180px;height:180px; margin: 0px; float: left; border: 1px solid black;' src='https://img.alicdn.com/imgextra/TB2OvxieypnpuFjSZFkXXc4ZpXa_!!2968271599.jpg'/></div><div style='position:relative;display:inline-block'><img style='width: 180px;height:180px; margin: 0px; float: left; border: 1px solid black;' src='http://img23.hc360.cn/23/busin/127/990/b/23-127990583.jpg'/></div><div style='position:relative;display:inline-block'><img style='width: 180px;height:180px; margin: 0px; float: left; border: 1px solid black;' src='http://img1.soufunimg.com/viewimage/zxb/2014_09/09/66/40/pic/004710513700/312x312c.jpg'/></div><div style='position:relative;display:inline-block'><img style='width: 180px;height:180px; margin: 0px; float: left; border: 1px solid black;' src='https://img.alicdn.com/imgextra/TB2j_Z9ggJkpuFjSszcXXXfsFXa_!!362391967.jpg'/></div><div style='position:relative;display:inline-block'><img style='width: 180px;height:180px; margin: 0px; float: left; border: 1px solid black;' src='https://img.alicdn.com/imgextra/TB2z_NRyYxmpuFjSZJiXXXauVXa_!!2650263267.jpg'/></div><div style='position:relative;display:inline-block'><img style='width: 180px;height:180px; margin: 0px; float: left; border: 1px solid black;' src='https://img.alicdn.com/imgextra/TB2AmtLwYxmpuFjSZJiXXXauVXa_!!3216771363.jpg'/></div><div style='position:relative;display:inline-block'><img style='width: 180px;height:180px; margin: 0px; float: left; border: 1px solid black;' src='https://img.alicdn.com/imgextra/TB2fD6_XR7c61BjSZFIXXcZmVXa_!!2811277589.jpg'/></div><div style='position:relative;display:inline-block'><img style='width: 180px;height:180px; margin: 0px; float: left; border: 1px solid black;' src='https://img12.360buyimg.com/imgzone/jfs/t3181/90/69914934/174796/d5fc07bf/57a3190dN4b8b1676.jpg'/></div><div style='position:relative;display:inline-block'><img style='width: 180px;height:180px; margin: 0px; float: left; border: 1px solid black;' src='http://m.360buyimg.com/n12/jfs/t202/20/2419114384/80641/43203478/53d07139N11ae824d.jpg%21q70.jpg'/></div></div>"
      ],
      "text/plain": [
       "<IPython.core.display.HTML object>"
      ]
     },
     "metadata": {},
     "output_type": "display_data"
    }
   ],
   "source": [
    "for k,v in table.items():\n",
    "    print('предполагаемая категория: ', colored(k, 'red'))\n",
    "    for _v in v:\n",
    "        print('номер категории: ', _v)\n",
    "        displayCategoryExamples(12, _v)"
   ]
  },
  {
   "cell_type": "code",
   "execution_count": null,
   "metadata": {},
   "outputs": [],
   "source": []
  },
  {
   "cell_type": "code",
   "execution_count": 131,
   "metadata": {},
   "outputs": [
    {
     "name": "stdout",
     "output_type": "stream",
     "text": [
      "предполагаемая категория:  \u001b[31mдвухместная кровать\u001b[0m\n",
      "номер категории:  35\n"
     ]
    },
    {
     "data": {
      "text/html": [
       "<div><div style='position:relative;display:inline-block'><img style='width: 180px;height:180px; margin: 0px; float: left; border: 1px solid black;' src='http://img001.hc360.cn/hb/MTQ2ODI3ODg4MjQ5NTE2MTQ5Mjg4MzI=.jpg'/></div><div style='position:relative;display:inline-block'><img style='width: 180px;height:180px; margin: 0px; float: left; border: 1px solid black;' src='http://image.gojiaju.com/userfile/houbao/honors/201309221040335702.jpg'/></div><div style='position:relative;display:inline-block'><img style='width: 180px;height:180px; margin: 0px; float: left; border: 1px solid black;' src='http://www.ahbngz.com/UploadFiles/Product/20150117133334_91081.jpg'/></div><div style='position:relative;display:inline-block'><img style='width: 180px;height:180px; margin: 0px; float: left; border: 1px solid black;' src='http://image.gojiaju.com/userfile/mdian/images/products/78723_1.jpg'/></div><div style='position:relative;display:inline-block'><img style='width: 180px;height:180px; margin: 0px; float: left; border: 1px solid black;' src='https://img.alicdn.com/imgextra/TB2U7fhsFXXXXbvXpXXXXXXXXXX_!!1137708150.jpg'/></div><div style='position:relative;display:inline-block'><img style='width: 180px;height:180px; margin: 0px; float: left; border: 1px solid black;' src='https://img12.360buyimg.com/imgzone/jfs/t8170/186/1307269803/309570/6b0b852b/59b7bc72N11920490.jpg'/></div><div style='position:relative;display:inline-block'><img style='width: 180px;height:180px; margin: 0px; float: left; border: 1px solid black;' src='http://img.ljlj.cc/img_group/2017/0602-822/201706051496639379265.jpg'/></div><div style='position:relative;display:inline-block'><img style='width: 180px;height:180px; margin: 0px; float: left; border: 1px solid black;' src='http://image.gojiaju.com/userfile/jisi/honors/201307251627125230.JPG'/></div><div style='position:relative;display:inline-block'><img style='width: 180px;height:180px; margin: 0px; float: left; border: 1px solid black;' src='http://pic.to8to.com/attch/day_131218/20131218_343b40258bf45909db03MvjSlw8vINhx.jpg'/></div><div style='position:relative;display:inline-block'><img style='width: 180px;height:180px; margin: 0px; float: left; border: 1px solid black;' src='http://pic16_3.qiyeku.com/qiyeku_pic/2016/8/30/sheng673/product/product_pic/image/2016_09_04/20160904033926043.jpg'/></div><div style='position:relative;display:inline-block'><img style='width: 180px;height:180px; margin: 0px; float: left; border: 1px solid black;' src='http://src.leju.com/imp/imp/deal/d7/80/a/f09c10c3628859e026322160e9f_p24_mk24_s500X0.jpg'/></div><div style='position:relative;display:inline-block'><img style='width: 180px;height:180px; margin: 0px; float: left; border: 1px solid black;' src='https://img.alicdn.com/imgextra/TB2Fqz7aVXXXXa8XpXXXXXXXXXX_!!1659676206.jpg'/></div></div>"
      ],
      "text/plain": [
       "<IPython.core.display.HTML object>"
      ]
     },
     "metadata": {},
     "output_type": "display_data"
    },
    {
     "name": "stdout",
     "output_type": "stream",
     "text": [
      "номер категории:  38\n"
     ]
    },
    {
     "data": {
      "text/html": [
       "<div><div style='position:relative;display:inline-block'><img style='width: 180px;height:180px; margin: 0px; float: left; border: 1px solid black;' src='https://www.uooyoo.com/img2017/9/26/2017092663144657.jpg'/></div><div style='position:relative;display:inline-block'><img style='width: 180px;height:180px; margin: 0px; float: left; border: 1px solid black;' src='https://img.alicdn.com/imgextra/TB2VUsNjvNNTKJjSspkXXaeWFXa_!!703468060.jpg'/></div><div style='position:relative;display:inline-block'><img style='width: 180px;height:180px; margin: 0px; float: left; border: 1px solid black;' src='https://img13.360buyimg.com/imgzone/jfs/t2722/243/3701690876/560524/a6c2a8c3/5796f022N1a9f91fe.jpg'/></div><div style='position:relative;display:inline-block'><img style='width: 180px;height:180px; margin: 0px; float: left; border: 1px solid black;' src='http://i2.hoopchina.com.cn/blogfile/201112/05/132308891766004.jpg'/></div><div style='position:relative;display:inline-block'><img style='width: 180px;height:180px; margin: 0px; float: left; border: 1px solid black;' src='https://img14.360buyimg.com/imgzone/jfs/t3298/226/8816067085/215712/8ff560d8/58ca397bN5da3e622.jpg'/></div><div style='position:relative;display:inline-block'><img style='width: 180px;height:180px; margin: 0px; float: left; border: 1px solid black;' src='https://img12.360buyimg.com/imgzone/jfs/t9832/323/2320593736/285535/ce83e81b/59f44e04N28466af6.jpg'/></div><div style='position:relative;display:inline-block'><img style='width: 180px;height:180px; margin: 0px; float: left; border: 1px solid black;' src='http://pic1.wed114.cn/allimg/161226/52_161226110139_5.jpg'/></div><div style='position:relative;display:inline-block'><img style='width: 180px;height:180px; margin: 0px; float: left; border: 1px solid black;' src='http://s6.sinaimg.cn/bmiddle/4a4972474564c2c2c2c35'/></div><div style='position:relative;display:inline-block'><img style='width: 180px;height:180px; margin: 0px; float: left; border: 1px solid black;' src='https://img12.360buyimg.com/imgzone/jfs/t8557/46/179546805/159579/c348cba1/59a23a14N671870c3.jpg'/></div><div style='position:relative;display:inline-block'><img style='width: 180px;height:180px; margin: 0px; float: left; border: 1px solid black;' src='https://img11.360buyimg.com/imgzone/jfs/t12139/68/550196362/169896/519515fd/5a0e49dfN0f1fd943.jpg'/></div><div style='position:relative;display:inline-block'><img style='width: 180px;height:180px; margin: 0px; float: left; border: 1px solid black;' src='http://img.fuwo.com/attachment/1609/10/b32ebf74772b11e6af8900163e00254c.jpg'/></div><div style='position:relative;display:inline-block'><img style='width: 180px;height:180px; margin: 0px; float: left; border: 1px solid black;' src='https://img11.360buyimg.com/imgzone/jfs/t7882/280/1931079961/522343/45c7e9f0/59a43c22N54619fed.jpg'/></div></div>"
      ],
      "text/plain": [
       "<IPython.core.display.HTML object>"
      ]
     },
     "metadata": {},
     "output_type": "display_data"
    },
    {
     "name": "stdout",
     "output_type": "stream",
     "text": [
      "номер категории:  70\n"
     ]
    },
    {
     "data": {
      "text/html": [
       "<div><div style='position:relative;display:inline-block'><img style='width: 180px;height:180px; margin: 0px; float: left; border: 1px solid black;' src='https://img14.360buyimg.com/imgzone/jfs/t4891/71/284684477/342792/30f417b3/58ddfaf7N64c3463a.jpg'/></div><div style='position:relative;display:inline-block'><img style='width: 180px;height:180px; margin: 0px; float: left; border: 1px solid black;' src='http://pic.baike.soso.com/p/20140624/20140624230126-597929637.jpg'/></div><div style='position:relative;display:inline-block'><img style='width: 180px;height:180px; margin: 0px; float: left; border: 1px solid black;' src='http://img11.360buyimg.com/popWaterMark/jfs/t199/136/1920076162/415284/76ae7784/53be28ddN5a03d76b.jpg'/></div><div style='position:relative;display:inline-block'><img style='width: 180px;height:180px; margin: 0px; float: left; border: 1px solid black;' src='https://img.alicdn.com/imgextra/TB237zobq_85uJjSZFlXXXemXXa_!!3031531692.jpg'/></div><div style='position:relative;display:inline-block'><img style='width: 180px;height:180px; margin: 0px; float: left; border: 1px solid black;' src='https://img.alicdn.com/imgextra/TB2ry4yewMPMeJjy1XdXXasrXXa_!!2743481059.jpg'/></div><div style='position:relative;display:inline-block'><img style='width: 180px;height:180px; margin: 0px; float: left; border: 1px solid black;' src='https://img.alicdn.com/imgextra/TB1oO7FFVXXXXaoaXXXXXXXXXXX_!!0-item_pic.jpg'/></div><div style='position:relative;display:inline-block'><img style='width: 180px;height:180px; margin: 0px; float: left; border: 1px solid black;' src='https://img10.360buyimg.com/imgzone/jfs/t5881/1/2313623837/524252/a3c4e326/592fbb8dNc494605f.jpg'/></div><div style='position:relative;display:inline-block'><img style='width: 180px;height:180px; margin: 0px; float: left; border: 1px solid black;' src='https://img.alicdn.com/imgextra/TB2nLqLclNkpuFjy0FaXXbRCVXa_!!2317731802.jpg'/></div><div style='position:relative;display:inline-block'><img style='width: 180px;height:180px; margin: 0px; float: left; border: 1px solid black;' src='https://img14.360buyimg.com/imgzone/jfs/t3556/75/1579110472/161335/fdae9e3/582da7d4N01540e28.jpg'/></div><div style='position:relative;display:inline-block'><img style='width: 180px;height:180px; margin: 0px; float: left; border: 1px solid black;' src='http://qiniuimg.qingmang.mobi/image/orion/c48f5ccf8c81e4d0795a308f36ac01b8_800_800.jpeg'/></div><div style='position:relative;display:inline-block'><img style='width: 180px;height:180px; margin: 0px; float: left; border: 1px solid black;' src='http://imgsrc.baidu.com/imgad/pic/item/a1ec08fa513d26974a8728795ffbb2fb4316d8b9.jpg'/></div><div style='position:relative;display:inline-block'><img style='width: 180px;height:180px; margin: 0px; float: left; border: 1px solid black;' src='https://img.alicdn.com/imgextra/TB14O3XGVXXXXcyXVXXXXXXXXXX_!!0-item_pic.jpg'/></div></div>"
      ],
      "text/plain": [
       "<IPython.core.display.HTML object>"
      ]
     },
     "metadata": {},
     "output_type": "display_data"
    },
    {
     "name": "stdout",
     "output_type": "stream",
     "text": [
      "номер категории:  101\n"
     ]
    },
    {
     "data": {
      "text/html": [
       "<div><div style='position:relative;display:inline-block'><img style='width: 180px;height:180px; margin: 0px; float: left; border: 1px solid black;' src='http://www.lqhxjs.com/images/UpFile/2013-5/201353152460.jpg'/></div><div style='position:relative;display:inline-block'><img style='width: 180px;height:180px; margin: 0px; float: left; border: 1px solid black;' src='http://img.biud.com.cn/upload/news/2014-05-22/photos/middle/jianjiewoshibi37916320140522114035957077470200.jpg'/></div><div style='position:relative;display:inline-block'><img style='width: 180px;height:180px; margin: 0px; float: left; border: 1px solid black;' src='https://img10.360buyimg.com/imgzone/jfs/t6538/211/256357122/203635/df92cd3f/593c39aeNf858f20e.jpg'/></div><div style='position:relative;display:inline-block'><img style='width: 180px;height:180px; margin: 0px; float: left; border: 1px solid black;' src='https://img10.360buyimg.com/imgzone/jfs/t7894/244/2421599522/134292/3e2c1617/59ae63f3N7baf465a.jpg'/></div><div style='position:relative;display:inline-block'><img style='width: 180px;height:180px; margin: 0px; float: left; border: 1px solid black;' src='https://img.alicdn.com/imgextra/TB1uho2bWLN8KJjSZFKYXH7NVXa_M2.SS2'/></div><div style='position:relative;display:inline-block'><img style='width: 180px;height:180px; margin: 0px; float: left; border: 1px solid black;' src='http://m.360buyimg.com/n12/jfs/t2704/290/1264496288/169092/e01953ab/57395686N8c41fa0d.jpg%21q70.jpg'/></div><div style='position:relative;display:inline-block'><img style='width: 180px;height:180px; margin: 0px; float: left; border: 1px solid black;' src='http://www.chinapp.com/uploadfile/2012/1204/20121204053010146.png'/></div><div style='position:relative;display:inline-block'><img style='width: 180px;height:180px; margin: 0px; float: left; border: 1px solid black;' src='https://img.alicdn.com/imgextra/TB2dJGPif6H8KJjy0FjXXaXepXa_!!448291675.jpg'/></div><div style='position:relative;display:inline-block'><img style='width: 180px;height:180px; margin: 0px; float: left; border: 1px solid black;' src='http://ec4.images-amazon.com/images/I/91QlSK9wPnL._SL1500_.jpg'/></div><div style='position:relative;display:inline-block'><img style='width: 180px;height:180px; margin: 0px; float: left; border: 1px solid black;' src='https://img.alicdn.com/imgextra/TB2VUBOgbtlpuFjSspfXXXLUpXa_!!1759346768.jpg'/></div><div style='position:relative;display:inline-block'><img style='width: 180px;height:180px; margin: 0px; float: left; border: 1px solid black;' src='https://img.alicdn.com/imgextra/TB25g.ueHtlpuFjSspfXXXLUpXa_!!2593135814.jpg'/></div><div style='position:relative;display:inline-block'><img style='width: 180px;height:180px; margin: 0px; float: left; border: 1px solid black;' src='http://img13.360buyimg.com/popWaterMark/jfs/t160/313/3099138852/484805/8ebfec04/53e2f73fN0e831e24.jpg'/></div></div>"
      ],
      "text/plain": [
       "<IPython.core.display.HTML object>"
      ]
     },
     "metadata": {},
     "output_type": "display_data"
    },
    {
     "name": "stdout",
     "output_type": "stream",
     "text": [
      "предполагаемая категория:  \u001b[31mдетская кровать\u001b[0m\n",
      "номер категории:  117\n"
     ]
    },
    {
     "data": {
      "text/html": [
       "<div><div style='position:relative;display:inline-block'><img style='width: 180px;height:180px; margin: 0px; float: left; border: 1px solid black;' src='https://img.alicdn.com/imgextra/TB2mGTbl9XlpuFjy0FeXXcJbFXa_!!1690831833.jpg'/></div><div style='position:relative;display:inline-block'><img style='width: 180px;height:180px; margin: 0px; float: left; border: 1px solid black;' src='http://img12.360buyimg.com/popWaterMark/jfs/t187/283/714218099/219791/c60948ef/5396a470Nb6f4979e.jpg'/></div><div style='position:relative;display:inline-block'><img style='width: 180px;height:180px; margin: 0px; float: left; border: 1px solid black;' src='http://img4.teambuy.com.cn/upload/2015/11/29/020_154056_9b3QkTeH.jpg'/></div><div style='position:relative;display:inline-block'><img style='width: 180px;height:180px; margin: 0px; float: left; border: 1px solid black;' src='https://img10.360buyimg.com/imgzone/jfs/t349/344/567388913/461448/4a33b8a1/5417d1cfNed482a80.jpg'/></div><div style='position:relative;display:inline-block'><img style='width: 180px;height:180px; margin: 0px; float: left; border: 1px solid black;' src='https://img14.360buyimg.com/imgzone/jfs/t15598/52/894111607/200527/e2983d0c/5a4380e3Nf1bcefa6.jpg'/></div><div style='position:relative;display:inline-block'><img style='width: 180px;height:180px; margin: 0px; float: left; border: 1px solid black;' src='https://img10.360buyimg.com/imgzone/jfs/t14335/353/64349616/215341/1e75ab16/5a22a5d8N3af8873a.jpg'/></div><div style='position:relative;display:inline-block'><img style='width: 180px;height:180px; margin: 0px; float: left; border: 1px solid black;' src='https://img10.360buyimg.com/imgzone/jfs/t7120/188/369812325/396713/22ce82cf/597f713fNfbd57865.jpg'/></div><div style='position:relative;display:inline-block'><img style='width: 180px;height:180px; margin: 0px; float: left; border: 1px solid black;' src='https://gw.alicdn.com/bao/uploaded/i3/14222026883744526/T1wwqvFg0XXXXXXXXX_!!0-item_pic.jpg_460x460xz.jpg'/></div><div style='position:relative;display:inline-block'><img style='width: 180px;height:180px; margin: 0px; float: left; border: 1px solid black;' src='https://img.alicdn.com/imgextra/TB2JlUzhdfJ8KJjy0FeXXXKEXXa_!!3262387540.jpg'/></div><div style='position:relative;display:inline-block'><img style='width: 180px;height:180px; margin: 0px; float: left; border: 1px solid black;' src='https://img12.360buyimg.com/imgzone/jfs/t14617/112/163347598/146558/9593c86d/5a257ed7N43b5603b.jpg'/></div><div style='position:relative;display:inline-block'><img style='width: 180px;height:180px; margin: 0px; float: left; border: 1px solid black;' src='https://img13.360buyimg.com/imgzone/jfs/t12589/150/82172269/646104/40efb200/5a031c6eNc39e3ee0.jpg'/></div><div style='position:relative;display:inline-block'><img style='width: 180px;height:180px; margin: 0px; float: left; border: 1px solid black;' src='https://gw.alicdn.com/bao/uploaded/i1/TB1FtPZHpXXXXXnXpXXXXXXXXXX_!!0-item_pic.jpg_460x460xz.jpg'/></div></div>"
      ],
      "text/plain": [
       "<IPython.core.display.HTML object>"
      ]
     },
     "metadata": {},
     "output_type": "display_data"
    },
    {
     "name": "stdout",
     "output_type": "stream",
     "text": [
      "предполагаемая категория:  \u001b[31mнеизвестная кровать\u001b[0m\n",
      "номер категории:  10\n"
     ]
    },
    {
     "data": {
      "text/html": [
       "<div><div style='position:relative;display:inline-block'><img style='width: 180px;height:180px; margin: 0px; float: left; border: 1px solid black;' src='http://pic.to8to.com/smallcase/1501/13/20150113_5b8d260da4ebfca0f768ehxss80ilo9e_284.jpg'/></div><div style='position:relative;display:inline-block'><img style='width: 180px;height:180px; margin: 0px; float: left; border: 1px solid black;' src='http://image3.suning.cn/b2c/catentries/000000000170977220_2_800x800.jpg'/></div><div style='position:relative;display:inline-block'><img style='width: 180px;height:180px; margin: 0px; float: left; border: 1px solid black;' src='https://img10.360buyimg.com/imgzone/jfs/t6868/232/2583990635/298738/d79e9d60/598d6461N01392cba.jpg'/></div><div style='position:relative;display:inline-block'><img style='width: 180px;height:180px; margin: 0px; float: left; border: 1px solid black;' src='https://img10.360buyimg.com/imgzone/jfs/t11263/65/1822268138/345466/c66f53e2/5a0d5752N632be4c0.jpg'/></div><div style='position:relative;display:inline-block'><img style='width: 180px;height:180px; margin: 0px; float: left; border: 1px solid black;' src='http://www.0731jiaju.com/upfile/user/2012/03/10/201203101238428305.jpg'/></div><div style='position:relative;display:inline-block'><img style='width: 180px;height:180px; margin: 0px; float: left; border: 1px solid black;' src='https://img.alicdn.com/imgextra/TB2JhqMhwNlpuFjy0FfXXX3CpXa_!!2015528731.jpg'/></div><div style='position:relative;display:inline-block'><img style='width: 180px;height:180px; margin: 0px; float: left; border: 1px solid black;' src='https://img14.360buyimg.com/imgzone/jfs/t14836/174/887514516/237175/b5d871ff/5a3c3cddN02f3f38a.jpg'/></div><div style='position:relative;display:inline-block'><img style='width: 180px;height:180px; margin: 0px; float: left; border: 1px solid black;' src='https://img10.360buyimg.com/imgzone/jfs/t15532/266/1173921034/638099/29c536f3/5a4c4c22Nb14275ad.jpg'/></div><div style='position:relative;display:inline-block'><img style='width: 180px;height:180px; margin: 0px; float: left; border: 1px solid black;' src='https://img10.360buyimg.com/imgzone/jfs/t18637/282/158477672/303498/d3bcaac1/5a606aabNc72ec405.jpg'/></div><div style='position:relative;display:inline-block'><img style='width: 180px;height:180px; margin: 0px; float: left; border: 1px solid black;' src='https://img.alicdn.com/imgextra/TB25m0AXc2vU1JjSZFwXXX2cpXa_!!1035989525.jpg'/></div><div style='position:relative;display:inline-block'><img style='width: 180px;height:180px; margin: 0px; float: left; border: 1px solid black;' src='http://gfs17.gomein.net.cn/T1M3dTBjVT1RCvBVdK_800.jpg'/></div><div style='position:relative;display:inline-block'><img style='width: 180px;height:180px; margin: 0px; float: left; border: 1px solid black;' src='https://img.alicdn.com/imgextra/TB2rJxLfIjI8KJjSsppXXXbyVXa_!!288871100.jpg'/></div></div>"
      ],
      "text/plain": [
       "<IPython.core.display.HTML object>"
      ]
     },
     "metadata": {},
     "output_type": "display_data"
    }
   ],
   "source": [
    "for k,v in bed.items():\n",
    "    print('предполагаемая категория: ', colored(k, 'red'))\n",
    "    for _v in v:\n",
    "        print('номер категории: ', _v)\n",
    "        displayCategoryExamples(12, _v)"
   ]
  },
  {
   "cell_type": "code",
   "execution_count": 132,
   "metadata": {},
   "outputs": [
    {
     "name": "stdout",
     "output_type": "stream",
     "text": [
      "предполагаемая категория:  \u001b[31mдвухместный диван\u001b[0m\n",
      "номер категории:  86\n"
     ]
    },
    {
     "data": {
      "text/html": [
       "<div><div style='position:relative;display:inline-block'><img style='width: 180px;height:180px; margin: 0px; float: left; border: 1px solid black;' src='http://image.guojj.com/exhibition/5/26/bce5525a4f98b05527302ed27a0b98e5.jpg'/></div><div style='position:relative;display:inline-block'><img style='width: 180px;height:180px; margin: 0px; float: left; border: 1px solid black;' src='https://img12.360buyimg.com/imgzone/jfs/t4033/151/1767713512/291247/1437e290/58959cc4N7ef0dfc1.jpg'/></div><div style='position:relative;display:inline-block'><img style='width: 180px;height:180px; margin: 0px; float: left; border: 1px solid black;' src='https://img12.360buyimg.com/imgzone/jfs/t10393/124/870060392/385143/5b51f231/59d9a2daN2951669c.jpg'/></div><div style='position:relative;display:inline-block'><img style='width: 180px;height:180px; margin: 0px; float: left; border: 1px solid black;' src='https://img11.360buyimg.com/imgzone/jfs/t223/231/1477428762/477517/89e5e8a0/53fc13dfN955ff4d4.jpg'/></div><div style='position:relative;display:inline-block'><img style='width: 180px;height:180px; margin: 0px; float: left; border: 1px solid black;' src='http://image.yoagoa.com/photos/info/20160710/20160710060854340.jpg'/></div><div style='position:relative;display:inline-block'><img style='width: 180px;height:180px; margin: 0px; float: left; border: 1px solid black;' src='https://img11.360buyimg.com/imgzone/jfs/t12556/254/2567541584/357826/fe05cfe3/5a438d55N19ee917f.jpg'/></div><div style='position:relative;display:inline-block'><img style='width: 180px;height:180px; margin: 0px; float: left; border: 1px solid black;' src='http://imgs2.soufunimg.com/news/2017_11/29/1511934527384.jpg'/></div><div style='position:relative;display:inline-block'><img style='width: 180px;height:180px; margin: 0px; float: left; border: 1px solid black;' src='http://img002.mllres.com//images/upload/3(32062).jpg'/></div><div style='position:relative;display:inline-block'><img style='width: 180px;height:180px; margin: 0px; float: left; border: 1px solid black;' src='https://img12.360buyimg.com/imgzone/jfs/t15766/188/597109535/508190/fdc08e23/5a35ec2bN9e63f5d6.jpg'/></div><div style='position:relative;display:inline-block'><img style='width: 180px;height:180px; margin: 0px; float: left; border: 1px solid black;' src='https://img14.360buyimg.com/imgzone/jfs/t15151/47/1274240219/453235/e885ef79/5a4c7b15Nf8296ab8.jpg'/></div><div style='position:relative;display:inline-block'><img style='width: 180px;height:180px; margin: 0px; float: left; border: 1px solid black;' src='https://img10.360buyimg.com/imgzone/jfs/t5344/73/671365306/456783/f0ade3dc/59049287N70c92595.jpg'/></div><div style='position:relative;display:inline-block'><img style='width: 180px;height:180px; margin: 0px; float: left; border: 1px solid black;' src='https://i2.kknews.cc/SIG=1a7pbrt/12p400005p3s8ns3sqnn.jpg'/></div></div>"
      ],
      "text/plain": [
       "<IPython.core.display.HTML object>"
      ]
     },
     "metadata": {},
     "output_type": "display_data"
    },
    {
     "name": "stdout",
     "output_type": "stream",
     "text": [
      "предполагаемая категория:  \u001b[31mтрёхместный диван\u001b[0m\n",
      "номер категории:  21\n"
     ]
    },
    {
     "data": {
      "text/html": [
       "<div><div style='position:relative;display:inline-block'><img style='width: 180px;height:180px; margin: 0px; float: left; border: 1px solid black;' src='http://wx4.sinaimg.cn/mw690/006boOKDgy1fjggzqwijlj30j60j640w.jpg'/></div><div style='position:relative;display:inline-block'><img style='width: 180px;height:180px; margin: 0px; float: left; border: 1px solid black;' src='http://static.house.sina.com.cn/jiancaijiaju/product_new/17/31/14302063471843210-1.jpg'/></div><div style='position:relative;display:inline-block'><img style='width: 180px;height:180px; margin: 0px; float: left; border: 1px solid black;' src='https://img13.360buyimg.com/imgzone/jfs/t13636/75/2163334876/82882/fa9c3cc5/5a382324N4eac1e45.jpg'/></div><div style='position:relative;display:inline-block'><img style='width: 180px;height:180px; margin: 0px; float: left; border: 1px solid black;' src='http://att2.citysbs.com/tiaozao/2017/04/06/12/3264x2448-121839_v2_16381491452319498_a4c184cf330a5853c70603fd79061a72.jpg'/></div><div style='position:relative;display:inline-block'><img style='width: 180px;height:180px; margin: 0px; float: left; border: 1px solid black;' src='https://img10.360buyimg.com/imgzone/jfs/t16201/316/252473338/499068/f6ef45c4/5a2bfc61N382c86d2.jpg'/></div><div style='position:relative;display:inline-block'><img style='width: 180px;height:180px; margin: 0px; float: left; border: 1px solid black;' src='https://img14.360buyimg.com/imgzone/jfs/t5989/268/5836915206/247587/e51efbd6/596de978Na966e8ff.jpg'/></div><div style='position:relative;display:inline-block'><img style='width: 180px;height:180px; margin: 0px; float: left; border: 1px solid black;' src='http://imgsrc.baidu.com/imgad/pic/item/0824ab18972bd407a5dda13471899e510eb309e4.jpg'/></div><div style='position:relative;display:inline-block'><img style='width: 180px;height:180px; margin: 0px; float: left; border: 1px solid black;' src='http://www.fldjj.com/UploadFiles/Others/20160815195023_37871.jpg'/></div><div style='position:relative;display:inline-block'><img style='width: 180px;height:180px; margin: 0px; float: left; border: 1px solid black;' src='http://www.saidesofa.com/upLoad/product/month_1507/201507301149211.jpg'/></div><div style='position:relative;display:inline-block'><img style='width: 180px;height:180px; margin: 0px; float: left; border: 1px solid black;' src='https://img11.360buyimg.com/imgzone/jfs/t3772/310/1120853242/400260/f1b62668/581d2f46N2bb68281.jpg'/></div><div style='position:relative;display:inline-block'><img style='width: 180px;height:180px; margin: 0px; float: left; border: 1px solid black;' src='http://www.bligh-water.com/userfiles/image/20160915/151051076afe9239ff1138.jpg'/></div><div style='position:relative;display:inline-block'><img style='width: 180px;height:180px; margin: 0px; float: left; border: 1px solid black;' src='http://www.sheenmall.com/uploads/products/20151105/D-07-2.jpg'/></div></div>"
      ],
      "text/plain": [
       "<IPython.core.display.HTML object>"
      ]
     },
     "metadata": {},
     "output_type": "display_data"
    },
    {
     "name": "stdout",
     "output_type": "stream",
     "text": [
      "номер категории:  45\n"
     ]
    },
    {
     "data": {
      "text/html": [
       "<div><div style='position:relative;display:inline-block'><img style='width: 180px;height:180px; margin: 0px; float: left; border: 1px solid black;' src='https://img.alicdn.com/imgextra/T1JFJ.FU0bXXXXXXXX_!!0-item_pic.jpg'/></div><div style='position:relative;display:inline-block'><img style='width: 180px;height:180px; margin: 0px; float: left; border: 1px solid black;' src='https://img12.360buyimg.com/imgzone/jfs/t3730/240/773140358/417852/191a9e8a/58140972Nb2aa460d.jpg'/></div><div style='position:relative;display:inline-block'><img style='width: 180px;height:180px; margin: 0px; float: left; border: 1px solid black;' src='https://img12.360buyimg.com/imgzone/jfs/t2683/183/422345255/401445/db25cab0/57133024N0f61216f.jpg'/></div><div style='position:relative;display:inline-block'><img style='width: 180px;height:180px; margin: 0px; float: left; border: 1px solid black;' src='https://gw.alicdn.com/bao/uploaded/i1/TB1QW9cFVXXXXbtXFXXXXXXXXXX_!!0-item_pic.jpg_460x460xz.jpg'/></div><div style='position:relative;display:inline-block'><img style='width: 180px;height:180px; margin: 0px; float: left; border: 1px solid black;' src='http://8033554.s21i-8.faiusr.com/2/ABUIkqrqAxACGAAgtfantAUo2fey3QcwvAU4vAU.jpg'/></div><div style='position:relative;display:inline-block'><img style='width: 180px;height:180px; margin: 0px; float: left; border: 1px solid black;' src='https://img13.360buyimg.com/imgzone/jfs/t3544/320/1860903757/167285/38cfbdae/5836a942N4c30f57c.jpg'/></div><div style='position:relative;display:inline-block'><img style='width: 180px;height:180px; margin: 0px; float: left; border: 1px solid black;' src='https://img12.360buyimg.com/imgzone/jfs/t7468/117/2369690882/627167/6ff2f19e/59ae11d4Ne5e92d71.jpg'/></div><div style='position:relative;display:inline-block'><img style='width: 180px;height:180px; margin: 0px; float: left; border: 1px solid black;' src='https://img.alicdn.com/imgextra/TB2aM7ucBfH8KJjy1XbXXbLdXXa_!!1668634984.jpg'/></div><div style='position:relative;display:inline-block'><img style='width: 180px;height:180px; margin: 0px; float: left; border: 1px solid black;' src='https://img.alicdn.com/imgextra/TB1m615aRfM8KJjSZFOYXFr5XXa_M2.SS2'/></div><div style='position:relative;display:inline-block'><img style='width: 180px;height:180px; margin: 0px; float: left; border: 1px solid black;' src='http://www.nmgcb.com.cn/hyxw/img02/20150507/201505071202333098.jpg'/></div><div style='position:relative;display:inline-block'><img style='width: 180px;height:180px; margin: 0px; float: left; border: 1px solid black;' src='http://www.yoagoa.com/photos/info/20160621/20160621030024684.jpg'/></div><div style='position:relative;display:inline-block'><img style='width: 180px;height:180px; margin: 0px; float: left; border: 1px solid black;' src='http://images.ccoo.cn/Store/201157/20115715144217.JPG'/></div></div>"
      ],
      "text/plain": [
       "<IPython.core.display.HTML object>"
      ]
     },
     "metadata": {},
     "output_type": "display_data"
    },
    {
     "name": "stdout",
     "output_type": "stream",
     "text": [
      "предполагаемая категория:  \u001b[31mтахта\u001b[0m\n",
      "номер категории:  18\n"
     ]
    },
    {
     "data": {
      "text/html": [
       "<div><div style='position:relative;display:inline-block'><img style='width: 180px;height:180px; margin: 0px; float: left; border: 1px solid black;' src='http://img.shopping.friday.tw/images/product/180/5408772/5408772_3_1.jpg?499000'/></div><div style='position:relative;display:inline-block'><img style='width: 180px;height:180px; margin: 0px; float: left; border: 1px solid black;' src='http://img001.globalbuy.cc/201601/11/2017169710.jpg'/></div><div style='position:relative;display:inline-block'><img style='width: 180px;height:180px; margin: 0px; float: left; border: 1px solid black;' src='http://www.51rattan.com/images/guifeiyi/RAC11.jpg'/></div><div style='position:relative;display:inline-block'><img style='width: 180px;height:180px; margin: 0px; float: left; border: 1px solid black;' src='http://pic12.photophoto.cn/20090714/0037037399734023_b.jpg'/></div><div style='position:relative;display:inline-block'><img style='width: 180px;height:180px; margin: 0px; float: left; border: 1px solid black;' src='https://img13.360buyimg.com/imgzone/jfs/t2761/105/3006820565/186857/f70a7e0c/577b73c9N4da34a7d.jpg'/></div><div style='position:relative;display:inline-block'><img style='width: 180px;height:180px; margin: 0px; float: left; border: 1px solid black;' src='https://img14.360buyimg.com/imgzone/jfs/t7663/233/1999350773/295329/9dad21ef/59a61528N9c1517cb.jpg'/></div><div style='position:relative;display:inline-block'><img style='width: 180px;height:180px; margin: 0px; float: left; border: 1px solid black;' src='https://img11.360buyimg.com/imgzone/jfs/t13048/249/1466726436/104214/cc5afcb5/5a20a23cNcfd04d77.jpg'/></div><div style='position:relative;display:inline-block'><img style='width: 180px;height:180px; margin: 0px; float: left; border: 1px solid black;' src='https://img.alicdn.com/imgextra/TB1iP4CJXXXXXXKaXXXXXXXXXXX_!!0-item_pic.jpg'/></div><div style='position:relative;display:inline-block'><img style='width: 180px;height:180px; margin: 0px; float: left; border: 1px solid black;' src='https://img.alicdn.com/imgextra/TB2KDa1o9tkpuFjy0FhXXXQzFXa_!!1030289726.jpg'/></div><div style='position:relative;display:inline-block'><img style='width: 180px;height:180px; margin: 0px; float: left; border: 1px solid black;' src='http://files.gojiaju.com/upfile/2015/05/28/3cbb94c3-0d0d-4a5d-a80e-e2ed649f541b_400_300.jpg'/></div><div style='position:relative;display:inline-block'><img style='width: 180px;height:180px; margin: 0px; float: left; border: 1px solid black;' src='https://img.alicdn.com/imgextra/TB2cLF6nv2H8KJjy0FcXXaDlFXa_!!3066203063.jpg'/></div><div style='position:relative;display:inline-block'><img style='width: 180px;height:180px; margin: 0px; float: left; border: 1px solid black;' src='http://img10.360buyimg.com/popWaterMark/jfs/t487/39/13402630/319951/81da56a3/54471d2aN49bee928.jpg'/></div></div>"
      ],
      "text/plain": [
       "<IPython.core.display.HTML object>"
      ]
     },
     "metadata": {},
     "output_type": "display_data"
    },
    {
     "name": "stdout",
     "output_type": "stream",
     "text": [
      "номер категории:  94\n"
     ]
    },
    {
     "data": {
      "text/html": [
       "<div><div style='position:relative;display:inline-block'><img style='width: 180px;height:180px; margin: 0px; float: left; border: 1px solid black;' src='https://img10.360buyimg.com/imgzone/jfs/t5344/146/485847065/211252/9bd98b84/59006e62Nc3ddb26b.jpg'/></div><div style='position:relative;display:inline-block'><img style='width: 180px;height:180px; margin: 0px; float: left; border: 1px solid black;' src='https://img14.360buyimg.com/imgzone/jfs/t15397/135/793291723/735667/44b27c12/5a38af4aN5b7d1d66.jpg'/></div><div style='position:relative;display:inline-block'><img style='width: 180px;height:180px; margin: 0px; float: left; border: 1px solid black;' src='https://img.alicdn.com/imgextra/TB2LGIrbp_AQeBjSZFyXXb1bXXa_!!1768575455.jpg'/></div><div style='position:relative;display:inline-block'><img style='width: 180px;height:180px; margin: 0px; float: left; border: 1px solid black;' src='http://gi3.md.alicdn.com/imgextra/i3/1093992484/T25i9IXqlXXXXXXXXX_!!1093992484.jpg'/></div><div style='position:relative;display:inline-block'><img style='width: 180px;height:180px; margin: 0px; float: left; border: 1px solid black;' src='https://img.alicdn.com/imgextra/TB2waVNhgvD8KJjy0FlXXagBFXa_!!94715725.jpg'/></div><div style='position:relative;display:inline-block'><img style='width: 180px;height:180px; margin: 0px; float: left; border: 1px solid black;' src='https://img.alicdn.com/imgextra/TB1DSBDSFXXXXb6XFXXXXXXXXXX_!!0-item_pic.jpg'/></div><div style='position:relative;display:inline-block'><img style='width: 180px;height:180px; margin: 0px; float: left; border: 1px solid black;' src='https://img12.360buyimg.com/imgzone/jfs/t10393/292/1395628364/271540/7ef7e4ab/59e03351N6ac3278b.jpg'/></div><div style='position:relative;display:inline-block'><img style='width: 180px;height:180px; margin: 0px; float: left; border: 1px solid black;' src='https://img.alicdn.com/imgextra/TB2CyS2cEhnpuFjSZFEXXX0PFXa_!!666728514.jpg'/></div><div style='position:relative;display:inline-block'><img style='width: 180px;height:180px; margin: 0px; float: left; border: 1px solid black;' src='https://img10.360buyimg.com/imgzone/jfs/t2725/75/2029526684/837352/7e563041/5752e7d7N3d454253.jpg'/></div><div style='position:relative;display:inline-block'><img style='width: 180px;height:180px; margin: 0px; float: left; border: 1px solid black;' src='http://pic.shejiben.com/mall/2013/10/28/20131028162431-6101d9f2_290.jpg'/></div><div style='position:relative;display:inline-block'><img style='width: 180px;height:180px; margin: 0px; float: left; border: 1px solid black;' src='https://img.alicdn.com/imgextra/TB2J_rgav2H8KJjy1zkXXXr7pXa_!!2939486902.jpg'/></div><div style='position:relative;display:inline-block'><img style='width: 180px;height:180px; margin: 0px; float: left; border: 1px solid black;' src='https://img13.360buyimg.com/imgzone/jfs/t5656/259/8361093660/424730/30f885ba/5979aa09Nbd7f84df.jpg'/></div></div>"
      ],
      "text/plain": [
       "<IPython.core.display.HTML object>"
      ]
     },
     "metadata": {},
     "output_type": "display_data"
    }
   ],
   "source": [
    "for k,v in sofa.items():\n",
    "    print('предполагаемая категория: ', colored(k, 'red'))\n",
    "    for _v in v:\n",
    "        print('номер категории: ', _v)\n",
    "        displayCategoryExamples(12, _v)"
   ]
  },
  {
   "cell_type": "code",
   "execution_count": 133,
   "metadata": {},
   "outputs": [
    {
     "name": "stdout",
     "output_type": "stream",
     "text": [
      "предполагаемая категория:  \u001b[31mшкаф\u001b[0m\n",
      "номер категории:  24\n"
     ]
    },
    {
     "data": {
      "text/html": [
       "<div><div style='position:relative;display:inline-block'><img style='width: 180px;height:180px; margin: 0px; float: left; border: 1px solid black;' src='http://img.xiugei.com/viewinfo/infoimgsps/yigui/content1508738728310.png'/></div><div style='position:relative;display:inline-block'><img style='width: 180px;height:180px; margin: 0px; float: left; border: 1px solid black;' src='http://www.yoagoa.com/photos/info/20160318/20160318051638885.jpg'/></div><div style='position:relative;display:inline-block'><img style='width: 180px;height:180px; margin: 0px; float: left; border: 1px solid black;' src='https://img13.360buyimg.com/imgzone/jfs/t6649/308/790312906/451207/662b73ff/59454bd4Nb0f9cf42.jpg'/></div><div style='position:relative;display:inline-block'><img style='width: 180px;height:180px; margin: 0px; float: left; border: 1px solid black;' src='http://www.yoagoa.com/photos/info/20160222/20160222082914162.jpg'/></div><div style='position:relative;display:inline-block'><img style='width: 180px;height:180px; margin: 0px; float: left; border: 1px solid black;' src='http://www.oulijiaju.com/uploads/allimg/170706/1-1FF60UPIL-lp.jpg'/></div><div style='position:relative;display:inline-block'><img style='width: 180px;height:180px; margin: 0px; float: left; border: 1px solid black;' src='https://img13.360buyimg.com/imgzone/jfs/t6562/315/1630725253/295146/7f51727e/5954cccdNb1190c7d.jpg'/></div><div style='position:relative;display:inline-block'><img style='width: 180px;height:180px; margin: 0px; float: left; border: 1px solid black;' src='http://source.iacoms.ifeng.com/imgservice/homeapp/2015/02/1423203943_9996.jpg'/></div><div style='position:relative;display:inline-block'><img style='width: 180px;height:180px; margin: 0px; float: left; border: 1px solid black;' src='http://www.ikemod.com/uploads/allimg/171211/135F62535-4.jpg?imageMogr2/auto-orient/thumbnail/600x/blur/1x0/quality/75|imageslim'/></div><div style='position:relative;display:inline-block'><img style='width: 180px;height:180px; margin: 0px; float: left; border: 1px solid black;' src='http://auto.ln110.com.cn/upload/images/bao/uploaded/i2/TB1A.SjLXXXXXc8XFXXXXXXXXXX_%21%210-item_pic.jpg_460x460.jpg'/></div><div style='position:relative;display:inline-block'><img style='width: 180px;height:180px; margin: 0px; float: left; border: 1px solid black;' src='http://image.yoagoa.com/photos/info/20160318/20160318072704736.jpg'/></div><div style='position:relative;display:inline-block'><img style='width: 180px;height:180px; margin: 0px; float: left; border: 1px solid black;' src='https://img12.360buyimg.com/imgzone/jfs/t10159/14/473504139/213740/bf5b4720/59d02e85N2d612b63.jpg'/></div><div style='position:relative;display:inline-block'><img style='width: 180px;height:180px; margin: 0px; float: left; border: 1px solid black;' src='https://img14.360buyimg.com/imgzone/jfs/t7405/27/4591030116/180735/ecd8bcb4/5a03a530Na59dde41.jpg'/></div></div>"
      ],
      "text/plain": [
       "<IPython.core.display.HTML object>"
      ]
     },
     "metadata": {},
     "output_type": "display_data"
    },
    {
     "name": "stdout",
     "output_type": "stream",
     "text": [
      "номер категории:  28\n"
     ]
    },
    {
     "data": {
      "text/html": [
       "<div><div style='position:relative;display:inline-block'><img style='width: 180px;height:180px; margin: 0px; float: left; border: 1px solid black;' src='http://www.jia360.com/data/upload/ueditor/20170828/59a372ad5bb1c.jpg'/></div><div style='position:relative;display:inline-block'><img style='width: 180px;height:180px; margin: 0px; float: left; border: 1px solid black;' src='http://a.vpimg4.com/upload/merchandise/vis/1167/80000055-13/197/670403-3.jpg'/></div><div style='position:relative;display:inline-block'><img style='width: 180px;height:180px; margin: 0px; float: left; border: 1px solid black;' src='http://tgi12.jia.com/112/749/12749894.jpg'/></div><div style='position:relative;display:inline-block'><img style='width: 180px;height:180px; margin: 0px; float: left; border: 1px solid black;' src='http://img4.jiuxing.com/2133925/Ware_Picture/400/2bdf60678ba4e1c5a4fa7460fb70d9ef.jpg'/></div><div style='position:relative;display:inline-block'><img style='width: 180px;height:180px; margin: 0px; float: left; border: 1px solid black;' src='http://img1n.soufunimg.com/viewimage/jiancai/business/xgt/201409/02/120/35b989fe6307cd4e5d0f65a839204719/300x300c.jpg'/></div><div style='position:relative;display:inline-block'><img style='width: 180px;height:180px; margin: 0px; float: left; border: 1px solid black;' src='https://img11.360buyimg.com/imgzone/jfs/t7441/287/681577117/196148/d8ffe44/59964dfaN974fa137.jpg'/></div><div style='position:relative;display:inline-block'><img style='width: 180px;height:180px; margin: 0px; float: left; border: 1px solid black;' src='https://img.alicdn.com/imgextra/TB2pWnWi3oQMeJjy1XaXXcSsFXa_!!432070407.jpg'/></div><div style='position:relative;display:inline-block'><img style='width: 180px;height:180px; margin: 0px; float: left; border: 1px solid black;' src='http://monitorgoods-dgjm.stor.sinaapp.com/eec06001b405ecbfc5ed47d28ac8fe8e.jpg'/></div><div style='position:relative;display:inline-block'><img style='width: 180px;height:180px; margin: 0px; float: left; border: 1px solid black;' src='https://img12.360buyimg.com/imgzone/jfs/t5947/23/9715040641/424212/30df509/59964f84N1dc02296.jpg'/></div><div style='position:relative;display:inline-block'><img style='width: 180px;height:180px; margin: 0px; float: left; border: 1px solid black;' src='https://img.alicdn.com/imgextra/TB25Qm8X0HC11BjSszeXXbZppXa_!!412324212.jpg'/></div><div style='position:relative;display:inline-block'><img style='width: 180px;height:180px; margin: 0px; float: left; border: 1px solid black;' src='https://img11.360buyimg.com/imgzone/jfs/t3565/159/788484696/395914/559bb5e6/58134288Nf85926c6.jpg'/></div><div style='position:relative;display:inline-block'><img style='width: 180px;height:180px; margin: 0px; float: left; border: 1px solid black;' src='http://img4.jiuxing.com/3910835/Ware_Picture/400/39108350006.jpg'/></div></div>"
      ],
      "text/plain": [
       "<IPython.core.display.HTML object>"
      ]
     },
     "metadata": {},
     "output_type": "display_data"
    },
    {
     "name": "stdout",
     "output_type": "stream",
     "text": [
      "предполагаемая категория:  \u001b[31mтумба под телевизор\u001b[0m\n",
      "номер категории:  67\n"
     ]
    },
    {
     "data": {
      "text/html": [
       "<div><div style='position:relative;display:inline-block'><img style='width: 180px;height:180px; margin: 0px; float: left; border: 1px solid black;' src='https://img13.360buyimg.com/imgzone/jfs/t4363/360/2539321401/195950/e2d46ec1/58d2212eNa600f7a5.jpg'/></div><div style='position:relative;display:inline-block'><img style='width: 180px;height:180px; margin: 0px; float: left; border: 1px solid black;' src='http://img14.360buyimg.com/n1/jfs/t265/127/1164400559/381421/692aa210/53f6c3e1N39519f1d.jpg'/></div><div style='position:relative;display:inline-block'><img style='width: 180px;height:180px; margin: 0px; float: left; border: 1px solid black;' src='https://img10.360buyimg.com/imgzone/jfs/t11173/225/1976352272/242695/f4fdb5a7/5a55fdd2N2a6018a1.jpg'/></div><div style='position:relative;display:inline-block'><img style='width: 180px;height:180px; margin: 0px; float: left; border: 1px solid black;' src='http://www.u88.cn/news/upload/projblue/14/337310.jpg'/></div><div style='position:relative;display:inline-block'><img style='width: 180px;height:180px; margin: 0px; float: left; border: 1px solid black;' src='http://img7.soufunimg.com/album/2015_03/26/M08/06/A9/wKgEKlUTebqIAVCbAALjQQ2XfcQAAKaOwLreJ0AAuNZ989.png'/></div><div style='position:relative;display:inline-block'><img style='width: 180px;height:180px; margin: 0px; float: left; border: 1px solid black;' src='https://img.alicdn.com/imgextra/TB1nYOYcYYI8KJjy0FaXXbAiVXa_!!0-item_pic.jpg'/></div><div style='position:relative;display:inline-block'><img style='width: 180px;height:180px; margin: 0px; float: left; border: 1px solid black;' src='http://img1.137home.com/scart/2013/08/20/1/aad300286c45b699ea69248e652_p1_mk1.jpg'/></div><div style='position:relative;display:inline-block'><img style='width: 180px;height:180px; margin: 0px; float: left; border: 1px solid black;' src='https://img14.360buyimg.com/imgzone/jfs/t3151/215/6280279627/173446/eec49f3f/58a3cad2Nc90c18c1.jpg'/></div><div style='position:relative;display:inline-block'><img style='width: 180px;height:180px; margin: 0px; float: left; border: 1px solid black;' src='https://img14.360buyimg.com/imgzone/jfs/t7684/197/3817010322/444867/975ceea8/59c650a9N99913507.jpg'/></div><div style='position:relative;display:inline-block'><img style='width: 180px;height:180px; margin: 0px; float: left; border: 1px solid black;' src='https://img10.360buyimg.com/imgzone/jfs/t7303/122/577903632/83585/9d0b0914/5995224bNc29946b1.jpg'/></div><div style='position:relative;display:inline-block'><img style='width: 180px;height:180px; margin: 0px; float: left; border: 1px solid black;' src='https://img.alicdn.com/imgextra/TB2rDekhDvI8KJjSspjXXcgjXXa_!!193868872.jpg'/></div><div style='position:relative;display:inline-block'><img style='width: 180px;height:180px; margin: 0px; float: left; border: 1px solid black;' src='https://img12.360buyimg.com/imgzone/jfs/t10471/215/998764726/193179/e69e075c/59dae1b6N8168c7fd.jpg'/></div></div>"
      ],
      "text/plain": [
       "<IPython.core.display.HTML object>"
      ]
     },
     "metadata": {},
     "output_type": "display_data"
    },
    {
     "name": "stdout",
     "output_type": "stream",
     "text": [
      "номер категории:  113\n"
     ]
    },
    {
     "data": {
      "text/html": [
       "<div><div style='position:relative;display:inline-block'><img style='width: 180px;height:180px; margin: 0px; float: left; border: 1px solid black;' src='https://img10.360buyimg.com/imgzone/jfs/t7906/35/1336888894/248277/d76f011e/599c30d0N15c6de83.jpg'/></div><div style='position:relative;display:inline-block'><img style='width: 180px;height:180px; margin: 0px; float: left; border: 1px solid black;' src='https://img12.360buyimg.com/imgzone/jfs/t1480/158/693433339/323582/f27e0066/55a75315N3cd81f53.jpg'/></div><div style='position:relative;display:inline-block'><img style='width: 180px;height:180px; margin: 0px; float: left; border: 1px solid black;' src='https://img11.360buyimg.com/imgzone/jfs/t3643/55/745979579/257627/a27e3137/5814490eNfdb8c537.jpg'/></div><div style='position:relative;display:inline-block'><img style='width: 180px;height:180px; margin: 0px; float: left; border: 1px solid black;' src='https://img13.360buyimg.com/imgzone/jfs/t3499/316/162065205/304582/e8fcb0ff/58018e4aN9235627f.jpg'/></div><div style='position:relative;display:inline-block'><img style='width: 180px;height:180px; margin: 0px; float: left; border: 1px solid black;' src='https://image.izhangan.com/nest_232fb9621e8b6857.jpg-300x300'/></div><div style='position:relative;display:inline-block'><img style='width: 180px;height:180px; margin: 0px; float: left; border: 1px solid black;' src='https://img14.360buyimg.com/imgzone/jfs/t4657/236/256794994/152647/a388f3dd/58cc5945N2c11e16e.jpg'/></div><div style='position:relative;display:inline-block'><img style='width: 180px;height:180px; margin: 0px; float: left; border: 1px solid black;' src='http://i01.c.aliimg.com/img/ibank/2017/356/973/4018379653_1049197181.310x310.jpg'/></div><div style='position:relative;display:inline-block'><img style='width: 180px;height:180px; margin: 0px; float: left; border: 1px solid black;' src='https://img.alicdn.com/imgextra/TB2CjYzgZbI8KJjy1zdXXbe1VXa_!!2299722261.jpg'/></div><div style='position:relative;display:inline-block'><img style='width: 180px;height:180px; margin: 0px; float: left; border: 1px solid black;' src='https://img.alicdn.com/imgextra/TB2ZzP.eoUIL1JjSZFrXXb3xFXa_!!2798037130.jpg'/></div><div style='position:relative;display:inline-block'><img style='width: 180px;height:180px; margin: 0px; float: left; border: 1px solid black;' src='http://www.pingsofa.com/wp-content/uploads/2015/09/%E6%AC%A7%E5%BC%8F%E7%94%B5%E8%A7%86%E6%9F%9C2.jpg'/></div><div style='position:relative;display:inline-block'><img style='width: 180px;height:180px; margin: 0px; float: left; border: 1px solid black;' src='https://img.alicdn.com/imgextra/TB11gMil7fb_uJjSsrbXXb6bVXa_!!0-item_pic.jpg'/></div><div style='position:relative;display:inline-block'><img style='width: 180px;height:180px; margin: 0px; float: left; border: 1px solid black;' src='https://img14.360buyimg.com/imgzone/jfs/t13330/71/838529483/135628/b8d83b2b/5a14d802N02ec4bca.jpg'/></div></div>"
      ],
      "text/plain": [
       "<IPython.core.display.HTML object>"
      ]
     },
     "metadata": {},
     "output_type": "display_data"
    },
    {
     "name": "stdout",
     "output_type": "stream",
     "text": [
      "предполагаемая категория:  \u001b[31mэтажерка\u001b[0m\n",
      "номер категории:  25\n"
     ]
    },
    {
     "data": {
      "text/html": [
       "<div><div style='position:relative;display:inline-block'><img style='width: 180px;height:180px; margin: 0px; float: left; border: 1px solid black;' src='https://img.alicdn.com/imgextra/TB2F8VfXJFopuFjSZFHXXbSlXXa_!!2577081146.jpg'/></div><div style='position:relative;display:inline-block'><img style='width: 180px;height:180px; margin: 0px; float: left; border: 1px solid black;' src='https://img.alicdn.com/imgextra/TB2ojV.vEdnpuFjSZPhXXbChpXa_!!181911413.jpg'/></div><div style='position:relative;display:inline-block'><img style='width: 180px;height:180px; margin: 0px; float: left; border: 1px solid black;' src='https://img10.360buyimg.com/imgzone/jfs/t12037/75/745362798/97698/9dab4b7e/5a1305fdN28337541.jpg'/></div><div style='position:relative;display:inline-block'><img style='width: 180px;height:180px; margin: 0px; float: left; border: 1px solid black;' src='https://img13.360buyimg.com/imgzone/jfs/t3823/35/3026659940/386571/972b3f93/5874632eN9d521666.jpg'/></div><div style='position:relative;display:inline-block'><img style='width: 180px;height:180px; margin: 0px; float: left; border: 1px solid black;' src='http://image.suning.cn/uimg/sop/commodity/630770236111948828156800_x.jpg'/></div><div style='position:relative;display:inline-block'><img style='width: 180px;height:180px; margin: 0px; float: left; border: 1px solid black;' src='https://img13.360buyimg.com/imgzone/jfs/t9475/230/2336372143/83150/23fb2a8a/59cb30deNd0cbd949.jpg'/></div><div style='position:relative;display:inline-block'><img style='width: 180px;height:180px; margin: 0px; float: left; border: 1px solid black;' src='https://img13.360buyimg.com/imgzone/jfs/t13852/81/620898097/207163/9cc9b826/5a0fdf13Ncea2a1fe.jpg'/></div><div style='position:relative;display:inline-block'><img style='width: 180px;height:180px; margin: 0px; float: left; border: 1px solid black;' src='https://img10.360buyimg.com/imgzone/jfs/t12184/156/2096207430/77177/b5de063a/5a333682N9695d288.jpg'/></div><div style='position:relative;display:inline-block'><img style='width: 180px;height:180px; margin: 0px; float: left; border: 1px solid black;' src='http://image1.yihaojiaju.com/1/0/SysImg/0/2017/01/10/163547988.jpg'/></div><div style='position:relative;display:inline-block'><img style='width: 180px;height:180px; margin: 0px; float: left; border: 1px solid black;' src='http://gaitaobao2.alicdn.com/tfscom/i3/1094357745/TB2xyHzjq8lpuFjy0FpXXaGrpXa_!!1094357745.jpg_310x310.jpg'/></div><div style='position:relative;display:inline-block'><img style='width: 180px;height:180px; margin: 0px; float: left; border: 1px solid black;' src='https://img14.360buyimg.com/imgzone/jfs/t3829/18/3488498625/85532/9b583d7e/589acebdN344a2205.jpg'/></div><div style='position:relative;display:inline-block'><img style='width: 180px;height:180px; margin: 0px; float: left; border: 1px solid black;' src='https://img.alicdn.com/imgextra/TB2I16bXNHI8KJjy1zbXXaxdpXa_!!3483594007.jpg'/></div></div>"
      ],
      "text/plain": [
       "<IPython.core.display.HTML object>"
      ]
     },
     "metadata": {},
     "output_type": "display_data"
    },
    {
     "name": "stdout",
     "output_type": "stream",
     "text": [
      "номер категории:  34\n"
     ]
    },
    {
     "data": {
      "text/html": [
       "<div><div style='position:relative;display:inline-block'><img style='width: 180px;height:180px; margin: 0px; float: left; border: 1px solid black;' src='https://img.alicdn.com/imgextra/TB2mTmfhh6I8KJjy0FgXXXXzVXa_!!3525030485.jpg'/></div><div style='position:relative;display:inline-block'><img style='width: 180px;height:180px; margin: 0px; float: left; border: 1px solid black;' src='https://img13.360buyimg.com/imgzone/jfs/t13093/157/2346816558/181404/b65a0c82/5a3aca56Nb854185d.jpg'/></div><div style='position:relative;display:inline-block'><img style='width: 180px;height:180px; margin: 0px; float: left; border: 1px solid black;' src='https://img.alicdn.com/imgextra/TB1693wcPnD8KJjSspbXXbbEXXa_!!0-item_pic.jpg'/></div><div style='position:relative;display:inline-block'><img style='width: 180px;height:180px; margin: 0px; float: left; border: 1px solid black;' src='https://img.alicdn.com/imgextra/TB1Q7G3aKEJL1JjSZFGXXa6OXXa_!!0-item_pic.jpg'/></div><div style='position:relative;display:inline-block'><img style='width: 180px;height:180px; margin: 0px; float: left; border: 1px solid black;' src='https://img10.360buyimg.com/imgzone/jfs/t10360/173/2037838601/87768/97d834e/59edbc66N5f856fd9.jpg'/></div><div style='position:relative;display:inline-block'><img style='width: 180px;height:180px; margin: 0px; float: left; border: 1px solid black;' src='https://img.alicdn.com/imgextra/TB2S2vUlBDH8KJjSspnXXbNAVXa_!!3147946864.jpg'/></div><div style='position:relative;display:inline-block'><img style='width: 180px;height:180px; margin: 0px; float: left; border: 1px solid black;' src='https://img.alicdn.com/imgextra/TB2XX9Xe2al9eJjSZFzXXaITVXa_!!2081654474.jpg'/></div><div style='position:relative;display:inline-block'><img style='width: 180px;height:180px; margin: 0px; float: left; border: 1px solid black;' src='https://img10.360buyimg.com/imgzone/jfs/t8932/126/898267685/89975/562ab20d/59b35e5fN99ee82a5.jpg'/></div><div style='position:relative;display:inline-block'><img style='width: 180px;height:180px; margin: 0px; float: left; border: 1px solid black;' src='https://img10.360buyimg.com/imgzone/jfs/t6139/132/768440286/240346/847f085/5944f3a5Na6e35409.jpg'/></div><div style='position:relative;display:inline-block'><img style='width: 180px;height:180px; margin: 0px; float: left; border: 1px solid black;' src='https://img.alicdn.com/imgextra/TB1VJhmRpXXXXcZXVXXXXXXXXXX_!!0-item_pic.jpg'/></div><div style='position:relative;display:inline-block'><img style='width: 180px;height:180px; margin: 0px; float: left; border: 1px solid black;' src='http://static.jiaju.com/malljiaju/xhbox/64/13/4e75afdf3a0a401300a9.jpg'/></div><div style='position:relative;display:inline-block'><img style='width: 180px;height:180px; margin: 0px; float: left; border: 1px solid black;' src='http://img010.hc360.cn/g3/M06/E1/DD/wKhQvVKOqNWEBFt5AAAAAJOTTIo936.jpg'/></div></div>"
      ],
      "text/plain": [
       "<IPython.core.display.HTML object>"
      ]
     },
     "metadata": {},
     "output_type": "display_data"
    },
    {
     "name": "stdout",
     "output_type": "stream",
     "text": [
      "предполагаемая категория:  \u001b[31mсервант\u001b[0m\n",
      "номер категории:  61\n"
     ]
    },
    {
     "data": {
      "text/html": [
       "<div><div style='position:relative;display:inline-block'><img style='width: 180px;height:180px; margin: 0px; float: left; border: 1px solid black;' src='http://f.hiphotos.baidu.com/bdp_fbp/pic/item/8cb1cb1349540923105c9aa49a58d109b3de4937.jpg'/></div><div style='position:relative;display:inline-block'><img style='width: 180px;height:180px; margin: 0px; float: left; border: 1px solid black;' src='https://img.alicdn.com/imgextra/TB2cjpHtgxlpuFjSszgXXcJdpXa_!!281066497.jpg'/></div><div style='position:relative;display:inline-block'><img style='width: 180px;height:180px; margin: 0px; float: left; border: 1px solid black;' src='http://imgs6.iaweg.com/pic/HTTP2ltZy53YWRvbmd4aS5uZXQvYXJjaGl2ZS96aXh1bi93eC8xNDA3LzllL2NlZGIzYjA2NDRhYTI5ZS5qcGclog.jpg'/></div><div style='position:relative;display:inline-block'><img style='width: 180px;height:180px; margin: 0px; float: left; border: 1px solid black;' src='https://img12.360buyimg.com/imgzone/jfs/t6652/36/2499341377/381790/15ec05ba/59632056Nae295423.jpg'/></div><div style='position:relative;display:inline-block'><img style='width: 180px;height:180px; margin: 0px; float: left; border: 1px solid black;' src='https://img14.360buyimg.com/imgzone/jfs/t14716/117/879552703/109159/bee042e2/5a3be21fNfb50c8a0.jpg'/></div><div style='position:relative;display:inline-block'><img style='width: 180px;height:180px; margin: 0px; float: left; border: 1px solid black;' src='https://img.alicdn.com/imgextra/TB2R35UXYaI.eBjSszdXXaB6XXa_!!306486609.jpg'/></div><div style='position:relative;display:inline-block'><img style='width: 180px;height:180px; margin: 0px; float: left; border: 1px solid black;' src='https://img.alicdn.com/imgextra/TB2R8RkX8LN8KJjSZFPXXXoLXXa_!!2760399363.jpg'/></div><div style='position:relative;display:inline-block'><img style='width: 180px;height:180px; margin: 0px; float: left; border: 1px solid black;' src='https://img12.360buyimg.com/imgzone/jfs/t18361/346/44020399/186797/f4dd1b67/5a58af07Ndd8d36d3.jpg'/></div><div style='position:relative;display:inline-block'><img style='width: 180px;height:180px; margin: 0px; float: left; border: 1px solid black;' src='http://img.qy6.com/new15/txgsjiaju/1410597062.jpg'/></div><div style='position:relative;display:inline-block'><img style='width: 180px;height:180px; margin: 0px; float: left; border: 1px solid black;' src='https://img.alicdn.com/imgextra/TB2bBIedFHM8KJjSZJiXXbx3FXa_!!3275568824.jpg'/></div><div style='position:relative;display:inline-block'><img style='width: 180px;height:180px; margin: 0px; float: left; border: 1px solid black;' src='https://img14.360buyimg.com/imgzone/jfs/t3274/236/3653893611/301233/cce42b7a/57f72205N4a47741a.jpg'/></div><div style='position:relative;display:inline-block'><img style='width: 180px;height:180px; margin: 0px; float: left; border: 1px solid black;' src='https://img.alicdn.com/imgextra/TB2iIQQl80lpuFjSszdXXcdxFXa_!!293155745.jpg'/></div></div>"
      ],
      "text/plain": [
       "<IPython.core.display.HTML object>"
      ]
     },
     "metadata": {},
     "output_type": "display_data"
    },
    {
     "name": "stdout",
     "output_type": "stream",
     "text": [
      "предполагаемая категория:  \u001b[31mкнижный шкаф\u001b[0m\n",
      "номер категории:  75\n"
     ]
    },
    {
     "data": {
      "text/html": [
       "<div><div style='position:relative;display:inline-block'><img style='width: 180px;height:180px; margin: 0px; float: left; border: 1px solid black;' src='http://imgsrc.baidu.com/image/c0%3Dpixel_huitu%2C0%2C0%2C294%2C40/sign=2dcbb80f16950a7b6138468463a907b5/730e0cf3d7ca7bcb6b852416b5096b63f624a809.jpg'/></div><div style='position:relative;display:inline-block'><img style='width: 180px;height:180px; margin: 0px; float: left; border: 1px solid black;' src='https://img.alicdn.com/imgextra/TB2IR8ocJbJ8KJjy1zjXXaqapXa_!!140117034.jpg'/></div><div style='position:relative;display:inline-block'><img style='width: 180px;height:180px; margin: 0px; float: left; border: 1px solid black;' src='http://qhyxpic.oss.kujiale.com/2015/12/24/T4MMRLGO7DTGWQQPLQM6YOI8.jpg'/></div><div style='position:relative;display:inline-block'><img style='width: 180px;height:180px; margin: 0px; float: left; border: 1px solid black;' src='http://pic1.to8to.com/smallcase/1506/06/20150606_65e61eb2effe66b10910kkfh9shppic6_284.jpg'/></div><div style='position:relative;display:inline-block'><img style='width: 180px;height:180px; margin: 0px; float: left; border: 1px solid black;' src='http://img1n.soufunimg.com/zxb/2014_05/13/12/45/pic/004567500300.jpg'/></div><div style='position:relative;display:inline-block'><img style='width: 180px;height:180px; margin: 0px; float: left; border: 1px solid black;' src='http://www.cdadsj.com/uploads/allimg/150425/4-15042516432V55.jpg'/></div><div style='position:relative;display:inline-block'><img style='width: 180px;height:180px; margin: 0px; float: left; border: 1px solid black;' src='http://imgsrc.baidu.com/image/c0%3Dpixel_huitu%2C0%2C0%2C294%2C40/sign=7f4d2ce4a064034f1bc0ca46c6bb1c5d/8601a18b87d6277faa99d00123381f30e924fc04.jpg'/></div><div style='position:relative;display:inline-block'><img style='width: 180px;height:180px; margin: 0px; float: left; border: 1px solid black;' src='https://img.alicdn.com/imgextra/TB2B3zbirFlpuFjy0FgXXbRBVXa_!!2961901200.jpg'/></div><div style='position:relative;display:inline-block'><img style='width: 180px;height:180px; margin: 0px; float: left; border: 1px solid black;' src='https://gw.alicdn.com/bao/uploaded/i2/T10LvQXeJgXXaCQevX_085020.jpg_460x460xz.jpg'/></div><div style='position:relative;display:inline-block'><img style='width: 180px;height:180px; margin: 0px; float: left; border: 1px solid black;' src='http://imgqn.koudaitong.com/upload_files/2015/01/21/Fn3fGRpOUowIEFO3hZW8G-r9LRLD.jpg%21300x300+2x.jpg'/></div><div style='position:relative;display:inline-block'><img style='width: 180px;height:180px; margin: 0px; float: left; border: 1px solid black;' src='http://www.mzw98.com/Uploads/5a503d97ac1da.jpg'/></div><div style='position:relative;display:inline-block'><img style='width: 180px;height:180px; margin: 0px; float: left; border: 1px solid black;' src='https://img12.360buyimg.com/imgzone/jfs/t5605/345/3808457416/409166/2e739339/594293f3N08a28fe8.jpg'/></div></div>"
      ],
      "text/plain": [
       "<IPython.core.display.HTML object>"
      ]
     },
     "metadata": {},
     "output_type": "display_data"
    },
    {
     "name": "stdout",
     "output_type": "stream",
     "text": [
      "предполагаемая категория:  \u001b[31mприкроватная тумба\u001b[0m\n",
      "номер категории:  31\n"
     ]
    },
    {
     "data": {
      "text/html": [
       "<div><div style='position:relative;display:inline-block'><img style='width: 180px;height:180px; margin: 0px; float: left; border: 1px solid black;' src='https://img.alicdn.com/imgextra/TB2CnSuiNrI8KJjy0FpXXb5hVXa_!!3070068451.jpg'/></div><div style='position:relative;display:inline-block'><img style='width: 180px;height:180px; margin: 0px; float: left; border: 1px solid black;' src='https://img12.360buyimg.com/imgzone/jfs/t15955/223/1854595554/292585/f6bc14e1/5a642cd5Na1fb205e.jpg'/></div><div style='position:relative;display:inline-block'><img style='width: 180px;height:180px; margin: 0px; float: left; border: 1px solid black;' src='http://www.yoagoa.com/photos/info/20160531/20160531074656309.jpg'/></div><div style='position:relative;display:inline-block'><img style='width: 180px;height:180px; margin: 0px; float: left; border: 1px solid black;' src='http://www.douhaomall.com/upload/2016-10/%E7%8E%B0%E4%BB%A3%E7%AE%80%E7%BA%A6%E5%BA%8A%E5%A4%B4%E6%9F%9C%E6%95%B4%E8%A3%85%E5%BA%8A%E8%BE%B9%E6%9F%9C%E6%A9%A1%E6%9C%A8%E5%AE%9E%E6%9C%A8%E6%A9%A1%E8%83%B6%E6%9C%A8%E5%84%BF%E7%AB%A52%E5%B1%82%E6%8A%BD%E5%B1%89(%E7%99%BD%E8%89%B2)%20480mm%20400mm%20520mm%20%E4%B8%BB%E5%9B%BE001_1476039844511.jpg'/></div><div style='position:relative;display:inline-block'><img style='width: 180px;height:180px; margin: 0px; float: left; border: 1px solid black;' src='http://pic1.shejiben.com/mall/2013/10/10/20131010205955-71cbde41_m.jpg'/></div><div style='position:relative;display:inline-block'><img style='width: 180px;height:180px; margin: 0px; float: left; border: 1px solid black;' src='https://img.alicdn.com/imgextra/TB1f_mmGFXXXXaLXpXXXXXXXXXX_!!0-item_pic.jpg'/></div><div style='position:relative;display:inline-block'><img style='width: 180px;height:180px; margin: 0px; float: left; border: 1px solid black;' src='http://pic.shejiben.com/mall/2013/09/29/20130929225019-52d33255_m.jpg'/></div><div style='position:relative;display:inline-block'><img style='width: 180px;height:180px; margin: 0px; float: left; border: 1px solid black;' src='https://img.alicdn.com/imgextra/T12j2VFuRdXXXXXXXX_!!2-item_pic.png'/></div><div style='position:relative;display:inline-block'><img style='width: 180px;height:180px; margin: 0px; float: left; border: 1px solid black;' src='http://pic1.shejiben.com/mall/2013/09/28/20130928091511-2f6875aa_m.jpg'/></div><div style='position:relative;display:inline-block'><img style='width: 180px;height:180px; margin: 0px; float: left; border: 1px solid black;' src='http://img2.3png.com/97b8b71a88bc9b4f656ab26b5175eb63b3db.png'/></div><div style='position:relative;display:inline-block'><img style='width: 180px;height:180px; margin: 0px; float: left; border: 1px solid black;' src='https://img10.360buyimg.com/imgzone/jfs/t12268/44/1760371935/561303/84727d6e/5a28a2ebN45c3497a.jpg'/></div><div style='position:relative;display:inline-block'><img style='width: 180px;height:180px; margin: 0px; float: left; border: 1px solid black;' src='https://img13.360buyimg.com/imgzone/jfs/t16228/151/1180634115/17119/26115658/5a4cedfaNdb50f6f2.jpg'/></div></div>"
      ],
      "text/plain": [
       "<IPython.core.display.HTML object>"
      ]
     },
     "metadata": {},
     "output_type": "display_data"
    },
    {
     "name": "stdout",
     "output_type": "stream",
     "text": [
      "предполагаемая категория:  \u001b[31mнеизвестное хранение\u001b[0m\n",
      "номер категории:  34\n"
     ]
    },
    {
     "data": {
      "text/html": [
       "<div><div style='position:relative;display:inline-block'><img style='width: 180px;height:180px; margin: 0px; float: left; border: 1px solid black;' src='https://img.alicdn.com/imgextra/TB2mTmfhh6I8KJjy0FgXXXXzVXa_!!3525030485.jpg'/></div><div style='position:relative;display:inline-block'><img style='width: 180px;height:180px; margin: 0px; float: left; border: 1px solid black;' src='https://img13.360buyimg.com/imgzone/jfs/t13093/157/2346816558/181404/b65a0c82/5a3aca56Nb854185d.jpg'/></div><div style='position:relative;display:inline-block'><img style='width: 180px;height:180px; margin: 0px; float: left; border: 1px solid black;' src='https://img.alicdn.com/imgextra/TB1693wcPnD8KJjSspbXXbbEXXa_!!0-item_pic.jpg'/></div><div style='position:relative;display:inline-block'><img style='width: 180px;height:180px; margin: 0px; float: left; border: 1px solid black;' src='https://img.alicdn.com/imgextra/TB1Q7G3aKEJL1JjSZFGXXa6OXXa_!!0-item_pic.jpg'/></div><div style='position:relative;display:inline-block'><img style='width: 180px;height:180px; margin: 0px; float: left; border: 1px solid black;' src='https://img10.360buyimg.com/imgzone/jfs/t10360/173/2037838601/87768/97d834e/59edbc66N5f856fd9.jpg'/></div><div style='position:relative;display:inline-block'><img style='width: 180px;height:180px; margin: 0px; float: left; border: 1px solid black;' src='https://img.alicdn.com/imgextra/TB2S2vUlBDH8KJjSspnXXbNAVXa_!!3147946864.jpg'/></div><div style='position:relative;display:inline-block'><img style='width: 180px;height:180px; margin: 0px; float: left; border: 1px solid black;' src='https://img.alicdn.com/imgextra/TB2XX9Xe2al9eJjSZFzXXaITVXa_!!2081654474.jpg'/></div><div style='position:relative;display:inline-block'><img style='width: 180px;height:180px; margin: 0px; float: left; border: 1px solid black;' src='https://img10.360buyimg.com/imgzone/jfs/t8932/126/898267685/89975/562ab20d/59b35e5fN99ee82a5.jpg'/></div><div style='position:relative;display:inline-block'><img style='width: 180px;height:180px; margin: 0px; float: left; border: 1px solid black;' src='https://img10.360buyimg.com/imgzone/jfs/t6139/132/768440286/240346/847f085/5944f3a5Na6e35409.jpg'/></div><div style='position:relative;display:inline-block'><img style='width: 180px;height:180px; margin: 0px; float: left; border: 1px solid black;' src='https://img.alicdn.com/imgextra/TB1VJhmRpXXXXcZXVXXXXXXXXXX_!!0-item_pic.jpg'/></div><div style='position:relative;display:inline-block'><img style='width: 180px;height:180px; margin: 0px; float: left; border: 1px solid black;' src='http://static.jiaju.com/malljiaju/xhbox/64/13/4e75afdf3a0a401300a9.jpg'/></div><div style='position:relative;display:inline-block'><img style='width: 180px;height:180px; margin: 0px; float: left; border: 1px solid black;' src='http://img010.hc360.cn/g3/M06/E1/DD/wKhQvVKOqNWEBFt5AAAAAJOTTIo936.jpg'/></div></div>"
      ],
      "text/plain": [
       "<IPython.core.display.HTML object>"
      ]
     },
     "metadata": {},
     "output_type": "display_data"
    },
    {
     "name": "stdout",
     "output_type": "stream",
     "text": [
      "номер категории:  62\n"
     ]
    },
    {
     "data": {
      "text/html": [
       "<div><div style='position:relative;display:inline-block'><img style='width: 180px;height:180px; margin: 0px; float: left; border: 1px solid black;' src='https://img11.360buyimg.com/imgzone/jfs/t12694/218/1578300487/385402/992f8788/5a22d3e7N3752a0b7.jpg'/></div><div style='position:relative;display:inline-block'><img style='width: 180px;height:180px; margin: 0px; float: left; border: 1px solid black;' src='https://img14.360buyimg.com/imgzone/jfs/t16138/126/1665487791/129969/6e7c3172/5a608776Nc5b73cbe.jpg'/></div><div style='position:relative;display:inline-block'><img style='width: 180px;height:180px; margin: 0px; float: left; border: 1px solid black;' src='https://img.alicdn.com/imgextra/TB2oxf6cDSPY1JjSZPcXXXIwpXa_!!2955291736.jpg'/></div><div style='position:relative;display:inline-block'><img style='width: 180px;height:180px; margin: 0px; float: left; border: 1px solid black;' src='https://img.alicdn.com/imgextra/TB2jzvyalfM8KJjSZFrXXXSdXXa_!!2535764705.gif'/></div><div style='position:relative;display:inline-block'><img style='width: 180px;height:180px; margin: 0px; float: left; border: 1px solid black;' src='https://img13.360buyimg.com/imgzone/jfs/t19759/311/143929491/380706/6bbd3ab9/5a60130aN7aedb4c2.jpg'/></div><div style='position:relative;display:inline-block'><img style='width: 180px;height:180px; margin: 0px; float: left; border: 1px solid black;' src='https://img.alicdn.com/imgextra/TB1k3NkPVXXXXX5aXXXYXGcGpXX_M2.SS2'/></div><div style='position:relative;display:inline-block'><img style='width: 180px;height:180px; margin: 0px; float: left; border: 1px solid black;' src='http://auto.ln110.com.cn/upload/images/bao/uploaded/i3/TB1NgMaHFXXXXcKapXXXXXXXXXX_%21%210-item_pic.jpg_460x460.jpg'/></div><div style='position:relative;display:inline-block'><img style='width: 180px;height:180px; margin: 0px; float: left; border: 1px solid black;' src='https://img.alicdn.com/imgextra/TB2KyHBjmBjpuFjy1XdXXaooVXa_!!2473089418.jpg'/></div><div style='position:relative;display:inline-block'><img style='width: 180px;height:180px; margin: 0px; float: left; border: 1px solid black;' src='http://www.lingdunwang.com/images/TB1ROcYFFXXXXX_XXXXXXXXXXXX_!!0-item_pic.jpg'/></div><div style='position:relative;display:inline-block'><img style='width: 180px;height:180px; margin: 0px; float: left; border: 1px solid black;' src='https://img13.360buyimg.com/imgzone/jfs/t19519/112/148465745/120945/c0e2b3ae/5a601416Ne6d442fc.jpg'/></div><div style='position:relative;display:inline-block'><img style='width: 180px;height:180px; margin: 0px; float: left; border: 1px solid black;' src='https://img.alicdn.com/imgextra/TB2oIFHgPnD8KJjSspbXXbbEXXa_!!3485121409.jpg'/></div><div style='position:relative;display:inline-block'><img style='width: 180px;height:180px; margin: 0px; float: left; border: 1px solid black;' src='https://img.alicdn.com/imgextra/TB2vT5uaUgQMeJjy0FiXXXhqXXa_!!2259709743.jpg'/></div></div>"
      ],
      "text/plain": [
       "<IPython.core.display.HTML object>"
      ]
     },
     "metadata": {},
     "output_type": "display_data"
    },
    {
     "name": "stdout",
     "output_type": "stream",
     "text": [
      "номер категории:  71\n"
     ]
    },
    {
     "data": {
      "text/html": [
       "<div><div style='position:relative;display:inline-block'><img style='width: 180px;height:180px; margin: 0px; float: left; border: 1px solid black;' src='http://m.360buyimg.com/n12/jfs/t2086/202/2008416305/113271/baa44556/569717c6Nceeeb546.jpg%21q70.jpg'/></div><div style='position:relative;display:inline-block'><img style='width: 180px;height:180px; margin: 0px; float: left; border: 1px solid black;' src='http://www.t-biao.com/tubiaoJDAzJDIzLzgxNzM0NjYxMC9UQjJaUjJBaCQ2WGJZWHAkNTgxNzM0NjYxMCQ5.jpg'/></div><div style='position:relative;display:inline-block'><img style='width: 180px;height:180px; margin: 0px; float: left; border: 1px solid black;' src='https://img13.360buyimg.com/imgzone/jfs/t6721/44/515434136/54057/4f820742/5940d8d6N3151a7d6.jpg'/></div><div style='position:relative;display:inline-block'><img style='width: 180px;height:180px; margin: 0px; float: left; border: 1px solid black;' src='https://imgx.wadongxi.net/item/i1/TB1a3G5kzihSKJjy0FfXXbGzFXa_!!0-item_pic.jpg_400x400Q90.jpg'/></div><div style='position:relative;display:inline-block'><img style='width: 180px;height:180px; margin: 0px; float: left; border: 1px solid black;' src='https://img10.360buyimg.com/imgzone/jfs/t16516/335/1128056/477962/8e45c9cc/5a250456N4d3d4925.jpg'/></div><div style='position:relative;display:inline-block'><img style='width: 180px;height:180px; margin: 0px; float: left; border: 1px solid black;' src='https://img14.360buyimg.com/imgzone/jfs/t5935/261/1853352580/213558/145638ca/593661ceN6f37af57.jpg'/></div><div style='position:relative;display:inline-block'><img style='width: 180px;height:180px; margin: 0px; float: left; border: 1px solid black;' src='http://pic1.shejiben.com/mall/2013/11/01/20131101000814-0381b4bb_m.jpg'/></div><div style='position:relative;display:inline-block'><img style='width: 180px;height:180px; margin: 0px; float: left; border: 1px solid black;' src='https://img.alicdn.com/imgextra/TB2v7sUtB0kpuFjSsppXXcGTXXa_!!1050549896.jpg'/></div><div style='position:relative;display:inline-block'><img style='width: 180px;height:180px; margin: 0px; float: left; border: 1px solid black;' src='https://img10.360buyimg.com/imgzone/jfs/t12751/68/178321466/465483/de78dd73/5a057aaeN663323f5.jpg'/></div><div style='position:relative;display:inline-block'><img style='width: 180px;height:180px; margin: 0px; float: left; border: 1px solid black;' src='https://img.alicdn.com/imgextra/TB21BPEepXXXXbOXpXXXXXXXXXX_!!2597589547.jpg'/></div><div style='position:relative;display:inline-block'><img style='width: 180px;height:180px; margin: 0px; float: left; border: 1px solid black;' src='http://img002.hc360.cn/hb/MTQ2MDYwMjAxNzI5NjMwNjUyMDQ3NQ==.jpg'/></div><div style='position:relative;display:inline-block'><img style='width: 180px;height:180px; margin: 0px; float: left; border: 1px solid black;' src='https://img13.360buyimg.com/imgzone/jfs/t17692/329/161645191/164026/9445333f/5a6090b5Ncc2a2488.jpg'/></div></div>"
      ],
      "text/plain": [
       "<IPython.core.display.HTML object>"
      ]
     },
     "metadata": {},
     "output_type": "display_data"
    },
    {
     "name": "stdout",
     "output_type": "stream",
     "text": [
      "номер категории:  103\n"
     ]
    },
    {
     "data": {
      "text/html": [
       "<div><div style='position:relative;display:inline-block'><img style='width: 180px;height:180px; margin: 0px; float: left; border: 1px solid black;' src='https://img11.360buyimg.com/imgzone/jfs/t13441/274/2333448046/225753/5d3de7b2/5a509485Nc20b677d.jpg'/></div><div style='position:relative;display:inline-block'><img style='width: 180px;height:180px; margin: 0px; float: left; border: 1px solid black;' src='https://img.alicdn.com/imgextra/TB25L24a49fF1Jjy1XcXXc_rVXa_!!3012184801.jpg'/></div><div style='position:relative;display:inline-block'><img style='width: 180px;height:180px; margin: 0px; float: left; border: 1px solid black;' src='http://static.julytime.com/upload/commodity/f2/18/272742834270f218397d0ddb.jpg_278x278.jpg'/></div><div style='position:relative;display:inline-block'><img style='width: 180px;height:180px; margin: 0px; float: left; border: 1px solid black;' src='https://img.alicdn.com/imgextra/TB2MMA7f9YH8KJjSspdXXcRgVXa_!!3034963018.jpg'/></div><div style='position:relative;display:inline-block'><img style='width: 180px;height:180px; margin: 0px; float: left; border: 1px solid black;' src='https://img.alicdn.com/imgextra/TB2ybSgtXXXXXcyXpXXXXXXXXXX_!!2609061851.jpg'/></div><div style='position:relative;display:inline-block'><img style='width: 180px;height:180px; margin: 0px; float: left; border: 1px solid black;' src='http://www.huanai.com/images/201608/goods_img/2760_P_1472086066160.jpg'/></div><div style='position:relative;display:inline-block'><img style='width: 180px;height:180px; margin: 0px; float: left; border: 1px solid black;' src='https://img12.360buyimg.com/imgzone/jfs/t15367/51/1107443143/80751/cd042e0/5a45acafNce17452e.jpg'/></div><div style='position:relative;display:inline-block'><img style='width: 180px;height:180px; margin: 0px; float: left; border: 1px solid black;' src='https://img.alicdn.com/imgextra/TB2_ARfiNTI8KJjSspiXXbM4FXa_!!2196866468.jpg'/></div><div style='position:relative;display:inline-block'><img style='width: 180px;height:180px; margin: 0px; float: left; border: 1px solid black;' src='https://img.alicdn.com/imgextra/TB2_R.eaunAQeBjSZFkXXaC5FXa_!!264103440.jpg'/></div><div style='position:relative;display:inline-block'><img style='width: 180px;height:180px; margin: 0px; float: left; border: 1px solid black;' src='https://img.alicdn.com/imgextra/TB1PcXhagAq0eJjSZFtXXc.qVXa_!!0-item_pic.jpg'/></div><div style='position:relative;display:inline-block'><img style='width: 180px;height:180px; margin: 0px; float: left; border: 1px solid black;' src='https://img.alicdn.com/imgextra/TB2Nxb0tVXXXXbiXXXXXXXXXXXX_!!855241388.jpg'/></div><div style='position:relative;display:inline-block'><img style='width: 180px;height:180px; margin: 0px; float: left; border: 1px solid black;' src='http://img.yidoutang.com/upload/sharing/normal/201704/ee/201704081116e2ee.jpg!500'/></div></div>"
      ],
      "text/plain": [
       "<IPython.core.display.HTML object>"
      ]
     },
     "metadata": {},
     "output_type": "display_data"
    }
   ],
   "source": [
    "for k,v in storage.items():\n",
    "    print('предполагаемая категория: ', colored(k, 'red'))\n",
    "    for _v in v:\n",
    "        print('номер категории: ', _v)\n",
    "        displayCategoryExamples(12, _v)"
   ]
  },
  {
   "cell_type": "code",
   "execution_count": null,
   "metadata": {},
   "outputs": [],
   "source": []
  },
  {
   "cell_type": "code",
   "execution_count": 134,
   "metadata": {},
   "outputs": [
    {
     "name": "stdout",
     "output_type": "stream",
     "text": [
      "предполагаемая категория:  \u001b[31mстул\u001b[0m\n",
      "номер категории:  15\n"
     ]
    },
    {
     "data": {
      "text/html": [
       "<div><div style='position:relative;display:inline-block'><img style='width: 180px;height:180px; margin: 0px; float: left; border: 1px solid black;' src='https://img11.360buyimg.com/imgzone/jfs/t2170/311/343274345/330214/4acf62f8/56039fcaN3c8c1d65.jpg'/></div><div style='position:relative;display:inline-block'><img style='width: 180px;height:180px; margin: 0px; float: left; border: 1px solid black;' src='http://www.zhuangshangyin.com/UploadFile/20150910/productImg/b772009d-ac7e-4809-85b3-29b3240b8449.jpg'/></div><div style='position:relative;display:inline-block'><img style='width: 180px;height:180px; margin: 0px; float: left; border: 1px solid black;' src='http://www.yoagoa.com/photos/info/20160318/20160318073831075.jpg'/></div><div style='position:relative;display:inline-block'><img style='width: 180px;height:180px; margin: 0px; float: left; border: 1px solid black;' src='http://image5.suning.cn/b2c/catentries/000000000626814890_5_800x800.jpg'/></div><div style='position:relative;display:inline-block'><img style='width: 180px;height:180px; margin: 0px; float: left; border: 1px solid black;' src='https://www.uwood.com.tw/userfiles/goods/25720170125141752.jpg'/></div><div style='position:relative;display:inline-block'><img style='width: 180px;height:180px; margin: 0px; float: left; border: 1px solid black;' src='http://auto.ln110.com.cn/upload/images/bao/uploaded/i2/13291025971581704/T19.l_FgBbXXXXXXXX_%21%210-item_pic.jpg_460x460.jpg'/></div><div style='position:relative;display:inline-block'><img style='width: 180px;height:180px; margin: 0px; float: left; border: 1px solid black;' src='https://img14.360buyimg.com/imgzone/jfs/t2641/245/538741704/177212/14b89a3e/571879b9Nbad80af2.jpg'/></div><div style='position:relative;display:inline-block'><img style='width: 180px;height:180px; margin: 0px; float: left; border: 1px solid black;' src='http://pic1.shejiben.com/mall/2013/10/21/20131021230532-673f6281_m.jpg'/></div><div style='position:relative;display:inline-block'><img style='width: 180px;height:180px; margin: 0px; float: left; border: 1px solid black;' src='https://img.alicdn.com/imgextra/TB2vRiCgpXXXXagXXXXXXXXXXXX_!!1988461194.png'/></div><div style='position:relative;display:inline-block'><img style='width: 180px;height:180px; margin: 0px; float: left; border: 1px solid black;' src='https://img10.360buyimg.com/imgzone/jfs/t2923/292/1211927239/265033/258dccb0/5779d7e5N1bd86926.jpg'/></div><div style='position:relative;display:inline-block'><img style='width: 180px;height:180px; margin: 0px; float: left; border: 1px solid black;' src='http://cdn.shopify.com/s/files/1/0744/0467/products/muuto-nerd-chair_15_7ad3330b-7020-458b-9812-982989ff60d2.png?v=1483527487'/></div><div style='position:relative;display:inline-block'><img style='width: 180px;height:180px; margin: 0px; float: left; border: 1px solid black;' src='https://img14.360buyimg.com/imgzone/jfs/t8674/136/40981851/62370/e9d3b31f/599f8f34N05388d77.jpg'/></div></div>"
      ],
      "text/plain": [
       "<IPython.core.display.HTML object>"
      ]
     },
     "metadata": {},
     "output_type": "display_data"
    },
    {
     "name": "stdout",
     "output_type": "stream",
     "text": [
      "номер категории:  23\n"
     ]
    },
    {
     "data": {
      "text/html": [
       "<div><div style='position:relative;display:inline-block'><img style='width: 180px;height:180px; margin: 0px; float: left; border: 1px solid black;' src='https://img.alicdn.com/imgextra/TB2FgkkqJhvOuFjSZFBXXcZgFXa_!!2004206636.jpg'/></div><div style='position:relative;display:inline-block'><img style='width: 180px;height:180px; margin: 0px; float: left; border: 1px solid black;' src='http://d7.yihaodianimg.com/N03/M03/6E/AA/CgQCtVOrifaAbzUWAAF6I-kxQZc03200_600x600.jpg'/></div><div style='position:relative;display:inline-block'><img style='width: 180px;height:180px; margin: 0px; float: left; border: 1px solid black;' src='http://image.suning.cn/content/catentries/00000000010499/000000000104992857/fullimage/000000000104992857_1f.jpg'/></div><div style='position:relative;display:inline-block'><img style='width: 180px;height:180px; margin: 0px; float: left; border: 1px solid black;' src='https://img.alicdn.com/imgextra/TB1zGaAX9Ct61JjSZFqYXHPqpXa_M2.SS2'/></div><div style='position:relative;display:inline-block'><img style='width: 180px;height:180px; margin: 0px; float: left; border: 1px solid black;' src='https://img11.360buyimg.com/imgzone/jfs/t5731/58/4823173882/76445/61e49e47/5955deedN71104cca.jpg'/></div><div style='position:relative;display:inline-block'><img style='width: 180px;height:180px; margin: 0px; float: left; border: 1px solid black;' src='https://img.alicdn.com/imgextra/TB2unHZnBDH8KJjy1zeXXXjepXa_!!1034374430.jpg'/></div><div style='position:relative;display:inline-block'><img style='width: 180px;height:180px; margin: 0px; float: left; border: 1px solid black;' src='https://img11.360buyimg.com/imgzone/jfs/t5653/139/9207024228/278231/ed79eb36/5983d153N70c7867a.jpg'/></div><div style='position:relative;display:inline-block'><img style='width: 180px;height:180px; margin: 0px; float: left; border: 1px solid black;' src='http://img10.360buyimg.com/imgzone/jfs/t2413/38/25277382/101443/3c415709/55e6dfebN33ab024f.gif'/></div><div style='position:relative;display:inline-block'><img style='width: 180px;height:180px; margin: 0px; float: left; border: 1px solid black;' src='https://img13.360buyimg.com/imgzone/jfs/t8023/41/2532121507/205705/92f3b89f/59d00ec8N5f47a0c7.jpg'/></div><div style='position:relative;display:inline-block'><img style='width: 180px;height:180px; margin: 0px; float: left; border: 1px solid black;' src='https://img10.360buyimg.com/imgzone/g16/M00/06/08/rBEbRlN0Y2wIAAAAAANFXvtRry4AABN5QGhqroAA0V2661.jpg'/></div><div style='position:relative;display:inline-block'><img style='width: 180px;height:180px; margin: 0px; float: left; border: 1px solid black;' src='https://img10.360buyimg.com/imgzone/jfs/t14038/308/1252326731/86466/8079e103/5a1d39c7Nde000b55.jpg'/></div><div style='position:relative;display:inline-block'><img style='width: 180px;height:180px; margin: 0px; float: left; border: 1px solid black;' src='http://img.alicdn.com/imgextra/i1/TB1dr_6GpXXXXbgXVXXXXXXXXXX_!!0-item_pic.jpg_300x300q50s150.jpg'/></div></div>"
      ],
      "text/plain": [
       "<IPython.core.display.HTML object>"
      ]
     },
     "metadata": {},
     "output_type": "display_data"
    },
    {
     "name": "stdout",
     "output_type": "stream",
     "text": [
      "номер категории:  26\n"
     ]
    },
    {
     "data": {
      "text/html": [
       "<div><div style='position:relative;display:inline-block'><img style='width: 180px;height:180px; margin: 0px; float: left; border: 1px solid black;' src='https://img11.360buyimg.com/imgzone/jfs/t12922/52/1540751457/463262/e2f3d5d/5a229d9bNe5e61e1e.jpg'/></div><div style='position:relative;display:inline-block'><img style='width: 180px;height:180px; margin: 0px; float: left; border: 1px solid black;' src='https://img.alicdn.com/imgextra/TB2KT0pdSYH8KJjSspdXXcRgVXa_!!2452471762.jpg'/></div><div style='position:relative;display:inline-block'><img style='width: 180px;height:180px; margin: 0px; float: left; border: 1px solid black;' src='http://www.jawedding.com.cn/images/TB1bfmCFVXXXXciXpXXXXXXXXXX_%21%210-item_pic.jpg_600x600.jpg'/></div><div style='position:relative;display:inline-block'><img style='width: 180px;height:180px; margin: 0px; float: left; border: 1px solid black;' src='http://d10.yihaodianimg.com/N05/M06/C6/B8/CgQI01R_0DqAImo-AADumf5LANw28800_640x640.jpg'/></div><div style='position:relative;display:inline-block'><img style='width: 180px;height:180px; margin: 0px; float: left; border: 1px solid black;' src='https://img12.360buyimg.com/imgzone/jfs/t9757/268/2397691860/165781/d339d5de/59f5473bNcad90ebf.jpg'/></div><div style='position:relative;display:inline-block'><img style='width: 180px;height:180px; margin: 0px; float: left; border: 1px solid black;' src='http://www.szcogo.com/product-img/CG-PW015.jpg'/></div><div style='position:relative;display:inline-block'><img style='width: 180px;height:180px; margin: 0px; float: left; border: 1px solid black;' src='http://img14.007swz.com/cpimg/canyi/jX254Lr4i_1432624347.jpg'/></div><div style='position:relative;display:inline-block'><img style='width: 180px;height:180px; margin: 0px; float: left; border: 1px solid black;' src='https://img.alicdn.com/imgextra/TB20S9Hb0hvOuFjSZFBXXcZgFXa_!!779196412.jpg'/></div><div style='position:relative;display:inline-block'><img style='width: 180px;height:180px; margin: 0px; float: left; border: 1px solid black;' src='https://cbu01.alicdn.com/img/ibank/2017/861/826/4527628168_763866555.310x310.jpg'/></div><div style='position:relative;display:inline-block'><img style='width: 180px;height:180px; margin: 0px; float: left; border: 1px solid black;' src='https://img11.360buyimg.com/imgzone/jfs/t14110/207/1374852559/230059/ddaaa70f/5a1faaa3N17f81180.png'/></div><div style='position:relative;display:inline-block'><img style='width: 180px;height:180px; margin: 0px; float: left; border: 1px solid black;' src='http://image5.huangye88.com/2014/05/19/0661bcd681a6c3f2.jpg'/></div><div style='position:relative;display:inline-block'><img style='width: 180px;height:180px; margin: 0px; float: left; border: 1px solid black;' src='http://m.360buyimg.com/n12/g5/M02/14/13/rBEDilADt2cIAAAAAAKVYCeOAH8AAEBkQLthH8AApV4449.jpg%21q70.jpg'/></div></div>"
      ],
      "text/plain": [
       "<IPython.core.display.HTML object>"
      ]
     },
     "metadata": {},
     "output_type": "display_data"
    },
    {
     "name": "stdout",
     "output_type": "stream",
     "text": [
      "номер категории:  29\n"
     ]
    },
    {
     "data": {
      "text/html": [
       "<div><div style='position:relative;display:inline-block'><img style='width: 180px;height:180px; margin: 0px; float: left; border: 1px solid black;' src='http://g.search.alicdn.com/i4/i1/TB1TQzfOVXXXXXPapXXXXXXXXXX_!!0-item_pic.jpg'/></div><div style='position:relative;display:inline-block'><img style='width: 180px;height:180px; margin: 0px; float: left; border: 1px solid black;' src='https://img11.360buyimg.com/imgzone/jfs/t1324/51/1405453218/87731/88e0cd5d/5608ecbdNee851abd.jpg'/></div><div style='position:relative;display:inline-block'><img style='width: 180px;height:180px; margin: 0px; float: left; border: 1px solid black;' src='http://www.zhuangshangyin.com/UploadFile/20150619/productImg/3b708ff7-59cb-4f7a-a5d1-db86a298f743.jpg'/></div><div style='position:relative;display:inline-block'><img style='width: 180px;height:180px; margin: 0px; float: left; border: 1px solid black;' src='https://img10.360buyimg.com/imgzone/jfs/t13297/342/2289721545/105095/2bc36e10/5a37559dN18fb62cd.jpg'/></div><div style='position:relative;display:inline-block'><img style='width: 180px;height:180px; margin: 0px; float: left; border: 1px solid black;' src='https://cbu01.alicdn.com/img/ibank/2015/118/091/2401190811_715021649.310x310.jpg'/></div><div style='position:relative;display:inline-block'><img style='width: 180px;height:180px; margin: 0px; float: left; border: 1px solid black;' src='http://img.alicdn.com/tps/i4/TB1tlxtJFXXXXbJXVXXXXXXXXXX_%21%210-item_pic.jpg'/></div><div style='position:relative;display:inline-block'><img style='width: 180px;height:180px; margin: 0px; float: left; border: 1px solid black;' src='https://img.alicdn.com/imgextra/TB2HL_pj04opuFjSZFLXXX8mXXa_!!3024459299.jpg'/></div><div style='position:relative;display:inline-block'><img style='width: 180px;height:180px; margin: 0px; float: left; border: 1px solid black;' src='https://img14.360buyimg.com/imgzone/jfs/t5689/215/9087422458/402222/95db339c/5982f379N4f672a6f.jpg'/></div><div style='position:relative;display:inline-block'><img style='width: 180px;height:180px; margin: 0px; float: left; border: 1px solid black;' src='https://img.alicdn.com/imgextra/TB2yCHudFXXXXaPXXXXXXXXXXXX_!!1912881107.jpg'/></div><div style='position:relative;display:inline-block'><img style='width: 180px;height:180px; margin: 0px; float: left; border: 1px solid black;' src='http://img.guju.com.cn/products/05896137e7df19dd.jpg'/></div><div style='position:relative;display:inline-block'><img style='width: 180px;height:180px; margin: 0px; float: left; border: 1px solid black;' src='http://img010.hc360.cn/m7/M0C/63/F8/wKhQo1V1L7CEWGjqAAAAAHFuMnk447.jpg'/></div><div style='position:relative;display:inline-block'><img style='width: 180px;height:180px; margin: 0px; float: left; border: 1px solid black;' src='https://i1.jiajuol.com/0/photo/182/019/000/891572c37ac049db.jpg!l'/></div></div>"
      ],
      "text/plain": [
       "<IPython.core.display.HTML object>"
      ]
     },
     "metadata": {},
     "output_type": "display_data"
    },
    {
     "name": "stdout",
     "output_type": "stream",
     "text": [
      "номер категории:  63\n"
     ]
    },
    {
     "data": {
      "text/html": [
       "<div><div style='position:relative;display:inline-block'><img style='width: 180px;height:180px; margin: 0px; float: left; border: 1px solid black;' src='https://img.alicdn.com/imgextra/TB2qAOHctXXWeJjSZFvXXa6lpXa_!!2184359740.jpg'/></div><div style='position:relative;display:inline-block'><img style='width: 180px;height:180px; margin: 0px; float: left; border: 1px solid black;' src='https://img.alicdn.com/imgextra/TB29FpbaGzB9uJjSZFMXXXq4XXa_!!426294962.jpg'/></div><div style='position:relative;display:inline-block'><img style='width: 180px;height:180px; margin: 0px; float: left; border: 1px solid black;' src='http://www.18park.com.tw/data/goods/201703/1488870690LVA5R1.jpg'/></div><div style='position:relative;display:inline-block'><img style='width: 180px;height:180px; margin: 0px; float: left; border: 1px solid black;' src='https://img12.360buyimg.com/imgzone/jfs/t5854/251/3679558809/251735/2f107192/594099faN53611f23.jpg'/></div><div style='position:relative;display:inline-block'><img style='width: 180px;height:180px; margin: 0px; float: left; border: 1px solid black;' src='https://img.alicdn.com/imgextra/T2m_TBXfdaXXXXXXXX_!!692564969.jpg'/></div><div style='position:relative;display:inline-block'><img style='width: 180px;height:180px; margin: 0px; float: left; border: 1px solid black;' src='https://img13.360buyimg.com/imgzone/jfs/t13012/167/550484666/137934/9939ec20/5a0e4b74Nbeea29b0.jpg'/></div><div style='position:relative;display:inline-block'><img style='width: 180px;height:180px; margin: 0px; float: left; border: 1px solid black;' src='https://img14.360buyimg.com/imgzone/jfs/t4093/224/1097253600/268040/cb0f02a/5867aeabN50905988.jpg'/></div><div style='position:relative;display:inline-block'><img style='width: 180px;height:180px; margin: 0px; float: left; border: 1px solid black;' src='https://img.alicdn.com/imgextra/TB2q00cvHFlpuFjy0FgXXbRBVXa_!!1840815342.jpg'/></div><div style='position:relative;display:inline-block'><img style='width: 180px;height:180px; margin: 0px; float: left; border: 1px solid black;' src='https://img14.360buyimg.com/imgzone/jfs/t6925/22/464429686/148852/a2a8725/5976a182N3d72ea64.jpg'/></div><div style='position:relative;display:inline-block'><img style='width: 180px;height:180px; margin: 0px; float: left; border: 1px solid black;' src='https://img.alicdn.com/imgextra/TB2K2b_aRfH8KJjy1XbXXbLdXXa_!!15343406.jpg'/></div><div style='position:relative;display:inline-block'><img style='width: 180px;height:180px; margin: 0px; float: left; border: 1px solid black;' src='http://img011.hc360.cn/g6/M04/65/E4/wKhQsVQbQMyEVymvAAAAAEWy7cs733.jpg'/></div><div style='position:relative;display:inline-block'><img style='width: 180px;height:180px; margin: 0px; float: left; border: 1px solid black;' src='http://www.henrydai.com/UploadFiles/Product/70463-TZ/70463_o.jpg'/></div></div>"
      ],
      "text/plain": [
       "<IPython.core.display.HTML object>"
      ]
     },
     "metadata": {},
     "output_type": "display_data"
    },
    {
     "name": "stdout",
     "output_type": "stream",
     "text": [
      "предполагаемая категория:  \u001b[31mтабурет\u001b[0m\n",
      "номер категории:  104\n"
     ]
    },
    {
     "data": {
      "text/html": [
       "<div><div style='position:relative;display:inline-block'><img style='width: 180px;height:180px; margin: 0px; float: left; border: 1px solid black;' src='http://www.collection.com.tw/images/201204/1334911246086010734.jpg'/></div><div style='position:relative;display:inline-block'><img style='width: 180px;height:180px; margin: 0px; float: left; border: 1px solid black;' src='https://img.alicdn.com/imgextra/TB25eojeLjM8KJjSZFyXXXdzVXa_!!2953184221.jpg'/></div><div style='position:relative;display:inline-block'><img style='width: 180px;height:180px; margin: 0px; float: left; border: 1px solid black;' src='https://img10.360buyimg.com/imgzone/jfs/t3391/102/567299052/127004/690ef370/58107857Nf46340d0.jpg'/></div><div style='position:relative;display:inline-block'><img style='width: 180px;height:180px; margin: 0px; float: left; border: 1px solid black;' src='https://img.alicdn.com/imgextra/TB1wYWPbiP85uJjSZFKXXcw7FXa_!!0-item_pic.jpg'/></div><div style='position:relative;display:inline-block'><img style='width: 180px;height:180px; margin: 0px; float: left; border: 1px solid black;' src='http://www.meigeoa.com/uploads/pic/6_4_8_01.jpg'/></div><div style='position:relative;display:inline-block'><img style='width: 180px;height:180px; margin: 0px; float: left; border: 1px solid black;' src='https://img13.360buyimg.com/imgzone/jfs/t8806/123/1903265450/96063/1a6e503a/59c0e957N16044089.jpg'/></div><div style='position:relative;display:inline-block'><img style='width: 180px;height:180px; margin: 0px; float: left; border: 1px solid black;' src='https://img.alicdn.com/imgextra/TB2UaJ7ixTI8KJjSspiXXbM4FXa_!!2165859565.jpg'/></div><div style='position:relative;display:inline-block'><img style='width: 180px;height:180px; margin: 0px; float: left; border: 1px solid black;' src='https://img.alicdn.com/imgextra/TB1MlZUXJnJ8KJjSszdSuuxuFXa.jpg'/></div><div style='position:relative;display:inline-block'><img style='width: 180px;height:180px; margin: 0px; float: left; border: 1px solid black;' src='https://img.alicdn.com/imgextra/TB1YfHEXpYM8KJjSZFuXXcf7FXa_!!0-item_pic.jpg'/></div><div style='position:relative;display:inline-block'><img style='width: 180px;height:180px; margin: 0px; float: left; border: 1px solid black;' src='https://img13.360buyimg.com/imgzone/jfs/t3148/11/2300416819/420346/feeda8a6/57df36dcN5128829b.jpg'/></div><div style='position:relative;display:inline-block'><img style='width: 180px;height:180px; margin: 0px; float: left; border: 1px solid black;' src='http://www.macromaison.com.tw/uploads/3c17b6b99da7f78d480e3a80d5c35aa9.jpg'/></div><div style='position:relative;display:inline-block'><img style='width: 180px;height:180px; margin: 0px; float: left; border: 1px solid black;' src='https://img.alicdn.com/imgextra/TB2GONrrVXXXXa_XXXXXXXXXXXX_!!1613529254.jpg'/></div></div>"
      ],
      "text/plain": [
       "<IPython.core.display.HTML object>"
      ]
     },
     "metadata": {},
     "output_type": "display_data"
    },
    {
     "name": "stdout",
     "output_type": "stream",
     "text": [
      "предполагаемая категория:  \u001b[31mпуф\u001b[0m\n",
      "номер категории:  120\n"
     ]
    },
    {
     "data": {
      "text/html": [
       "<div><div style='position:relative;display:inline-block'><img style='width: 180px;height:180px; margin: 0px; float: left; border: 1px solid black;' src='https://img.alicdn.com/imgextra/TB2a20UcgDD8KJjy0FdXXcjvXXa_!!2639198006.jpg'/></div><div style='position:relative;display:inline-block'><img style='width: 180px;height:180px; margin: 0px; float: left; border: 1px solid black;' src='http://img.99114.com/group1/M00/ED/84/wKgGTFkUHLmAWe3UAAMAvLYLJAE375.jpg'/></div><div style='position:relative;display:inline-block'><img style='width: 180px;height:180px; margin: 0px; float: left; border: 1px solid black;' src='http://img14.360buyimg.com/n12/g13/M08/0D/02/rBEhU1JBJYYIAAAAAAIIS3e4QP4AADczQOFRJEAAghj042.jpg%21q70.jpg'/></div><div style='position:relative;display:inline-block'><img style='width: 180px;height:180px; margin: 0px; float: left; border: 1px solid black;' src='https://img13.360buyimg.com/imgzone/jfs/t9874/312/2602647767/131558/f3c27530/59fac318N6da00fc7.jpg'/></div><div style='position:relative;display:inline-block'><img style='width: 180px;height:180px; margin: 0px; float: left; border: 1px solid black;' src='http://www.yoagoa.com/photos/info/20160304/20160304094724122.jpg'/></div><div style='position:relative;display:inline-block'><img style='width: 180px;height:180px; margin: 0px; float: left; border: 1px solid black;' src='http://img.xiugei.com/viewinfo/infoimgsps/jiaotadeng/content1411353054391.png'/></div><div style='position:relative;display:inline-block'><img style='width: 180px;height:180px; margin: 0px; float: left; border: 1px solid black;' src='http://www.tsljzs.com/Uploads/ketang/55113e09b832b.jpg'/></div><div style='position:relative;display:inline-block'><img style='width: 180px;height:180px; margin: 0px; float: left; border: 1px solid black;' src='http://cbu01.alicdn.com/img/ibank/2016/483/580/2723085384_1628625746.jpg'/></div><div style='position:relative;display:inline-block'><img style='width: 180px;height:180px; margin: 0px; float: left; border: 1px solid black;' src='https://img14.360buyimg.com/imgzone/jfs/t2917/272/2042877041/422536/f6e5bbf8/5799690dNf073839a.jpg'/></div><div style='position:relative;display:inline-block'><img style='width: 180px;height:180px; margin: 0px; float: left; border: 1px solid black;' src='https://img14.360buyimg.com/imgzone/jfs/t12916/26/1182507724/68661/402d452d/5a1bd785N88624cc0.jpg'/></div><div style='position:relative;display:inline-block'><img style='width: 180px;height:180px; margin: 0px; float: left; border: 1px solid black;' src='http://image5.suning.cn/b2c/catentries/000000000127585690_5_800x800.jpg'/></div><div style='position:relative;display:inline-block'><img style='width: 180px;height:180px; margin: 0px; float: left; border: 1px solid black;' src='https://img10.360buyimg.com/imgzone/jfs/t9643/347/924778303/259948/502d0d47/59da4701N27837e92.jpg'/></div></div>"
      ],
      "text/plain": [
       "<IPython.core.display.HTML object>"
      ]
     },
     "metadata": {},
     "output_type": "display_data"
    },
    {
     "name": "stdout",
     "output_type": "stream",
     "text": [
      "предполагаемая категория:  \u001b[31mкресло мягкое\u001b[0m\n",
      "номер категории:  4\n"
     ]
    },
    {
     "data": {
      "text/html": [
       "<div><div style='position:relative;display:inline-block'><img style='width: 180px;height:180px; margin: 0px; float: left; border: 1px solid black;' src='http://www.macromaison.com.tw/uploads/7f577b6b775e4cf65b6eae600090dc93.jpg'/></div><div style='position:relative;display:inline-block'><img style='width: 180px;height:180px; margin: 0px; float: left; border: 1px solid black;' src='https://img11.360buyimg.com/imgzone/jfs/t6568/88/937349952/251394/972ec219/59478599N637fc1fa.jpg'/></div><div style='position:relative;display:inline-block'><img style='width: 180px;height:180px; margin: 0px; float: left; border: 1px solid black;' src='http://d6.yihaodianimg.com/N03/M0A/1B/35/CgQCtVKvzjeAK1IaAAOCY-0rJI011300_450x450.jpg'/></div><div style='position:relative;display:inline-block'><img style='width: 180px;height:180px; margin: 0px; float: left; border: 1px solid black;' src='http://pic1.shejiben.com/mall/2013/09/28/20130928061544-94685fc2_m.jpg'/></div><div style='position:relative;display:inline-block'><img style='width: 180px;height:180px; margin: 0px; float: left; border: 1px solid black;' src='https://img.alicdn.com/imgextra/TB2FuUNmUUIL1JjSZFrXXb3xFXa_!!1650944667.jpg'/></div><div style='position:relative;display:inline-block'><img style='width: 180px;height:180px; margin: 0px; float: left; border: 1px solid black;' src='https://img11.360buyimg.com/imgzone/jfs/t17152/287/90115774/335078/e04ead57/5a5c403dNb1636db6.jpg'/></div><div style='position:relative;display:inline-block'><img style='width: 180px;height:180px; margin: 0px; float: left; border: 1px solid black;' src='https://img14.360buyimg.com/imgzone/jfs/t16078/9/928332545/445034/9cab692a/5a44e78dN82aea494.jpg'/></div><div style='position:relative;display:inline-block'><img style='width: 180px;height:180px; margin: 0px; float: left; border: 1px solid black;' src='http://m.360buyimg.com/n12/jfs/t2200/364/1025009192/428998/f513ffaa/5652ce8fNa7b00c25.jpg%21q70.jpg'/></div><div style='position:relative;display:inline-block'><img style='width: 180px;height:180px; margin: 0px; float: left; border: 1px solid black;' src='http://www.ppxww.com/images/TB1OxCQLVXXXXXNXVXXXXXXXXXX_%21%210-item_pic.jpg_310x310.jpg'/></div><div style='position:relative;display:inline-block'><img style='width: 180px;height:180px; margin: 0px; float: left; border: 1px solid black;' src='http://img1.artron.net/auction/2012/art001421/d/art0014210003.jpg'/></div><div style='position:relative;display:inline-block'><img style='width: 180px;height:180px; margin: 0px; float: left; border: 1px solid black;' src='http://imgsrc.baidu.com/imgad/pic/item/a686c9177f3e6709a7b9356131c79f3df9dc55f6.jpg'/></div><div style='position:relative;display:inline-block'><img style='width: 180px;height:180px; margin: 0px; float: left; border: 1px solid black;' src='http://img3.selfimg.com.cn/Wadpic999RU/2013/11/22/1385104971_IIvD06.jpg'/></div></div>"
      ],
      "text/plain": [
       "<IPython.core.display.HTML object>"
      ]
     },
     "metadata": {},
     "output_type": "display_data"
    },
    {
     "name": "stdout",
     "output_type": "stream",
     "text": [
      "номер категории:  22\n"
     ]
    },
    {
     "data": {
      "text/html": [
       "<div><div style='position:relative;display:inline-block'><img style='width: 180px;height:180px; margin: 0px; float: left; border: 1px solid black;' src='https://img14.360buyimg.com/imgzone/jfs/t6232/223/127620033/585952/d5641b4b/5939f9d6N1eca615e.jpg'/></div><div style='position:relative;display:inline-block'><img style='width: 180px;height:180px; margin: 0px; float: left; border: 1px solid black;' src='https://img14.360buyimg.com/imgzone/jfs/t12862/324/2048505698/101904/6eb39f6c/5a321a48Nceb66f42.jpg'/></div><div style='position:relative;display:inline-block'><img style='width: 180px;height:180px; margin: 0px; float: left; border: 1px solid black;' src='https://img13.360buyimg.com/imgzone/jfs/t1048/7/1289440080/401364/6f285fa7/558d0778N1d77814f.jpg'/></div><div style='position:relative;display:inline-block'><img style='width: 180px;height:180px; margin: 0px; float: left; border: 1px solid black;' src='https://img.alicdn.com/imgextra/TB2.XDHy4tmpuFjSZFqXXbHFpXa_!!2706927704.jpg'/></div><div style='position:relative;display:inline-block'><img style='width: 180px;height:180px; margin: 0px; float: left; border: 1px solid black;' src='http://www.uvanart.com/content/images/thumbs/0046018_600.jpeg'/></div><div style='position:relative;display:inline-block'><img style='width: 180px;height:180px; margin: 0px; float: left; border: 1px solid black;' src='http://www.szthks.com/localimg/687474703a2f2f6777312e616c6963646e2e636f6d2f62616f2f75706c6f616465642f69312f5442314553534747565858585858505846585858585858585858585f2121302d6974656d5f7069632e6a7067.jpg'/></div><div style='position:relative;display:inline-block'><img style='width: 180px;height:180px; margin: 0px; float: left; border: 1px solid black;' src='https://img11.360buyimg.com/imgzone/jfs/t2881/166/2120796111/207427/535ac04/57567ef1N2707868f.jpg'/></div><div style='position:relative;display:inline-block'><img style='width: 180px;height:180px; margin: 0px; float: left; border: 1px solid black;' src='https://img12.360buyimg.com/imgzone/jfs/t2146/242/2821870292/450798/9ce7587b/5719b5ddN11e255df.jpg'/></div><div style='position:relative;display:inline-block'><img style='width: 180px;height:180px; margin: 0px; float: left; border: 1px solid black;' src='http://www.ruiii.com/HostFiles/Product/20130128/9723ecbe38d83027_480_380.jpg'/></div><div style='position:relative;display:inline-block'><img style='width: 180px;height:180px; margin: 0px; float: left; border: 1px solid black;' src='http://image.codes51.com/Article/image/20160527/20160527114535_0901.jpg'/></div><div style='position:relative;display:inline-block'><img style='width: 180px;height:180px; margin: 0px; float: left; border: 1px solid black;' src='http://image6.huangye88.com/2013/06/27/fb74cb6d96c0067f.jpg'/></div><div style='position:relative;display:inline-block'><img style='width: 180px;height:180px; margin: 0px; float: left; border: 1px solid black;' src='http://www.bjdgjj.com/uploads/allimg/140519/1-14051Z93U5.jpg'/></div></div>"
      ],
      "text/plain": [
       "<IPython.core.display.HTML object>"
      ]
     },
     "metadata": {},
     "output_type": "display_data"
    },
    {
     "name": "stdout",
     "output_type": "stream",
     "text": [
      "предполагаемая категория:  \u001b[31mкресло офисное\u001b[0m\n",
      "номер категории:  3\n"
     ]
    },
    {
     "data": {
      "text/html": [
       "<div><div style='position:relative;display:inline-block'><img style='width: 180px;height:180px; margin: 0px; float: left; border: 1px solid black;' src='https://img.alicdn.com/imgextra/TB2T9B3Xg1J.eBjy0FaXXaXeVXa_!!1945434197.jpg'/></div><div style='position:relative;display:inline-block'><img style='width: 180px;height:180px; margin: 0px; float: left; border: 1px solid black;' src='https://img.alicdn.com/imgextra/TB2t_5EkVXXXXb7XXXXXXXXXXXX_!!661894569.jpg'/></div><div style='position:relative;display:inline-block'><img style='width: 180px;height:180px; margin: 0px; float: left; border: 1px solid black;' src='https://img13.360buyimg.com/imgzone/jfs/t5440/70/2300198880/84800/9af435d9/59196fedN6658bd63.jpg'/></div><div style='position:relative;display:inline-block'><img style='width: 180px;height:180px; margin: 0px; float: left; border: 1px solid black;' src='https://img.alicdn.com/imgextra/TB2_ZUGbfOM.eBjSZFqXXculVXa_!!1100252939.jpg'/></div><div style='position:relative;display:inline-block'><img style='width: 180px;height:180px; margin: 0px; float: left; border: 1px solid black;' src='https://img13.360buyimg.com/imgzone/jfs/t3217/198/1433845541/105398/333d1d64/57ccea79Ne0678201.jpg'/></div><div style='position:relative;display:inline-block'><img style='width: 180px;height:180px; margin: 0px; float: left; border: 1px solid black;' src='https://img13.360buyimg.com/imgzone/jfs/t1942/347/407468290/473099/fe55ad8b/56059b73Nc062042e.jpg'/></div><div style='position:relative;display:inline-block'><img style='width: 180px;height:180px; margin: 0px; float: left; border: 1px solid black;' src='https://img.alicdn.com/imgextra/TB2QNvbXHxmpuFjSZJiXXXauVXa_!!83965579.jpg'/></div><div style='position:relative;display:inline-block'><img style='width: 180px;height:180px; margin: 0px; float: left; border: 1px solid black;' src='http://www.mp4cn.com/d/file/7/2/11/2012-08-21/9722b98fd5b96c5c09f916d99c155189.jpg'/></div><div style='position:relative;display:inline-block'><img style='width: 180px;height:180px; margin: 0px; float: left; border: 1px solid black;' src='https://s.yimg.com/wb/images/7402AC390A9EA576B391F7A68C90C9DE4D10D6A5'/></div><div style='position:relative;display:inline-block'><img style='width: 180px;height:180px; margin: 0px; float: left; border: 1px solid black;' src='http://www.bcdyqs.com/images/201705/goods_img/25_G_1494292432615.jpg'/></div><div style='position:relative;display:inline-block'><img style='width: 180px;height:180px; margin: 0px; float: left; border: 1px solid black;' src='https://img13.360buyimg.com/imgzone/jfs/t3265/36/7502036844/134444/cebb7a11/58b7bec1Nb4baf9af.jpg'/></div><div style='position:relative;display:inline-block'><img style='width: 180px;height:180px; margin: 0px; float: left; border: 1px solid black;' src='https://img.alicdn.com/imgextra/TB21RF4zOpnpuFjSZFIXXXh2VXa_!!520325460.jpg'/></div></div>"
      ],
      "text/plain": [
       "<IPython.core.display.HTML object>"
      ]
     },
     "metadata": {},
     "output_type": "display_data"
    },
    {
     "name": "stdout",
     "output_type": "stream",
     "text": [
      "предполагаемая категория:  \u001b[31mкресло-мешок\u001b[0m\n",
      "номер категории:  17\n"
     ]
    },
    {
     "data": {
      "text/html": [
       "<div><div style='position:relative;display:inline-block'><img style='width: 180px;height:180px; margin: 0px; float: left; border: 1px solid black;' src='https://img.alicdn.com/imgextra/TB1fkKDKVXXXXXiXVXXXXXXXXXX_!!0-item_pic.jpg'/></div><div style='position:relative;display:inline-block'><img style='width: 180px;height:180px; margin: 0px; float: left; border: 1px solid black;' src='https://img.alicdn.com/imgextra/TB2Pi5Ikr0kpuFjy0FjXXcBbVXa_!!2083619765.jpg'/></div><div style='position:relative;display:inline-block'><img style='width: 180px;height:180px; margin: 0px; float: left; border: 1px solid black;' src='http://img11.360buyimg.com/n12/g10/M00/18/1A/rBEQWFF3gD0IAAAAAAI87M1cjRcAAE2ewH3DPMAAj0E956.jpg%21q70.jpg'/></div><div style='position:relative;display:inline-block'><img style='width: 180px;height:180px; margin: 0px; float: left; border: 1px solid black;' src='https://img13.360buyimg.com/imgzone/jfs/t7375/91/4346990813/355390/97087edc/5a004ab7N60d6cd5a.jpg'/></div><div style='position:relative;display:inline-block'><img style='width: 180px;height:180px; margin: 0px; float: left; border: 1px solid black;' src='http://img1.cache.netease.com/catchimg/20100521/13267120_1.jpg'/></div><div style='position:relative;display:inline-block'><img style='width: 180px;height:180px; margin: 0px; float: left; border: 1px solid black;' src='http://aliimg.33m.com/ueditor/product/208696/20160824/b5f5100ac62535b0cab954549afb86dd.jpg'/></div><div style='position:relative;display:inline-block'><img style='width: 180px;height:180px; margin: 0px; float: left; border: 1px solid black;' src='https://img.alicdn.com/imgextra/TB2xbfgm3oQMeJjy0FoXXcShVXa_!!2025384933.jpg'/></div><div style='position:relative;display:inline-block'><img style='width: 180px;height:180px; margin: 0px; float: left; border: 1px solid black;' src='http://www.oppein.cn/updata/uploads/201701/5876f0694d9e0.jpg'/></div><div style='position:relative;display:inline-block'><img style='width: 180px;height:180px; margin: 0px; float: left; border: 1px solid black;' src='http://www.etancheng.com/images/201609/goods_img/1210_P_1472691780740.jpg'/></div><div style='position:relative;display:inline-block'><img style='width: 180px;height:180px; margin: 0px; float: left; border: 1px solid black;' src='http://img0.pchouse.com.cn/pchouse/1111/10/146115_19.jpg'/></div><div style='position:relative;display:inline-block'><img style='width: 180px;height:180px; margin: 0px; float: left; border: 1px solid black;' src='http://s1.jiguo.com/baf39e3e-cfab-41cb-a2d7-fd6b71f62655/logo'/></div><div style='position:relative;display:inline-block'><img style='width: 180px;height:180px; margin: 0px; float: left; border: 1px solid black;' src='http://img.52jiemeihua.com/uploads/allimg/c150503/1430BW5461330-12W9.jpg'/></div></div>"
      ],
      "text/plain": [
       "<IPython.core.display.HTML object>"
      ]
     },
     "metadata": {},
     "output_type": "display_data"
    },
    {
     "name": "stdout",
     "output_type": "stream",
     "text": [
      "предполагаемая категория:  \u001b[31mнеизвестные стулья\u001b[0m\n",
      "номер категории:  1\n"
     ]
    },
    {
     "data": {
      "text/html": [
       "<div><div style='position:relative;display:inline-block'><img style='width: 180px;height:180px; margin: 0px; float: left; border: 1px solid black;' src='https://img.alicdn.com/imgextra/TB1ucPbbBLN8KJjSZPhL6U.spXa_SPEC.jpg'/></div><div style='position:relative;display:inline-block'><img style='width: 180px;height:180px; margin: 0px; float: left; border: 1px solid black;' src='https://img10.360buyimg.com/imgzone/jfs/t4357/120/1201152624/703235/975fe667/58bf73b6N84c59037.jpg'/></div><div style='position:relative;display:inline-block'><img style='width: 180px;height:180px; margin: 0px; float: left; border: 1px solid black;' src='https://img13.360buyimg.com/imgzone/jfs/t4552/54/1083823320/168822/c798f310/58d8db28N0a07010f.jpg'/></div><div style='position:relative;display:inline-block'><img style='width: 180px;height:180px; margin: 0px; float: left; border: 1px solid black;' src='https://img10.360buyimg.com/imgzone/jfs/t3325/234/1482396098/135483/6485e3c6/582bc89bNcd942079.jpg'/></div><div style='position:relative;display:inline-block'><img style='width: 180px;height:180px; margin: 0px; float: left; border: 1px solid black;' src='https://img11.360buyimg.com/imgzone/jfs/t3154/223/5502733018/399562/6a5d97a0/58747fd9N79d7cf12.jpg'/></div><div style='position:relative;display:inline-block'><img style='width: 180px;height:180px; margin: 0px; float: left; border: 1px solid black;' src='http://pic1.shejiben.com/mall/2013/10/29/20131029120122-ec7f983e.jpg'/></div><div style='position:relative;display:inline-block'><img style='width: 180px;height:180px; margin: 0px; float: left; border: 1px solid black;' src='http://img10.360buyimg.com/popWaterMark/jfs/t622/271/96261229/228651/a908fcf1/544e4423Nde581d17.jpg'/></div><div style='position:relative;display:inline-block'><img style='width: 180px;height:180px; margin: 0px; float: left; border: 1px solid black;' src='http://file7.gucn.com/file3/CurioPicfile/20151015/Gucn_20151015406630171336Pic6.jpg'/></div><div style='position:relative;display:inline-block'><img style='width: 180px;height:180px; margin: 0px; float: left; border: 1px solid black;' src='https://img14.360buyimg.com/imgzone/jfs/t1369/75/1432564263/189115/1faa39bb/55c7695bNf6286839.jpg'/></div><div style='position:relative;display:inline-block'><img style='width: 180px;height:180px; margin: 0px; float: left; border: 1px solid black;' src='http://img3410.weyesns.com/uploads/9evzzyix.allweyes.com/images/15003410782681.jpg'/></div><div style='position:relative;display:inline-block'><img style='width: 180px;height:180px; margin: 0px; float: left; border: 1px solid black;' src='http://img003.hc360.cn/y4/M05/27/87/wKhQiFWBZHOEENqeAAAAANtUX48924.jpg'/></div><div style='position:relative;display:inline-block'><img style='width: 180px;height:180px; margin: 0px; float: left; border: 1px solid black;' src='https://img10.360buyimg.com/imgzone/jfs/t5776/316/4240616180/110906/98703bb6/59486b0cNee93713e.jpg'/></div></div>"
      ],
      "text/plain": [
       "<IPython.core.display.HTML object>"
      ]
     },
     "metadata": {},
     "output_type": "display_data"
    },
    {
     "name": "stdout",
     "output_type": "stream",
     "text": [
      "номер категории:  6\n"
     ]
    },
    {
     "data": {
      "text/html": [
       "<div><div style='position:relative;display:inline-block'><img style='width: 180px;height:180px; margin: 0px; float: left; border: 1px solid black;' src='https://img11.360buyimg.com/imgzone/jfs/t15178/171/846898804/192272/c057add4/5a3b62b8N1973486c.jpg'/></div><div style='position:relative;display:inline-block'><img style='width: 180px;height:180px; margin: 0px; float: left; border: 1px solid black;' src='http://img01.taopic.com/160109/235109-16010ZU45158.jpg'/></div><div style='position:relative;display:inline-block'><img style='width: 180px;height:180px; margin: 0px; float: left; border: 1px solid black;' src='http://jiaju.zaozhun5.com/wp-content/uploads/2017/06/02/55c83656d16a9.jpg'/></div><div style='position:relative;display:inline-block'><img style='width: 180px;height:180px; margin: 0px; float: left; border: 1px solid black;' src='http://s1.life.itc.cn/img/201705/f70ad33c7056be79cc572f41c7d84dcc'/></div><div style='position:relative;display:inline-block'><img style='width: 180px;height:180px; margin: 0px; float: left; border: 1px solid black;' src='http://img.shushi100.com/images/8e8834b1-fc6f-493d-927e-4ef02cee2507.png'/></div><div style='position:relative;display:inline-block'><img style='width: 180px;height:180px; margin: 0px; float: left; border: 1px solid black;' src='http://pic.zuojiaju.com/forum/201604/01/091127gotz5io5voa5pc7t.jpg'/></div><div style='position:relative;display:inline-block'><img style='width: 180px;height:180px; margin: 0px; float: left; border: 1px solid black;' src='http://www.tengdakeli.cn/350/timg04/uploaded/i4/T1lxxsFqhXXXXXXXXX_%21%210-item_pic.jpg'/></div><div style='position:relative;display:inline-block'><img style='width: 180px;height:180px; margin: 0px; float: left; border: 1px solid black;' src='https://img.alicdn.com/imgextra/TB2ctanww0kpuFjSspdXXX4YXXa_!!362391967.jpg'/></div><div style='position:relative;display:inline-block'><img style='width: 180px;height:180px; margin: 0px; float: left; border: 1px solid black;' src='http://image.gojiaju.com/upfile/shitongguyi/images/products/20090720090048.JPG'/></div><div style='position:relative;display:inline-block'><img style='width: 180px;height:180px; margin: 0px; float: left; border: 1px solid black;' src='https://thumbs.dreamstime.com/b/%E8%91%A1%E8%90%84%E9%85%92-%E8%89%B2%E6%91%87%E6%A4%85%E5%92%8C%E7%81%AF%E5%9C%A8%E8%B7%B3%E8%9A%A4%E5%B8%82%E5%9C%BA%E4%B8%8A-70686442.jpg'/></div><div style='position:relative;display:inline-block'><img style='width: 180px;height:180px; margin: 0px; float: left; border: 1px solid black;' src='http://image2.suning.cn/b2c/catentries/000000000134875413_5_400x400.jpg'/></div><div style='position:relative;display:inline-block'><img style='width: 180px;height:180px; margin: 0px; float: left; border: 1px solid black;' src='https://img.alicdn.com/imgextra/TB2CO69XZGfF1Jjy1XdXXapppXa_!!1689361757.jpg'/></div></div>"
      ],
      "text/plain": [
       "<IPython.core.display.HTML object>"
      ]
     },
     "metadata": {},
     "output_type": "display_data"
    },
    {
     "name": "stdout",
     "output_type": "stream",
     "text": [
      "номер категории:  43\n"
     ]
    },
    {
     "data": {
      "text/html": [
       "<div><div style='position:relative;display:inline-block'><img style='width: 180px;height:180px; margin: 0px; float: left; border: 1px solid black;' src='https://img14.360buyimg.com/imgzone/jfs/t3649/22/1202740606/82077/f618cb49/581fe7cdN260568c2.jpg'/></div><div style='position:relative;display:inline-block'><img style='width: 180px;height:180px; margin: 0px; float: left; border: 1px solid black;' src='https://cbu01.alicdn.com/img/ibank/2015/074/225/2541522470_1888819445.310x310.jpg'/></div><div style='position:relative;display:inline-block'><img style='width: 180px;height:180px; margin: 0px; float: left; border: 1px solid black;' src='https://img.alicdn.com/imgextra/TB2AB_JXU6EK1JjSZFDXXcIqFXa_!!2167252705.jpg'/></div><div style='position:relative;display:inline-block'><img style='width: 180px;height:180px; margin: 0px; float: left; border: 1px solid black;' src='https://img10.360buyimg.com/imgzone/jfs/t3241/276/7644106913/90007/babe1824/58b920fcN0c5edac9.jpg'/></div><div style='position:relative;display:inline-block'><img style='width: 180px;height:180px; margin: 0px; float: left; border: 1px solid black;' src='https://img14.360buyimg.com/imgzone/jfs/t1375/59/91058775/240592/92bd2d54/5556aaf7Nba1c4be7.jpg'/></div><div style='position:relative;display:inline-block'><img style='width: 180px;height:180px; margin: 0px; float: left; border: 1px solid black;' src='https://img07.hc360.cn/07/busin/800/356/b/07-80035627.JPG'/></div><div style='position:relative;display:inline-block'><img style='width: 180px;height:180px; margin: 0px; float: left; border: 1px solid black;' src='https://img.alicdn.com/imgextra/TB2tuR5l4HI8KJjy1zbXXaxdpXa_!!104305265.jpg'/></div><div style='position:relative;display:inline-block'><img style='width: 180px;height:180px; margin: 0px; float: left; border: 1px solid black;' src='http://img.shushi100.com/images/31611bd7-cc35-4b04-9bc1-8cc730212a25.jpg'/></div><div style='position:relative;display:inline-block'><img style='width: 180px;height:180px; margin: 0px; float: left; border: 1px solid black;' src='https://img11.360buyimg.com/imgzone/jfs/t9820/111/116978466/77653/8d2d9abc/59c63e93Ndbd6d9ae.jpg'/></div><div style='position:relative;display:inline-block'><img style='width: 180px;height:180px; margin: 0px; float: left; border: 1px solid black;' src='https://img11.360buyimg.com/imgzone/jfs/t12475/179/2072071841/223049/456414d0/5a3220a8Ne95f559c.jpg'/></div><div style='position:relative;display:inline-block'><img style='width: 180px;height:180px; margin: 0px; float: left; border: 1px solid black;' src='https://img13.360buyimg.com/imgzone/jfs/t3871/52/588250827/39834/2d246529/5857902eN09c393fa.jpg'/></div><div style='position:relative;display:inline-block'><img style='width: 180px;height:180px; margin: 0px; float: left; border: 1px solid black;' src='http://m.360buyimg.com/n12/jfs/t1417/113/74475789/175130/3e6403dd/55547979N164ac068.jpg%21q70.jpg'/></div></div>"
      ],
      "text/plain": [
       "<IPython.core.display.HTML object>"
      ]
     },
     "metadata": {},
     "output_type": "display_data"
    },
    {
     "name": "stdout",
     "output_type": "stream",
     "text": [
      "номер категории:  55\n"
     ]
    },
    {
     "data": {
      "text/html": [
       "<div><div style='position:relative;display:inline-block'><img style='width: 180px;height:180px; margin: 0px; float: left; border: 1px solid black;' src='https://img13.360buyimg.com/imgzone/jfs/t6586/283/1074188863/356988/138a3cca/594a426eN0f9cb65b.jpg'/></div><div style='position:relative;display:inline-block'><img style='width: 180px;height:180px; margin: 0px; float: left; border: 1px solid black;' src='https://img.alicdn.com/imgextra/TB2_gPShrJmpuFjSZFwXXaE4VXa_!!2606050475.jpg'/></div><div style='position:relative;display:inline-block'><img style='width: 180px;height:180px; margin: 0px; float: left; border: 1px solid black;' src='https://img14.360buyimg.com/imgzone/jfs/t17365/278/58589826/495443/8c6c6f87/5a59ae93N1fb4f286.jpg'/></div><div style='position:relative;display:inline-block'><img style='width: 180px;height:180px; margin: 0px; float: left; border: 1px solid black;' src='https://img14.360buyimg.com/imgzone/jfs/t15718/69/1647425996/386275/3e489b05/5a59acbaN3caf7c19.jpg'/></div><div style='position:relative;display:inline-block'><img style='width: 180px;height:180px; margin: 0px; float: left; border: 1px solid black;' src='https://img13.360buyimg.com/imgzone/g16/M00/08/18/rBEbRlN3L40IAAAAAANQ1FeTDqUAABtWgCONqoAA1Ds392.jpg'/></div><div style='position:relative;display:inline-block'><img style='width: 180px;height:180px; margin: 0px; float: left; border: 1px solid black;' src='https://pic.pimg.tw/chiviolla/4b7e634f8dc6e.jpg'/></div><div style='position:relative;display:inline-block'><img style='width: 180px;height:180px; margin: 0px; float: left; border: 1px solid black;' src='https://img.alicdn.com/imgextra/TB2fgFWgtRopuFjSZFtXXcanpXa_!!2739068054.jpg'/></div><div style='position:relative;display:inline-block'><img style='width: 180px;height:180px; margin: 0px; float: left; border: 1px solid black;' src='https://img.alicdn.com/imgextra/TB2jCwpk9VmpuFjSZFFXXcZApXa_!!2544374963.jpg'/></div><div style='position:relative;display:inline-block'><img style='width: 180px;height:180px; margin: 0px; float: left; border: 1px solid black;' src='http://www.yoagoa.com/photos/info/20160318/20160318103307071.jpg'/></div><div style='position:relative;display:inline-block'><img style='width: 180px;height:180px; margin: 0px; float: left; border: 1px solid black;' src='https://img14.360buyimg.com/imgzone/jfs/t3448/143/564837342/658109/950465b3/580df4d8N7cb8e90b.jpg'/></div><div style='position:relative;display:inline-block'><img style='width: 180px;height:180px; margin: 0px; float: left; border: 1px solid black;' src='http://www.babygarden.com.cn/images/TB1OvhEHpXXXXckXpXXXXXXXXXX_%21%210-item_pic.jpg_350x350.jpg'/></div><div style='position:relative;display:inline-block'><img style='width: 180px;height:180px; margin: 0px; float: left; border: 1px solid black;' src='https://img.alicdn.com/imgextra/TB2zM5VlqigSKJjSsppXXabnpXa_!!1738830795.jpg'/></div></div>"
      ],
      "text/plain": [
       "<IPython.core.display.HTML object>"
      ]
     },
     "metadata": {},
     "output_type": "display_data"
    },
    {
     "name": "stdout",
     "output_type": "stream",
     "text": [
      "номер категории:  58\n"
     ]
    },
    {
     "data": {
      "text/html": [
       "<div><div style='position:relative;display:inline-block'><img style='width: 180px;height:180px; margin: 0px; float: left; border: 1px solid black;' src='https://img11.360buyimg.com/imgzone/jfs/t10192/206/806768291/155510/6f10b93c/59d8aa62N05311f58.jpg'/></div><div style='position:relative;display:inline-block'><img style='width: 180px;height:180px; margin: 0px; float: left; border: 1px solid black;' src='http://m.360buyimg.com/n12/jfs/t1525/282/878914301/297083/6a1319e2/55de7cc5N1ea9cc73.jpg%21q70.jpg'/></div><div style='position:relative;display:inline-block'><img style='width: 180px;height:180px; margin: 0px; float: left; border: 1px solid black;' src='https://img13.360buyimg.com/imgzone/jfs/t16036/271/3071667/74409/9bf13e49/5a250941Nf92e2b5d.jpg'/></div><div style='position:relative;display:inline-block'><img style='width: 180px;height:180px; margin: 0px; float: left; border: 1px solid black;' src='https://img13.360buyimg.com/imgzone/jfs/t12826/192/2356878514/173134/1a14da6f/5a3b2acbN62707d00.jpg'/></div><div style='position:relative;display:inline-block'><img style='width: 180px;height:180px; margin: 0px; float: left; border: 1px solid black;' src='http://rzjj.fc0633.com/seller/upload/201607301021298345.jpg'/></div><div style='position:relative;display:inline-block'><img style='width: 180px;height:180px; margin: 0px; float: left; border: 1px solid black;' src='https://img.alicdn.com/imgextra/TB2whWQajgy_uJjSZJnXXbuOXXa_!!137737436.jpg'/></div><div style='position:relative;display:inline-block'><img style='width: 180px;height:180px; margin: 0px; float: left; border: 1px solid black;' src='http://m.360buyimg.com/n12/jfs/t1684/330/477468303/157878/a66cd0d7/55a4d8f6Nfafff97c.jpg%21q70.jpg'/></div><div style='position:relative;display:inline-block'><img style='width: 180px;height:180px; margin: 0px; float: left; border: 1px solid black;' src='http://m.360buyimg.com/n12/jfs/t1336/207/774455968/72012/c21df9e/55a4d7ceN6fb0d64c.jpg%21q70.jpg'/></div><div style='position:relative;display:inline-block'><img style='width: 180px;height:180px; margin: 0px; float: left; border: 1px solid black;' src='http://static.friday.tw/mall/975169/s_1019755_8b68cbdb11_o.jpg'/></div><div style='position:relative;display:inline-block'><img style='width: 180px;height:180px; margin: 0px; float: left; border: 1px solid black;' src='https://img.alicdn.com/imgextra/TB2RtH4iS_I8KJjy0FoXXaFnVXa_!!3407019591.jpg'/></div><div style='position:relative;display:inline-block'><img style='width: 180px;height:180px; margin: 0px; float: left; border: 1px solid black;' src='http://pic1.shejiben.com/mall/2013/09/25/20130925125834-2f451469_290.jpg'/></div><div style='position:relative;display:inline-block'><img style='width: 180px;height:180px; margin: 0px; float: left; border: 1px solid black;' src='https://img10.360buyimg.com/imgzone/jfs/t5056/44/124795925/144661/6141770b/58db4d4aN1803958a.jpg'/></div></div>"
      ],
      "text/plain": [
       "<IPython.core.display.HTML object>"
      ]
     },
     "metadata": {},
     "output_type": "display_data"
    },
    {
     "name": "stdout",
     "output_type": "stream",
     "text": [
      "номер категории:  83\n"
     ]
    },
    {
     "data": {
      "text/html": [
       "<div><div style='position:relative;display:inline-block'><img style='width: 180px;height:180px; margin: 0px; float: left; border: 1px solid black;' src='http://www.conran.com.cn/attachment/download/201410/1414393990-10.jpg'/></div><div style='position:relative;display:inline-block'><img style='width: 180px;height:180px; margin: 0px; float: left; border: 1px solid black;' src='http://tgi13.jia.com/112/662/12662198.jpg'/></div><div style='position:relative;display:inline-block'><img style='width: 180px;height:180px; margin: 0px; float: left; border: 1px solid black;' src='http://img00.hc360.com/bm/201609/201609191132393082.jpg'/></div><div style='position:relative;display:inline-block'><img style='width: 180px;height:180px; margin: 0px; float: left; border: 1px solid black;' src='http://static-xiaoguotu.17house.com/000/223/201406211325501318.jpg'/></div><div style='position:relative;display:inline-block'><img style='width: 180px;height:180px; margin: 0px; float: left; border: 1px solid black;' src='http://imgs.bzw315.com/upload/2017/2/9/201702091416193608.jpg'/></div><div style='position:relative;display:inline-block'><img style='width: 180px;height:180px; margin: 0px; float: left; border: 1px solid black;' src='http://pic.shejiben.com/case/1208/31/20120831_e6901518140ad9468b7ePPobCBFamvV1.jpg'/></div><div style='position:relative;display:inline-block'><img style='width: 180px;height:180px; margin: 0px; float: left; border: 1px solid black;' src='https://s.yimg.com/xd/api/res/1.2/YcgpiavZ1YXzRWv4MZZbMA--/YXBwaWQ9eXR3YXVjdGlvbnNlcnZpY2U7aD01MDA7cT04NTtyb3RhdGU9YXV0bzt3PTcwMDtwPW9wZW5jdg--/http://nevec-img.zenfs.com/prod/tw_ec05-7/8aa951cb-98e0-4d0a-b684-d6d3f7b24d2e.jpg'/></div><div style='position:relative;display:inline-block'><img style='width: 180px;height:180px; margin: 0px; float: left; border: 1px solid black;' src='http://img008.hc360.cn/hb/MTQ2MzI2NTQwNzU1MTE1NDAxMzk3OTE=.jpg'/></div><div style='position:relative;display:inline-block'><img style='width: 180px;height:180px; margin: 0px; float: left; border: 1px solid black;' src='http://www.th7.cn/d/file/p/2016/10/16/3179ad60ce176e8f68cb36703d368079.jpg'/></div><div style='position:relative;display:inline-block'><img style='width: 180px;height:180px; margin: 0px; float: left; border: 1px solid black;' src='http://img1.homekoocdn.com/huxing_fangan/imgdata/htmlimg/20160624/bj2016_06_24_10_54_49.jpg'/></div><div style='position:relative;display:inline-block'><img style='width: 180px;height:180px; margin: 0px; float: left; border: 1px solid black;' src='http://photo.go007.com/go007/2013/11/08/201311082673288171.jpg'/></div><div style='position:relative;display:inline-block'><img style='width: 180px;height:180px; margin: 0px; float: left; border: 1px solid black;' src='http://pic34.photophoto.cn/20150122/0009021207315688_b.jpg'/></div></div>"
      ],
      "text/plain": [
       "<IPython.core.display.HTML object>"
      ]
     },
     "metadata": {},
     "output_type": "display_data"
    },
    {
     "name": "stdout",
     "output_type": "stream",
     "text": [
      "номер категории:  119\n"
     ]
    },
    {
     "data": {
      "text/html": [
       "<div><div style='position:relative;display:inline-block'><img style='width: 180px;height:180px; margin: 0px; float: left; border: 1px solid black;' src='https://img11.360buyimg.com/imgzone/jfs/t14638/162/1149904013/213721/c0d05851/5a469293N27de84be.jpg'/></div><div style='position:relative;display:inline-block'><img style='width: 180px;height:180px; margin: 0px; float: left; border: 1px solid black;' src='https://img.alicdn.com/imgextra/TB1nAXHaqLN8KJjSZFvXXXW8VXa_!!0-item_pic.jpg'/></div><div style='position:relative;display:inline-block'><img style='width: 180px;height:180px; margin: 0px; float: left; border: 1px solid black;' src='https://img13.360buyimg.com/imgzone/jfs/t8458/325/1607511595/129355/b95211d/59bcb325Nc42211e6.jpg'/></div><div style='position:relative;display:inline-block'><img style='width: 180px;height:180px; margin: 0px; float: left; border: 1px solid black;' src='https://img12.360buyimg.com/imgzone/jfs/t11041/335/1584568964/68589/8e49fef0/5a0341e8Na85343cc.jpg'/></div><div style='position:relative;display:inline-block'><img style='width: 180px;height:180px; margin: 0px; float: left; border: 1px solid black;' src='https://img.alicdn.com/imgextra/TB2RxhRoVXXXXbNXpXXXXXXXXXX_!!2225399229.jpg'/></div><div style='position:relative;display:inline-block'><img style='width: 180px;height:180px; margin: 0px; float: left; border: 1px solid black;' src='https://img.alicdn.com/imgextra/TB23Se5dQWM.eBjSZFhXXbdWpXa_!!419423461.jpg'/></div><div style='position:relative;display:inline-block'><img style='width: 180px;height:180px; margin: 0px; float: left; border: 1px solid black;' src='http://www.lifepowerw.com/images/20174/5_shop_4112624568.jpg'/></div><div style='position:relative;display:inline-block'><img style='width: 180px;height:180px; margin: 0px; float: left; border: 1px solid black;' src='https://img.alicdn.com/imgextra/TB2vAxzqrsTMeJjSszgXXacpFXa_!!2270166329.jpg'/></div><div style='position:relative;display:inline-block'><img style='width: 180px;height:180px; margin: 0px; float: left; border: 1px solid black;' src='http://yiijr.com/images/201505/goods_img/42_P_1432323427698.jpg'/></div><div style='position:relative;display:inline-block'><img style='width: 180px;height:180px; margin: 0px; float: left; border: 1px solid black;' src='https://img11.360buyimg.com/imgzone/jfs/t8020/247/1024715560/178171/33aa72eb/59b364d7Ne48e3261.jpg'/></div><div style='position:relative;display:inline-block'><img style='width: 180px;height:180px; margin: 0px; float: left; border: 1px solid black;' src='https://img.alicdn.com/imgextra/TB2_yhYXj3nyKJjSZFHXXaTCpXa_!!2404866781.jpg'/></div><div style='position:relative;display:inline-block'><img style='width: 180px;height:180px; margin: 0px; float: left; border: 1px solid black;' src='https://img.alicdn.com/imgextra/TB2EFJhsXXXXXbVXpXXXXXXXXXX_!!2772909590.jpg'/></div></div>"
      ],
      "text/plain": [
       "<IPython.core.display.HTML object>"
      ]
     },
     "metadata": {},
     "output_type": "display_data"
    }
   ],
   "source": [
    "for k,v in chairs.items():\n",
    "    print('предполагаемая категория: ', colored(k, 'red'))\n",
    "    for _v in v:\n",
    "        print('номер категории: ', _v)\n",
    "        displayCategoryExamples(12, _v)"
   ]
  },
  {
   "cell_type": "code",
   "execution_count": null,
   "metadata": {},
   "outputs": [],
   "source": []
  }
 ],
 "metadata": {
  "kernelspec": {
   "display_name": "Python 3",
   "language": "python",
   "name": "python3"
  },
  "language_info": {
   "codemirror_mode": {
    "name": "ipython",
    "version": 3
   },
   "file_extension": ".py",
   "mimetype": "text/x-python",
   "name": "python",
   "nbconvert_exporter": "python",
   "pygments_lexer": "ipython3",
   "version": "3.8.5"
  }
 },
 "nbformat": 4,
 "nbformat_minor": 4
}
